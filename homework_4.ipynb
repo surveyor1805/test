{
  "nbformat": 4,
  "nbformat_minor": 0,
  "metadata": {
    "colab": {
      "provenance": []
    },
    "kernelspec": {
      "name": "python3",
      "display_name": "Python 3"
    },
    "language_info": {
      "name": "python"
    }
  },
  "cells": [
    {
      "cell_type": "code",
      "execution_count": 25,
      "metadata": {
        "id": "ljExEUBgN1xp"
      },
      "outputs": [],
      "source": [
        "import pandas as pd\n",
        "import numpy as np\n",
        "import matplotlib.pyplot as plt\n",
        "import seaborn as sns\n",
        "import plotly.express as px"
      ]
    },
    {
      "cell_type": "code",
      "source": [
        "!ls"
      ],
      "metadata": {
        "id": "sEkc5nQ6OwtX"
      },
      "execution_count": null,
      "outputs": []
    },
    {
      "cell_type": "code",
      "source": [
        "%cd drive/MyDrive"
      ],
      "metadata": {
        "id": "Kx4ZdO9hOzeG"
      },
      "execution_count": null,
      "outputs": []
    },
    {
      "cell_type": "code",
      "source": [
        "!ls\n"
      ],
      "metadata": {
        "id": "8PjOqrRMO7_g"
      },
      "execution_count": null,
      "outputs": []
    },
    {
      "cell_type": "code",
      "source": [
        "df = pd.read_csv(\"train.csv\")\n",
        "df.head()"
      ],
      "metadata": {
        "id": "w-0daHHAO9xT"
      },
      "execution_count": null,
      "outputs": []
    },
    {
      "cell_type": "code",
      "source": [
        "x1 = df['Survived'][df['Survived'] == 1]\n",
        "x2 = df['Survived'][df['Survived'] == 0]\n",
        "fig, ax = plt.subplots()\n",
        "ax.hist(x1, color='blue', edgecolor='black', label='Survived')\n",
        "ax.hist(x2, color='red', edgecolor='black', label='Not Survived')\n",
        "plt.title('Распределение значений Survived')\n",
        "plt.xlabel('Survived INFO')\n",
        "plt.ylabel('Количество пассажиров')\n",
        "plt.legend(title = 'Legend', labels = ['Survived', 'Not Survived'])"
      ],
      "metadata": {
        "id": "Z4NkujrVdPfM"
      },
      "execution_count": null,
      "outputs": []
    },
    {
      "cell_type": "code",
      "source": [
        "x1 = df['Pclass'][df['Pclass'] == 1]\n",
        "x2 = df['Pclass'][df['Pclass'] == 2]\n",
        "x3 = df['Pclass'][df['Pclass'] == 3]\n",
        "fig, ax = plt.subplots()\n",
        "ax.hist(x1, color='blue', edgecolor='black', label='Class 1')\n",
        "ax.hist(x2, color='red', edgecolor='black', label='Class 2')\n",
        "ax.hist(x3, color='yellow', edgecolor='black', label='Class 3')\n",
        "plt.title('Распределение значений Pclass')\n",
        "plt.xlabel('Pclass INFO')\n",
        "plt.ylabel('Количество пассажиров')\n",
        "plt.legend(title = 'Legend', labels = ['Class 1', 'Class 2', 'Class 3'])"
      ],
      "metadata": {
        "id": "OwCZZgrtjilI"
      },
      "execution_count": null,
      "outputs": []
    },
    {
      "cell_type": "code",
      "source": [
        "x = df['Age']\n",
        "fig, ax = plt.subplots()\n",
        "ax.hist(x, color='blue', edgecolor='black', label='Age')\n",
        "plt.title('Распределение значений Age')\n",
        "plt.xlabel('Возраст')\n",
        "plt.ylabel('Количество пассажиров')\n",
        "plt.legend(title = 'Legend', labels = ['Age'])"
      ],
      "metadata": {
        "id": "zPIZrSaNj9sX"
      },
      "execution_count": null,
      "outputs": []
    },
    {
      "cell_type": "code",
      "source": [
        "x1 = df['Sex'][df['Sex'] == \"male\"]\n",
        "x2 = df['Sex'][df['Sex'] == \"female\"]\n",
        "fig, ax = plt.subplots()\n",
        "ax.hist(x1, color='blue', edgecolor='black', label='male')\n",
        "ax.hist(x2, color='red', edgecolor='black', label='female')\n",
        "plt.title('Распределение значений Sex')\n",
        "plt.xlabel('Sex INFO')\n",
        "plt.ylabel('Количество пассажиров')\n",
        "plt.legend(title = 'Legend', labels = ['Male', 'Female'])"
      ],
      "metadata": {
        "id": "lUvhx3JFkowh"
      },
      "execution_count": null,
      "outputs": []
    },
    {
      "cell_type": "code",
      "source": [
        "x = df['Parch']\n",
        "fig, ax = plt.subplots()\n",
        "ax.hist(x, color='blue', edgecolor='black', label='Parch')\n",
        "plt.title('Распределение значений Parch')\n",
        "plt.xlabel('Parch')\n",
        "plt.ylabel('Количество пассажиров')\n",
        "plt.legend(title = 'Legend', labels = ['Parch'])"
      ],
      "metadata": {
        "id": "ELJxv-rLk_P3"
      },
      "execution_count": null,
      "outputs": []
    },
    {
      "cell_type": "code",
      "source": [
        "sns.boxplot(df['Age'])\n",
        "plt.title('График Распределения возраста')\n",
        "plt.xlabel('Количество пассажиров')\n",
        "plt.ylabel('Возраст, Лет')"
      ],
      "metadata": {
        "id": "RvNcNwXppRAY"
      },
      "execution_count": null,
      "outputs": []
    },
    {
      "cell_type": "markdown",
      "source": [
        "По графику распределения возраста можем понять, что 50 % всех пассажиров на корабле были в возрасте от 20 до 38 лет. Возрастная медиана приблизительно 28 или 29 лет, то есть 50% пассажиров были старше и 50% пассажиров были младше этого возраста.\n",
        "\n",
        "IQR = 18\n",
        "\n",
        "Minimum = 20 - 18*1,5 = -7 (0)\n",
        "\n",
        "Maximum = 38 + 18*1,5 = 65\n",
        "\n",
        "'>65 - Выбросы"
      ],
      "metadata": {
        "id": "IJor2JTvqE2-"
      }
    },
    {
      "cell_type": "code",
      "source": [
        "label = df.groupby('Pclass')['Survived'].value_counts().keys()\n",
        "value = df.groupby('Pclass')['Survived'].value_counts()\n",
        "fig, ax = plt.subplots()\n",
        "ax.pie(value, labels = label, autopct='%1.1f%%')\n",
        "plt.title('PieChart Выживших по Классам')\n",
        "plt.legend(title = 'Legend', labels = ['1cl Survived', '1cl Not Survived', '2cl Not Survived', '2cl Survived', '3cl Not Survived', '3cl Survived'], bbox_to_anchor=(1, 0.5))\n",
        "plt.show()"
      ],
      "metadata": {
        "id": "SpJnEBPk8fA5"
      },
      "execution_count": null,
      "outputs": []
    },
    {
      "cell_type": "code",
      "source": [
        "sns.pairplot(df)\n",
        "plt.title('PairPlot по всем числовым значениям Dataframe')"
      ],
      "metadata": {
        "id": "g2myn-uUn_qJ"
      },
      "execution_count": null,
      "outputs": []
    },
    {
      "cell_type": "code",
      "source": [
        "data = dict(\n",
        "    categories = ['Total', 'Pclass = 1', 'Pclass = 2', 'Pclass = 3', 'Male1', 'Female1', 'Male2', 'Female2', 'Male3', 'Female3'],\n",
        "    parent = ['', 'Total', 'Total', 'Total', 'Pclass = 1', 'Pclass = 1', 'Pclass = 2', 'Pclass = 2', 'Pclass = 3', 'Pclass = 3'],\n",
        "    value = [len(df), len(df[(df['Pclass'] == 1)]), len(df[(df['Pclass'] == 2)]), len(df[(df['Pclass'] == 3)]),\n",
        "             len(df[(df['Pclass'] == 1) & (df['Sex'] == 'male')]), len(df[(df['Pclass'] == 1) & (df['Sex'] == 'female')]),\n",
        "             len(df[(df['Pclass'] == 2) & (df['Sex'] == 'male')]), len(df[(df['Pclass'] == 2) & (df['Sex'] == 'female')]),\n",
        "             len(df[(df['Pclass'] == 3) & (df['Sex'] == 'male')]), len(df[(df['Pclass'] == 3) & (df['Sex'] == 'female')])]\n",
        ")\n",
        "\n",
        "fig = px.sunburst(data, names = 'categories', parents = 'parent', values = 'value', branchvalues = 'total')\n",
        "fig.show()"
      ],
      "metadata": {
        "id": "HjO9Xp_Aos5Z"
      },
      "execution_count": null,
      "outputs": []
    }
  ]
}