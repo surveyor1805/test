{
  "nbformat": 4,
  "nbformat_minor": 0,
  "metadata": {
    "colab": {
      "provenance": []
    },
    "kernelspec": {
      "name": "python3",
      "display_name": "Python 3"
    },
    "language_info": {
      "name": "python"
    }
  },
  "cells": [
    {
      "cell_type": "code",
      "source": [
        "!pip install requests\n",
        "!pip install beautifulsoup4"
      ],
      "metadata": {
        "colab": {
          "base_uri": "https://localhost:8080/"
        },
        "id": "hqb2yeicu_nt",
        "outputId": "259ac7d3-69e0-4738-e442-a47a99119011"
      },
      "execution_count": 1,
      "outputs": [
        {
          "output_type": "stream",
          "name": "stdout",
          "text": [
            "Requirement already satisfied: requests in /usr/local/lib/python3.10/dist-packages (2.31.0)\n",
            "Requirement already satisfied: charset-normalizer<4,>=2 in /usr/local/lib/python3.10/dist-packages (from requests) (3.3.2)\n",
            "Requirement already satisfied: idna<4,>=2.5 in /usr/local/lib/python3.10/dist-packages (from requests) (3.7)\n",
            "Requirement already satisfied: urllib3<3,>=1.21.1 in /usr/local/lib/python3.10/dist-packages (from requests) (2.0.7)\n",
            "Requirement already satisfied: certifi>=2017.4.17 in /usr/local/lib/python3.10/dist-packages (from requests) (2024.2.2)\n",
            "Requirement already satisfied: beautifulsoup4 in /usr/local/lib/python3.10/dist-packages (4.12.3)\n",
            "Requirement already satisfied: soupsieve>1.2 in /usr/local/lib/python3.10/dist-packages (from beautifulsoup4) (2.5)\n"
          ]
        }
      ]
    },
    {
      "cell_type": "code",
      "source": [
        "import requests\n",
        "from bs4 import BeautifulSoup"
      ],
      "metadata": {
        "id": "bfQhsVIdvww3"
      },
      "execution_count": 2,
      "outputs": []
    },
    {
      "cell_type": "markdown",
      "source": [
        "Парсинг ссылок с первой страницы https://lifehacker.ru/topics/technology\n",
        "\n",
        "Так как все ссылки в рубрике технологии имеют формат вида lifehacker.ru/*some_news*, примем за base_url - lifehacker.ru, *some_news* - уникальная ссылка на материал"
      ],
      "metadata": {
        "id": "JYTQOTS37Lgy"
      }
    },
    {
      "cell_type": "code",
      "source": [
        "base_url = 'https://lifehacker.ru'\n",
        "response = requests.get('https://lifehacker.ru/topics/technology').text\n",
        "soup = BeautifulSoup(response, 'lxml')"
      ],
      "metadata": {
        "id": "bFRZrRLdwtm4"
      },
      "execution_count": 3,
      "outputs": []
    },
    {
      "cell_type": "markdown",
      "source": [
        "В среде разработки https://lifehacker.ru/topics/technology ссылки на материалы содержатся в 'href' под идентификатором 'a' и классом 'lh-small-article-card__link'."
      ],
      "metadata": {
        "id": "hY1UsNYK_0jw"
      }
    },
    {
      "cell_type": "code",
      "source": [
        "raw_items = soup.find_all('a', class_='lh-small-article-card__link')\n",
        "links = [item.get('href') for item in raw_items]\n",
        "links"
      ],
      "metadata": {
        "id": "8jfRKoKSye-k",
        "colab": {
          "base_uri": "https://localhost:8080/"
        },
        "outputId": "94ced8e2-89b6-488c-e3a3-4074ae76a97d"
      },
      "execution_count": 5,
      "outputs": [
        {
          "output_type": "execute_result",
          "data": {
            "text/plain": [
              "['/reklama-v-puske-teper-u-vsex/',\n",
              " '/funkcii-windows-net-na-mac/',\n",
              " '/apple-provedet-prezentaciyu-7-maya/',\n",
              " '/2gis-vernulos-v-google-play/',\n",
              " '/usilitel-signala-wi-fi/?erid=25H8d7vbP8SRTvJ4Q27doN',\n",
              " '/svyaz-s-voyadzherom-1-vosstanovili/',\n",
              " '/iphone-16-mozhet-lishitsya-fizicheskix-knopok/',\n",
              " '/umnye-chasy-s-ekg/?erid=25H8d7vbP8SRTvJ4Q27doN',\n",
              " '/vzlom-telegram-ot-sluzhby-podderzhki/',\n",
              " '/apple-pay-ne-zarabotaet-v-rossii/',\n",
              " '/besplatnye-graficheskie-redaktory/',\n",
              " '/emulyator-provenance-poyavitsya-v-app-store/',\n",
              " '/otparivatel/?erid=25H8d7vbP8SRTvJ4Q27doN',\n",
              " '/predstavlen-huawei-matebook-x-pro/',\n",
              " '/napominaniya-google-keep-nakonec-to-poyavyatsya-v-zadachax-i-kalendare/',\n",
              " '/predstavlena-ii-klipsa-pendant/',\n",
              " '/dostavka-iz-kosmosa-sierra-space/',\n",
              " '/predstavleny-naushniki-nothing-ear/',\n",
              " '/missiya-dragonfly-na-sputnik-titan/',\n",
              " '/huawei-pura-70-anons/',\n",
              " '/pravilo-zashhity-dannyx-3-2-1/',\n",
              " '/predstavleny-audioochki-yinyue-fan/',\n",
              " '/dlya-samyx-krutyx-snimkov-kanal-tech-spurt-vybral-12-luchshix-kamerofonov-v-2024-godu/',\n",
              " '/predstavleno-novoe-pokolenie-atlas/',\n",
              " '/predstavleny-naushniki-marshall-major-v/',\n",
              " '/pochemu-ya-pereplachivayu-za-iphone/',\n",
              " '/pamyat-iphone-16-pro-uvelichitsya/',\n",
              " '/v-whatsapp-poyavilis-filtry/',\n",
              " '/robot-atlas-zavershil-kareru/',\n",
              " '/predstavlen-motorola-edge-50-ultra/']"
            ]
          },
          "metadata": {},
          "execution_count": 5
        }
      ]
    },
    {
      "cell_type": "markdown",
      "source": [
        "Парсинг ссылок со второй по десятую страницы https://lifehacker.ru/topics/technology"
      ],
      "metadata": {
        "id": "8OkqlB4n7UDe"
      }
    },
    {
      "cell_type": "code",
      "source": [
        "parsed_urls = []"
      ],
      "metadata": {
        "id": "tBzkvdW050UZ"
      },
      "execution_count": 6,
      "outputs": []
    },
    {
      "cell_type": "code",
      "source": [
        "for page_num in range(2, 11):\n",
        "  url = f'{base_url}/topics/technology/?page={page_num}'\n",
        "  response = requests.get(url)\n",
        "  soup = BeautifulSoup(response.text, 'lxml')\n",
        "  raw_items = soup.find_all('a', class_='lh-small-article-card__link')\n",
        "  parsed_urls += [item.get('href') for item in raw_items]"
      ],
      "metadata": {
        "id": "d3H9J3EJ41Zi"
      },
      "execution_count": 7,
      "outputs": []
    },
    {
      "cell_type": "code",
      "source": [
        "parsed_urls"
      ],
      "metadata": {
        "colab": {
          "base_uri": "https://localhost:8080/"
        },
        "id": "yv8waDt957iC",
        "outputId": "b994e658-5fc4-481b-d32a-9c7510b0205d"
      },
      "execution_count": 8,
      "outputs": [
        {
          "output_type": "execute_result",
          "data": {
            "text/plain": [
              "['/ii-v-ios-18-budet-lokalnym/',\n",
              " '/gravitacionnye-anomalii-okolo-solnca/',\n",
              " '/prekraschenie-podderzhki-office-2016-i-office-2019/',\n",
              " '/sliv-anonsov-ustrojstv-samsung/',\n",
              " '/problemy-dostavki-marsianskoj-porody/',\n",
              " '/fajlovye-menedzhery-dlya-android-tv/',\n",
              " '/sony-ps5-xarakteristiki/',\n",
              " '/smartfony-samsung-v-1-kvartale-2024-goda/',\n",
              " '/razdrazhayushhie-funkcii-iphone/',\n",
              " '/yaponiya-postroit-lunnyj-avtomobil/',\n",
              " '/xiaomi-umnoe-kolco-black-shark/',\n",
              " '/doverie-iskusstvennomu-intellektu/',\n",
              " '/v-telegram-sdelat-stiker/',\n",
              " '/byudzhetnye-umnye-chasy/?erid=25H8d7vbP8SRTvJ4Q27doN',\n",
              " '/predstavlen-ssd-nakopitel-ultrastar-transporter/',\n",
              " '/mac-pro-s-m4-vyjdet-v-2025/',\n",
              " '/dostup-k-zakladkam-v-chrome-izmenilsya/',\n",
              " '/samsung-rasshirit-rasprostranenie-galaxy-ai/',\n",
              " '/acloset/',\n",
              " '/v-puske-poyavitsya-reklama/',\n",
              " '/bystraya-zaryadka-v-smartfone/?erid=25H8d7vbP8SRTvJ4Q27doN',\n",
              " '/google-zapuskaet-chrome-enterprise-premium/',\n",
              " '/na-youtube-poyavitsya-ogranichenie-kommentariev/',\n",
              " '/predstavleny-xiaomi-open-earphones/',\n",
              " '/v-galaxy-ai-poyavilsya-russkij-yazyk/',\n",
              " '/angara-a5-startovala-s-vostochnogo/',\n",
              " '/ii-perevodchik/',\n",
              " '/neobychnyj-obekt-na-snimke-luny/',\n",
              " '/problemy-android/',\n",
              " '/redmi-pad-pro-po-garri-potteru/',\n",
              " '/volshebnyj-lastik-google-foto-dlya-vsex/',\n",
              " '/nazvany-samye-populyarnye-smartfony-2023/',\n",
              " '/predstavlen-redmi-turbo-3/',\n",
              " '/sensor-matrica-kamery-v-smartfone/',\n",
              " '/zhidkij-metamaterial/',\n",
              " '/imagefx/',\n",
              " '/predstavlen-smartfon-nubia-flip/',\n",
              " '/novyj-dizajn-yandeks-muzyki/',\n",
              " '/problemy-s-ustanovkoj-windows-11-24h2/',\n",
              " '/predstavlena-klaviatura-pro-x-60/',\n",
              " '/obzor-honor-magic6-pro/',\n",
              " '/besplatnye-opredeliteli-nomera-android/',\n",
              " '/google-set-find-my-device/',\n",
              " '/monoblok-samsung-all-in-one-pro/',\n",
              " '/zapret-parallelnogo-importa-smartfonov-planshetov-i-noutbukov/',\n",
              " '/android-15-novyj-rezhim-rabochego-stola/',\n",
              " '/fotoredaktory-dlya-linux/',\n",
              " '/ssd-dlya-ps5/?erid=25H8d7vbP8SRTvJ4Q27doN',\n",
              " '/skoro-vyjdut-galaxy-watch-fe/',\n",
              " '/smartfony-bez-obnovlenij-xiaomi/',\n",
              " '/pochemu-nenavidyat-apple/',\n",
              " '/v-android-poyavitsya-skrytyj-profil/',\n",
              " '/zamedlenie-zaryadki-smartfonov-samsung/',\n",
              " '/smart-band-9-skoro-vyjdet/',\n",
              " '/rabota-s-chatgpt/',\n",
              " '/predstavlen-tecno-pova-6/',\n",
              " '/nasa-i-lunnyj-avtomobil/',\n",
              " '/domashnie-roboty-apple/',\n",
              " '/platnye-obnovleniya-windows-10/',\n",
              " '/smartfony-marta-2024/',\n",
              " '/predstavlen-xiaomi-tv-s85-mini-led/',\n",
              " '/samye-populyarnye-brauzery-v-rossii/',\n",
              " '/prilozheniya-ios-mart-2024/',\n",
              " '/predstavlen-realme-12x-5g/',\n",
              " '/avtonomnost-flagmanskix-smartfonov-proverili/',\n",
              " '/obnovlenie-do-hyperos-vo-vtorom-kvartale/',\n",
              " '/populyarnost-windows-10-vyrosla/',\n",
              " '/chatgpt-ispolzovat-bez-registracii/',\n",
              " '/prilozheniya-android-mart-2024/',\n",
              " '/neochevidnye-funkcii-gmail/',\n",
              " '/kak-uskorit-rabotu-noutbuka/',\n",
              " '/telegram-dlya-biznesa/',\n",
              " '/free-up-space-on-iphone-ipad/',\n",
              " '/predstavlen-basio-active-2/',\n",
              " '/v-chrome-poyavitsya-arxiv-vkladok/',\n",
              " '/kak-vybrat-stiralnuyu-mashinu/?erid=25H8d7vbP8SRTvJ4Q27doN',\n",
              " '/anonsirovana-rossijskaya-konsol-playspace/',\n",
              " '/xiaomi-predstavila-umnuyu-elektrobritvu/',\n",
              " '/steam-v-distributivax-linux/',\n",
              " '/predstavlen-samsung-galaxy-m55/',\n",
              " '/predstavlena-besprovodnaya-rozetka/',\n",
              " '/rossijskaya-konsol-10-let/',\n",
              " '/lampa-dlya-monitora/?erid=25H8d7vbP8SRTvJ4Q27doN',\n",
              " '/flagman-google-pixel-9-vyjdet-v-tryox-razmerax/',\n",
              " '/v-set-slili-dizajn-iphone-16/',\n",
              " '/samsung-pay-zapretit-karty-mir/',\n",
              " '/preimushhestva-provodnyx-naushnikov/',\n",
              " '/apple-anonsirovala-wwdc-2024/',\n",
              " '/kak-skinut-geolokaciyu/',\n",
              " '/zheleznaya-doroga-dlya-lunnoj-bazy/',\n",
              " '/windows-formatirovanie-30-let/',\n",
              " '/predstavlen-fitnet-huawei-band-9/',\n",
              " '/ios-18-raspolozhenie-znachkov/',\n",
              " '/galaxy-watch-7-tri-versii/',\n",
              " '/emodzi-status-dlya-telegram/',\n",
              " '/migo-robotics-robot-pylesos/',\n",
              " '/microsoft-copilot/',\n",
              " '/smartfon-oneplus-ace-3v/',\n",
              " '/apple-razdel-na-sajte-s-dokumentaciej/',\n",
              " '/platnye-podpiski-v-messendzherax/',\n",
              " '/openai-gotovitsya-k-vypusku-gpt-5/',\n",
              " '/microsoft-vypustit-office-2024/',\n",
              " '/nejroseti-dlya-dizajna-interera/',\n",
              " '/obshhenie-s-iskusstvennym-intellektom/',\n",
              " '/microsoft-zakroet-dostup-k-office-365-teams-i-one-drive/',\n",
              " '/predstavlen-honor-band-9/',\n",
              " '/fen-dyson-supersonic-nural/',\n",
              " '/kak-sdelat-krossvord-v-word/',\n",
              " '/veb-versiya-google-diska-temnaya-tema/',\n",
              " '/chto-apple-watch-umeyut-bez-iphone/',\n",
              " '/pravila-pokupki-noutbuka/?erid=LjN8Jv3JY',\n",
              " '/playstation-5-pro-v-razy-bystree-bazovoj/',\n",
              " '/airpods-4-v-dvux-versiyax/',\n",
              " '/videopleery-dlya-android-tv/',\n",
              " '/asus-zenfone-11-ultra-anons/',\n",
              " '/poco-x6-neo/',\n",
              " '/utechka-dannyx-cherez-ustrojstva/',\n",
              " '/openai-i-figure-sdelali-robota/',\n",
              " '/android-wallpapers-apps/',\n",
              " '/mele-pcg02-pro-mini-pk/',\n",
              " '/chasy-samsung-galaxy-watch-7-pryamougolnyj-ekran/',\n",
              " '/kak-zablokirovat-cheloveka-v-tiktok/',\n",
              " '/apple-razreshit-zagruzku-ios-prilozhenij-s-veb-sajtov/',\n",
              " '/problemy-umnogo-doma/',\n",
              " '/samsung-galaxy-a35-i-a55-anons/',\n",
              " '/kak-ustanovit-ms-office-v-linux/',\n",
              " '/kak-skryt-prilozheniya-na-iphone/',\n",
              " '/chertezhi-iphone-16-pro/',\n",
              " '/rezhim-babushki-iphone/',\n",
              " '/pochemu-manjaro-luchshe-ubuntu/',\n",
              " '/predstavlena-neubivaemaya-myshka-vent/',\n",
              " '/kak-vybrat-televizor/?erid=25H8d7vbP8SRTvJ4Q27doN',\n",
              " '/predstavlen-koncept-noutbuka-dualflip/',\n",
              " '/eti-professii-zamenyat-nejroseti/',\n",
              " '/nejroset-looka/',\n",
              " '/ghtlcnfdkty-realme-12-5g/',\n",
              " '/predstavlen-probe-treker-dlya-rybalki/',\n",
              " '/skolko-mesta-na-fleshke-i-diske/',\n",
              " '/predstavleno-smart-kolco-ringo/',\n",
              " '/otmena-podderzhki-android-na-windows-11/',\n",
              " '/kak-proverit-dyson-na-originalnost/',\n",
              " '/predstavlen-ventilyator-xiaomi-mijia/',\n",
              " '/predstavlen-nothing-phone-2a/',\n",
              " '/predstavlen-kovrik-amazfit/',\n",
              " '/samsung-galaxy-s24-ultra-foto-iz-strasosfery/',\n",
              " '/podrobnosti-pro-novyj-flagman-xiaomi-15-pro/',\n",
              " '/servisy-prilozheniya-dlya-sozdaniya-rezyume/',\n",
              " '/apple-novye-13-i-15-macbook-air-m3/',\n",
              " '/apple-vtoroe-mesto-po-onlajn-prodazham-smartfonov-v-rf/',\n",
              " '/rasshireniya-safari-dlya-mac/',\n",
              " '/novye-modeli-ipad-i-macbook-air-6-marta/',\n",
              " '/smartfony-fevralya-2024/',\n",
              " '/top-smartfonov-fevralya-po-moshhnosti/',\n",
              " '/prilozheniya-android-fevral-2024/',\n",
              " '/rasshireniya-v-veb-panelyax-vivaldi/',\n",
              " '/hp-zapustila-podpisku-na-printery/',\n",
              " '/populyarnye-iphone-u-polzovatelej-android/',\n",
              " '/microsoft-obnovlenie-windows-11-copilot/',\n",
              " '/oppo-watch-x-smart-chasy/',\n",
              " '/prilozheniya-ios-fevral-2024/',\n",
              " '/sovmestimost-galaxy-ring/',\n",
              " '/pawswing-domik-dlya-vychyosyvaniya/',\n",
              " '/v-android-poyavitsya-polar-id/',\n",
              " '/xiaomi-sboj-v-rossii/',\n",
              " '/tecno-megabook-t16-pro-2024-ultra/',\n",
              " '/vybran-luchshij-smartfon-2023-goda/',\n",
              " '/xiaomi-bluetooth-speaker-mini-anons/',\n",
              " '/windows-11-problema-s-obnovleniem/',\n",
              " '/televizor-dlya-ps5-xbox/?erid=25H8d7vbP8SRTvJ4Q27doN',\n",
              " '/gde-v-windows-diski-a-b/',\n",
              " '/telegram-nachnyot-platit-za-reklamu/',\n",
              " '/utechka-ios-18-sovmestimost/',\n",
              " '/zoom-prekratit-podderzhku-ios-12/',\n",
              " '/teplovizory-dlya-smartfona/?erid=Kra2449mN',\n",
              " '/samsung-koncept-gibkogo-smartfona/',\n",
              " '/apple-svorachivaet-razrabotku-mashiny-memy/',\n",
              " '/predstavlen-smartfon-nubia-music/',\n",
              " '/samsung-galaxy-ring-avtonomnost-i-cveta/',\n",
              " '/windows-mac-programmy-s-ii/',\n",
              " '/globalnye-xiaomi-pervymi-poluchat-hyperos/',\n",
              " '/sbpej-privet-udalili-iz-app-store/',\n",
              " '/oneplus-watch-2-anons/',\n",
              " '/voltschemer-gruppa-atak/',\n",
              " '/glava-nvidia-pro-programmistov/',\n",
              " '/xiaomi-watch-2-anons/',\n",
              " '/lenovo-noutbuk-s-prozrachnym-displeem/',\n",
              " '/audioredaktory/',\n",
              " '/poddelnye-airpods-v-tope-prodazh-2023-goda/',\n",
              " '/samsung-galaxy-ring-pervye-foto/',\n",
              " '/kak-pochistit-klaviaturu-macbook/',\n",
              " '/volshebnyj-lastik-poyavilsya-v-windows/',\n",
              " '/va-ili-ips-chto-luchshe/',\n",
              " '/pomogi-mne-napisat-v-chrome/',\n",
              " '/predstavlen-xiaomi-pad-6s-pro/',\n",
              " '/predstavlen-xiaomi-14-ultra/',\n",
              " '/predstavlen-huawei-pocket-2/',\n",
              " '/nejroseti-dlya-ozhivleniya-foto/',\n",
              " '/fitnes-braslet-samsung-galaxy-fit-3-anons/',\n",
              " '/prinuditelnoe-obnovlenie-pk-do-windows-11-23h2/',\n",
              " '/predstavleny-garmin-forerunner-165/',\n",
              " '/predstavlen-acer-swift-edge-16/',\n",
              " '/insajder-raskryl-fishki-ipad-2024/',\n",
              " '/telegram-premium-besplatno-za-sms/',\n",
              " '/artbreeder/',\n",
              " '/fotografy-gejmery-i-studenty-kto-ocenit-smartfony-linejki-tecno-spark-20/?erid=LjN8KRwr3',\n",
              " '/galaxy-ring-beskontatknye-platezhi/',\n",
              " '/nazvany-samye-prozhorlivye-prilozheniya/',\n",
              " '/krazha-otpechatkov-palcev-printlistener/',\n",
              " '/windows-12-mobile-koncept/',\n",
              " '/nothing-phone-2a-s-rassekretili-do-anonsa/',\n",
              " '/google-dokumenty-panel-formatirovaniya-na-android/',\n",
              " '/casio-perevypustila-casiotron/',\n",
              " '/airpods-4-i-airpods-max-2/',\n",
              " '/kakie-ustrojstva-samsung-poluchat-android-15/',\n",
              " '/flagmanskij-kamerofon-xiaomi-14-ultra-i-planshet-pad-6s-pro-pokazali-na-tizerax/',\n",
              " '/v-rossii-ceny-na-iphone-samye-nizkie/',\n",
              " '/kak-sozdat-vtoroj-akkaunt-v-telegram/',\n",
              " '/novyj-reliz-nintendo-switch-2/',\n",
              " '/predstavlen-lenovo-yoga-book-9/',\n",
              " '/obzor-huawei-freeclip/',\n",
              " '/vyshla-pervaya-beta-android-15/',\n",
              " '/naushniki-ultra-open-earbuds/',\n",
              " '/obnaruzhen-voruyushhij-skany-lica-virus/',\n",
              " '/predstavleny-honor-choice-watch/',\n",
              " '/apple-prosit-ne-sushit-iphone-v-rise/',\n",
              " '/microsoft-rabotaet-nad-novoj-xbox/',\n",
              " '/apple-otklyuchit-veb-prilozheniya-ios-v-evrope/',\n",
              " '/tecno-mega-mini-m1-obzor/',\n",
              " '/openai-nejroset-sora-video-po-tekstu/',\n",
              " '/v-gruppax-v-telegram-poyavilis-busty/',\n",
              " '/xarakteristiki-ps5-pro/',\n",
              " '/obzor-honor-magic-v2/',\n",
              " '/stable-cascade-anons/',\n",
              " '/chrome-bezopasnost-konfidencialnost/',\n",
              " '/predstavlen-redmi-a3/',\n",
              " '/samsung-vypustit-smartfon-garmoshku/',\n",
              " '/v-shatgpt-dobavili-pamyat/',\n",
              " '/5-sposobov-raspoznavaniya-muzyki/',\n",
              " '/pervaya-versiya-android-15-data-vyxoda/',\n",
              " '/nvidia-chat-with-rtx/',\n",
              " '/obnovlenie-windows-11-24h2-ne-rabotaet/',\n",
              " '/avtonomnost-galaxy-s24-ultra-i-iphone-15-pro-max/',\n",
              " '/yandeks-brauzer-nejroseti/',\n",
              " '/sozdanie-video-s-pomoshhyu-nejroseti/',\n",
              " '/alternativy-ms-office-dlya-linux/',\n",
              " '/xiaomi-watch-2-rendery/',\n",
              " '/android-15-babushkin-rezhim/',\n",
              " '/xiaomi-pad-6s-pro-xarakteristiki/',\n",
              " '/chem-otkryt-format-dcm/',\n",
              " '/obnovlenie-ios-18/',\n",
              " '/slili-xarakteristiki-xiaomi-14-ultra/',\n",
              " '/predstavleny-moto-watch-40/',\n",
              " '/nazvany-luchshie-nedorogie-telefony/',\n",
              " '/iz-windows-11-uberut-pochtu/',\n",
              " '/predstavleny-ar-ochki-frame/',\n",
              " '/zarabotok-v-metavselennyx/',\n",
              " '/dyson-supersonic-r-anons/',\n",
              " '/stoit-li-sobirat-pk/',\n",
              " '/lenovo-noutbuk-s-prozrachnym-ekranom/',\n",
              " '/novye-rendery-iphone-16/',\n",
              " '/nazvany-samye-prodavaemye-mobilniki/',\n",
              " '/kak-vosstanovit-vkladki-v-brauzere/',\n",
              " '/resurs-akkumulyatora-smartfona/?erid=LjN8KHUmo',\n",
              " '/apple-aktivno-razrabatyvaet-iphone-raskladushku-i-skladnoj-8-dyujmovyj-ipad/',\n",
              " '/vr-ochki-i-problemy-so-zdorovem/',\n",
              " '/obzor-xgimi-mogo-2-pro/',\n",
              " '/redmi-monitor-g-pro-27-anons/',\n",
              " '/kak-proverit-apple-watch-na-originalnost/',\n",
              " '/obnovlenie-smartfonov-oneplus/',\n",
              " '/okno-dlya-bystrogo-otveta-v-gmail/']"
            ]
          },
          "metadata": {},
          "execution_count": 8
        }
      ]
    },
    {
      "cell_type": "code",
      "source": [
        "len(parsed_urls)"
      ],
      "metadata": {
        "colab": {
          "base_uri": "https://localhost:8080/"
        },
        "id": "3EF3p8d67xvu",
        "outputId": "5445e298-97d5-42be-a1b1-97f3646c7bbb"
      },
      "execution_count": 9,
      "outputs": [
        {
          "output_type": "execute_result",
          "data": {
            "text/plain": [
              "270"
            ]
          },
          "metadata": {},
          "execution_count": 9
        }
      ]
    },
    {
      "cell_type": "code",
      "source": [
        "len(links)"
      ],
      "metadata": {
        "colab": {
          "base_uri": "https://localhost:8080/"
        },
        "id": "FJ1JHNo470lX",
        "outputId": "754ed54c-cdd9-4765-8599-a174e8614b72"
      },
      "execution_count": 10,
      "outputs": [
        {
          "output_type": "execute_result",
          "data": {
            "text/plain": [
              "30"
            ]
          },
          "metadata": {},
          "execution_count": 10
        }
      ]
    },
    {
      "cell_type": "markdown",
      "source": [
        "Соединим два наших массива ссылок, чтобы получить общий массив с 1 по 10 страницы включительно"
      ],
      "metadata": {
        "id": "-3ALA8IAAQMI"
      }
    },
    {
      "cell_type": "code",
      "source": [
        "total_urls = links + parsed_urls\n",
        "len(total_urls)"
      ],
      "metadata": {
        "colab": {
          "base_uri": "https://localhost:8080/"
        },
        "id": "LJKlrZnY7YAf",
        "outputId": "ad287bce-b3dc-4b2c-df77-d970bc422833"
      },
      "execution_count": 11,
      "outputs": [
        {
          "output_type": "execute_result",
          "data": {
            "text/plain": [
              "300"
            ]
          },
          "metadata": {},
          "execution_count": 11
        }
      ]
    },
    {
      "cell_type": "code",
      "source": [
        "from tqdm import tqdm"
      ],
      "metadata": {
        "id": "6oegwhE-_pdJ"
      },
      "execution_count": 12,
      "outputs": []
    },
    {
      "cell_type": "markdown",
      "source": [
        "Полный html код каждого материала - f'{base_url}{url}'\n",
        "\n",
        "Заголовок из анализа страницы одного материала - \"лежит\" под идентификатором 'h1' и классом 'article-card__title'.\n",
        "\n",
        "Подзаголовок - под идентификатором 'div' и классом 'article-card__subtitle'.\n",
        "\n",
        "Текст статьи - в классе - контейнере 'single-article__post-content single-article__content-container'"
      ],
      "metadata": {
        "id": "56HTo-MzAed3"
      }
    },
    {
      "cell_type": "code",
      "source": [
        "result = []\n",
        "\n",
        "for url in tqdm(total_urls):\n",
        "  articles = {}\n",
        "\n",
        "  articles_url = f'{base_url}{url}'\n",
        "  response = requests.get(articles_url)\n",
        "  soup = BeautifulSoup(response.text, 'lxml')\n",
        "\n",
        "  articles['title'] = soup.find('h1', class_='article-card__title').text\n",
        "  articles['subtitle'] = soup.find('div', class_='article-card__subtitle').text\n",
        "  articles['text'] = soup.find(class_='single-article__post-content single-article__content-container').text\n",
        "\n",
        "  result.append(articles)"
      ],
      "metadata": {
        "colab": {
          "base_uri": "https://localhost:8080/"
        },
        "id": "Bq6j-tCg8Ltv",
        "outputId": "2026642d-bada-4268-b641-9186269481a7"
      },
      "execution_count": 14,
      "outputs": [
        {
          "output_type": "stream",
          "name": "stderr",
          "text": [
            "100%|██████████| 300/300 [06:58<00:00,  1.40s/it]\n"
          ]
        }
      ]
    },
    {
      "cell_type": "code",
      "source": [
        "import pandas as pd"
      ],
      "metadata": {
        "id": "NqLgbocU-8AF"
      },
      "execution_count": 16,
      "outputs": []
    },
    {
      "cell_type": "code",
      "source": [
        "pd.set_option('display.max_colwidth', 400)"
      ],
      "metadata": {
        "id": "3dMdPseL_Z0G"
      },
      "execution_count": 17,
      "outputs": []
    },
    {
      "cell_type": "markdown",
      "source": [
        "Создаем датафрейм из полученных данных"
      ],
      "metadata": {
        "id": "Rxbpgn5rBf2A"
      }
    },
    {
      "cell_type": "code",
      "source": [
        "data = pd.DataFrame(result)\n",
        "data.head()"
      ],
      "metadata": {
        "id": "f2fqc3X9_gWt",
        "colab": {
          "base_uri": "https://localhost:8080/",
          "height": 397
        },
        "outputId": "39a678db-679b-4a02-d674-afdfe3dcceb1"
      },
      "execution_count": 18,
      "outputs": [
        {
          "output_type": "execute_result",
          "data": {
            "text/plain": [
              "                                                                                 title  \\\n",
              "0                    Реклама в меню «Пуск» Windows 11 теперь будет отображаться у всех   \n",
              "1                                        6 функций Windows, которых не хватает в macOS   \n",
              "2                 Apple анонсировала «специальное мероприятие» 7 мая. Ждём новые iPad?   \n",
              "3  Спустя почти год «2ГИС» вернули в Google Play. Перейти к приложению можно по ссылке   \n",
              "4                                Зачем нужен усилитель сигнала Wi-Fi и как его выбрать   \n",
              "\n",
              "                                                                                          subtitle  \\\n",
              "0                                                                        Её можно легко отключить.   \n",
              "1                                          Найти альтернативу на Mac можно, но только с костылями.   \n",
              "2          Могут также представить Apple Pencil и клавиатуру Magic Keyboard следующего поколения.    \n",
              "3                                                               Сразу с четырьмя новыми функциями.   \n",
              "4  С помощью такого устройства можно просто и быстро расширить зону действия сети. Но есть нюансы.   \n",
              "\n",
              "                                                                                                                                                                                                                                                                                                                                                                                                              text  \n",
              "0  Microsoft приступила к распространению обновления KB5036980 для Windows 11, которое включает в том числе рекламу прямо в меню «Пуск». Теперь она будет отображаться у всех пользователей.Интересно, что корпорация начала тестировать эту «функцию» всего две недели назад, и тот факт, что она за такой короткий срок прошла путь от бета до выпуска, немало удивляет. К слову, официально её называют «рек...  \n",
              "1  При сравнениях Windows и macOS обычно выделяются функции, которые есть на Mac и не имеют альтернативы в экосистеме Microsoft. Но в Windows тоже есть фишки, которых в macOS не найти — по крайней мере, без установки стороннего ПО или ухищрений, неочевидных обычному пользователю. Я расскажу именно о таких функциях.1. Многооконный режимИллюстрация: Дарья Громова / ЛайфхакерВполне ожидаемо от систе...  \n",
              "2  Apple начала приглашать СМИ на «специальное мероприятие», которое пройдёт в виртуальном формате 7 мая. На пригласительной открытке изображён Apple Pencil. Это совершенно ясно даёт понять, что в центре внимания будут новые планшеты, пишет The Verge.Ранее различные источники сообщали, что iPad Pro получит некоторые из наиболее значимых улучшений со времён капитального ремонта в 2021 году, когда ...  \n",
              "3  Бесплатный картографический сервис «2ГИС» снова доступен в Google Play. Его не было в магазине Android почти год — с мая 2023 года.Чтобы загрузить приложение на устройство, достаточно просто найти его через поиск в маркетплейсе, а затем нажать кнопку «Установить». Если стандартный способ не работает, то скачать его можно по этой ссылке.  Мы очень признательны нашим пользователям: во время отсу...  \n",
              "4  Как работает усилитель сигнала Wi‑FiУсилитель сигнала принимает сигнал от роутера и тут же передаёт его дальше. При этом зона охвата сети расширяется так, будто в точке установки усилителя стоит ещё один роутер. Но, вопреки своему названию, устройство не может усилить слабый сигнал: какой приняло, такой и повторило (поэтому устройство ещё называют повторителем, или репитером).Изображение: TP‑L...  "
            ],
            "text/html": [
              "\n",
              "  <div id=\"df-6db58bf2-ac2f-4edc-8eac-b64875f7ecef\" class=\"colab-df-container\">\n",
              "    <div>\n",
              "<style scoped>\n",
              "    .dataframe tbody tr th:only-of-type {\n",
              "        vertical-align: middle;\n",
              "    }\n",
              "\n",
              "    .dataframe tbody tr th {\n",
              "        vertical-align: top;\n",
              "    }\n",
              "\n",
              "    .dataframe thead th {\n",
              "        text-align: right;\n",
              "    }\n",
              "</style>\n",
              "<table border=\"1\" class=\"dataframe\">\n",
              "  <thead>\n",
              "    <tr style=\"text-align: right;\">\n",
              "      <th></th>\n",
              "      <th>title</th>\n",
              "      <th>subtitle</th>\n",
              "      <th>text</th>\n",
              "    </tr>\n",
              "  </thead>\n",
              "  <tbody>\n",
              "    <tr>\n",
              "      <th>0</th>\n",
              "      <td>Реклама в меню «Пуск» Windows 11 теперь будет отображаться у всех</td>\n",
              "      <td>Её можно легко отключить.</td>\n",
              "      <td>Microsoft приступила к распространению обновления KB5036980 для Windows 11, которое включает в том числе рекламу прямо в меню «Пуск». Теперь она будет отображаться у всех пользователей.Интересно, что корпорация начала тестировать эту «функцию» всего две недели назад, и тот факт, что она за такой короткий срок прошла путь от бета до выпуска, немало удивляет. К слову, официально её называют «рек...</td>\n",
              "    </tr>\n",
              "    <tr>\n",
              "      <th>1</th>\n",
              "      <td>6 функций Windows, которых не хватает в macOS</td>\n",
              "      <td>Найти альтернативу на Mac можно, но только с костылями.</td>\n",
              "      <td>При сравнениях Windows и macOS обычно выделяются функции, которые есть на Mac и не имеют альтернативы в экосистеме Microsoft. Но в Windows тоже есть фишки, которых в macOS не найти — по крайней мере, без установки стороннего ПО или ухищрений, неочевидных обычному пользователю. Я расскажу именно о таких функциях.1. Многооконный режимИллюстрация: Дарья Громова / ЛайфхакерВполне ожидаемо от систе...</td>\n",
              "    </tr>\n",
              "    <tr>\n",
              "      <th>2</th>\n",
              "      <td>Apple анонсировала «специальное мероприятие» 7 мая. Ждём новые iPad?</td>\n",
              "      <td>Могут также представить Apple Pencil и клавиатуру Magic Keyboard следующего поколения.</td>\n",
              "      <td>Apple начала приглашать СМИ на «специальное мероприятие», которое пройдёт в виртуальном формате 7 мая. На пригласительной открытке изображён Apple Pencil. Это совершенно ясно даёт понять, что в центре внимания будут новые планшеты, пишет The Verge.Ранее различные источники сообщали, что iPad Pro получит некоторые из наиболее значимых улучшений со времён капитального ремонта в 2021 году, когда ...</td>\n",
              "    </tr>\n",
              "    <tr>\n",
              "      <th>3</th>\n",
              "      <td>Спустя почти год «2ГИС» вернули в Google Play. Перейти к приложению можно по ссылке</td>\n",
              "      <td>Сразу с четырьмя новыми функциями.</td>\n",
              "      <td>Бесплатный картографический сервис «2ГИС» снова доступен в Google Play. Его не было в магазине Android почти год — с мая 2023 года.Чтобы загрузить приложение на устройство, достаточно просто найти его через поиск в маркетплейсе, а затем нажать кнопку «Установить». Если стандартный способ не работает, то скачать его можно по этой ссылке.  Мы очень признательны нашим пользователям: во время отсу...</td>\n",
              "    </tr>\n",
              "    <tr>\n",
              "      <th>4</th>\n",
              "      <td>Зачем нужен усилитель сигнала Wi-Fi и как его выбрать</td>\n",
              "      <td>С помощью такого устройства можно просто и быстро расширить зону действия сети. Но есть нюансы.</td>\n",
              "      <td>Как работает усилитель сигнала Wi‑FiУсилитель сигнала принимает сигнал от роутера и тут же передаёт его дальше. При этом зона охвата сети расширяется так, будто в точке установки усилителя стоит ещё один роутер. Но, вопреки своему названию, устройство не может усилить слабый сигнал: какой приняло, такой и повторило (поэтому устройство ещё называют повторителем, или репитером).Изображение: TP‑L...</td>\n",
              "    </tr>\n",
              "  </tbody>\n",
              "</table>\n",
              "</div>\n",
              "    <div class=\"colab-df-buttons\">\n",
              "\n",
              "  <div class=\"colab-df-container\">\n",
              "    <button class=\"colab-df-convert\" onclick=\"convertToInteractive('df-6db58bf2-ac2f-4edc-8eac-b64875f7ecef')\"\n",
              "            title=\"Convert this dataframe to an interactive table.\"\n",
              "            style=\"display:none;\">\n",
              "\n",
              "  <svg xmlns=\"http://www.w3.org/2000/svg\" height=\"24px\" viewBox=\"0 -960 960 960\">\n",
              "    <path d=\"M120-120v-720h720v720H120Zm60-500h600v-160H180v160Zm220 220h160v-160H400v160Zm0 220h160v-160H400v160ZM180-400h160v-160H180v160Zm440 0h160v-160H620v160ZM180-180h160v-160H180v160Zm440 0h160v-160H620v160Z\"/>\n",
              "  </svg>\n",
              "    </button>\n",
              "\n",
              "  <style>\n",
              "    .colab-df-container {\n",
              "      display:flex;\n",
              "      gap: 12px;\n",
              "    }\n",
              "\n",
              "    .colab-df-convert {\n",
              "      background-color: #E8F0FE;\n",
              "      border: none;\n",
              "      border-radius: 50%;\n",
              "      cursor: pointer;\n",
              "      display: none;\n",
              "      fill: #1967D2;\n",
              "      height: 32px;\n",
              "      padding: 0 0 0 0;\n",
              "      width: 32px;\n",
              "    }\n",
              "\n",
              "    .colab-df-convert:hover {\n",
              "      background-color: #E2EBFA;\n",
              "      box-shadow: 0px 1px 2px rgba(60, 64, 67, 0.3), 0px 1px 3px 1px rgba(60, 64, 67, 0.15);\n",
              "      fill: #174EA6;\n",
              "    }\n",
              "\n",
              "    .colab-df-buttons div {\n",
              "      margin-bottom: 4px;\n",
              "    }\n",
              "\n",
              "    [theme=dark] .colab-df-convert {\n",
              "      background-color: #3B4455;\n",
              "      fill: #D2E3FC;\n",
              "    }\n",
              "\n",
              "    [theme=dark] .colab-df-convert:hover {\n",
              "      background-color: #434B5C;\n",
              "      box-shadow: 0px 1px 3px 1px rgba(0, 0, 0, 0.15);\n",
              "      filter: drop-shadow(0px 1px 2px rgba(0, 0, 0, 0.3));\n",
              "      fill: #FFFFFF;\n",
              "    }\n",
              "  </style>\n",
              "\n",
              "    <script>\n",
              "      const buttonEl =\n",
              "        document.querySelector('#df-6db58bf2-ac2f-4edc-8eac-b64875f7ecef button.colab-df-convert');\n",
              "      buttonEl.style.display =\n",
              "        google.colab.kernel.accessAllowed ? 'block' : 'none';\n",
              "\n",
              "      async function convertToInteractive(key) {\n",
              "        const element = document.querySelector('#df-6db58bf2-ac2f-4edc-8eac-b64875f7ecef');\n",
              "        const dataTable =\n",
              "          await google.colab.kernel.invokeFunction('convertToInteractive',\n",
              "                                                    [key], {});\n",
              "        if (!dataTable) return;\n",
              "\n",
              "        const docLinkHtml = 'Like what you see? Visit the ' +\n",
              "          '<a target=\"_blank\" href=https://colab.research.google.com/notebooks/data_table.ipynb>data table notebook</a>'\n",
              "          + ' to learn more about interactive tables.';\n",
              "        element.innerHTML = '';\n",
              "        dataTable['output_type'] = 'display_data';\n",
              "        await google.colab.output.renderOutput(dataTable, element);\n",
              "        const docLink = document.createElement('div');\n",
              "        docLink.innerHTML = docLinkHtml;\n",
              "        element.appendChild(docLink);\n",
              "      }\n",
              "    </script>\n",
              "  </div>\n",
              "\n",
              "\n",
              "<div id=\"df-3ede5e1b-90f8-4959-8fa2-bd461b43f46b\">\n",
              "  <button class=\"colab-df-quickchart\" onclick=\"quickchart('df-3ede5e1b-90f8-4959-8fa2-bd461b43f46b')\"\n",
              "            title=\"Suggest charts\"\n",
              "            style=\"display:none;\">\n",
              "\n",
              "<svg xmlns=\"http://www.w3.org/2000/svg\" height=\"24px\"viewBox=\"0 0 24 24\"\n",
              "     width=\"24px\">\n",
              "    <g>\n",
              "        <path d=\"M19 3H5c-1.1 0-2 .9-2 2v14c0 1.1.9 2 2 2h14c1.1 0 2-.9 2-2V5c0-1.1-.9-2-2-2zM9 17H7v-7h2v7zm4 0h-2V7h2v10zm4 0h-2v-4h2v4z\"/>\n",
              "    </g>\n",
              "</svg>\n",
              "  </button>\n",
              "\n",
              "<style>\n",
              "  .colab-df-quickchart {\n",
              "      --bg-color: #E8F0FE;\n",
              "      --fill-color: #1967D2;\n",
              "      --hover-bg-color: #E2EBFA;\n",
              "      --hover-fill-color: #174EA6;\n",
              "      --disabled-fill-color: #AAA;\n",
              "      --disabled-bg-color: #DDD;\n",
              "  }\n",
              "\n",
              "  [theme=dark] .colab-df-quickchart {\n",
              "      --bg-color: #3B4455;\n",
              "      --fill-color: #D2E3FC;\n",
              "      --hover-bg-color: #434B5C;\n",
              "      --hover-fill-color: #FFFFFF;\n",
              "      --disabled-bg-color: #3B4455;\n",
              "      --disabled-fill-color: #666;\n",
              "  }\n",
              "\n",
              "  .colab-df-quickchart {\n",
              "    background-color: var(--bg-color);\n",
              "    border: none;\n",
              "    border-radius: 50%;\n",
              "    cursor: pointer;\n",
              "    display: none;\n",
              "    fill: var(--fill-color);\n",
              "    height: 32px;\n",
              "    padding: 0;\n",
              "    width: 32px;\n",
              "  }\n",
              "\n",
              "  .colab-df-quickchart:hover {\n",
              "    background-color: var(--hover-bg-color);\n",
              "    box-shadow: 0 1px 2px rgba(60, 64, 67, 0.3), 0 1px 3px 1px rgba(60, 64, 67, 0.15);\n",
              "    fill: var(--button-hover-fill-color);\n",
              "  }\n",
              "\n",
              "  .colab-df-quickchart-complete:disabled,\n",
              "  .colab-df-quickchart-complete:disabled:hover {\n",
              "    background-color: var(--disabled-bg-color);\n",
              "    fill: var(--disabled-fill-color);\n",
              "    box-shadow: none;\n",
              "  }\n",
              "\n",
              "  .colab-df-spinner {\n",
              "    border: 2px solid var(--fill-color);\n",
              "    border-color: transparent;\n",
              "    border-bottom-color: var(--fill-color);\n",
              "    animation:\n",
              "      spin 1s steps(1) infinite;\n",
              "  }\n",
              "\n",
              "  @keyframes spin {\n",
              "    0% {\n",
              "      border-color: transparent;\n",
              "      border-bottom-color: var(--fill-color);\n",
              "      border-left-color: var(--fill-color);\n",
              "    }\n",
              "    20% {\n",
              "      border-color: transparent;\n",
              "      border-left-color: var(--fill-color);\n",
              "      border-top-color: var(--fill-color);\n",
              "    }\n",
              "    30% {\n",
              "      border-color: transparent;\n",
              "      border-left-color: var(--fill-color);\n",
              "      border-top-color: var(--fill-color);\n",
              "      border-right-color: var(--fill-color);\n",
              "    }\n",
              "    40% {\n",
              "      border-color: transparent;\n",
              "      border-right-color: var(--fill-color);\n",
              "      border-top-color: var(--fill-color);\n",
              "    }\n",
              "    60% {\n",
              "      border-color: transparent;\n",
              "      border-right-color: var(--fill-color);\n",
              "    }\n",
              "    80% {\n",
              "      border-color: transparent;\n",
              "      border-right-color: var(--fill-color);\n",
              "      border-bottom-color: var(--fill-color);\n",
              "    }\n",
              "    90% {\n",
              "      border-color: transparent;\n",
              "      border-bottom-color: var(--fill-color);\n",
              "    }\n",
              "  }\n",
              "</style>\n",
              "\n",
              "  <script>\n",
              "    async function quickchart(key) {\n",
              "      const quickchartButtonEl =\n",
              "        document.querySelector('#' + key + ' button');\n",
              "      quickchartButtonEl.disabled = true;  // To prevent multiple clicks.\n",
              "      quickchartButtonEl.classList.add('colab-df-spinner');\n",
              "      try {\n",
              "        const charts = await google.colab.kernel.invokeFunction(\n",
              "            'suggestCharts', [key], {});\n",
              "      } catch (error) {\n",
              "        console.error('Error during call to suggestCharts:', error);\n",
              "      }\n",
              "      quickchartButtonEl.classList.remove('colab-df-spinner');\n",
              "      quickchartButtonEl.classList.add('colab-df-quickchart-complete');\n",
              "    }\n",
              "    (() => {\n",
              "      let quickchartButtonEl =\n",
              "        document.querySelector('#df-3ede5e1b-90f8-4959-8fa2-bd461b43f46b button');\n",
              "      quickchartButtonEl.style.display =\n",
              "        google.colab.kernel.accessAllowed ? 'block' : 'none';\n",
              "    })();\n",
              "  </script>\n",
              "</div>\n",
              "    </div>\n",
              "  </div>\n"
            ],
            "application/vnd.google.colaboratory.intrinsic+json": {
              "type": "dataframe",
              "variable_name": "data",
              "summary": "{\n  \"name\": \"data\",\n  \"rows\": 300,\n  \"fields\": [\n    {\n      \"column\": \"title\",\n      \"properties\": {\n        \"dtype\": \"string\",\n        \"num_unique_values\": 300,\n        \"samples\": [\n          \"\\u0417\\u0430\\u0447\\u0435\\u043c \\u043d\\u0443\\u0436\\u0435\\u043d \\u0442\\u0435\\u043f\\u043b\\u043e\\u0432\\u0438\\u0437\\u043e\\u0440 \\u0434\\u043b\\u044f \\u0441\\u043c\\u0430\\u0440\\u0442\\u0444\\u043e\\u043d\\u0430 \\u0438 \\u043a\\u0430\\u043a \\u0432\\u044b\\u0431\\u0440\\u0430\\u0442\\u044c \\u043e\\u043f\\u0442\\u0438\\u043c\\u0430\\u043b\\u044c\\u043d\\u044b\\u0439\",\n          \"\\u0412 ChatGPT \\u0434\\u043e\\u0431\\u0430\\u0432\\u0438\\u043b\\u0438 \\u043f\\u0430\\u043c\\u044f\\u0442\\u044c. \\u0411\\u043e\\u0442 \\u043c\\u043e\\u0436\\u0435\\u0442 \\u0432\\u0441\\u043f\\u043e\\u043c\\u0438\\u043d\\u0430\\u0442\\u044c \\u0438 \\u0437\\u0430\\u0431\\u044b\\u0432\\u0430\\u0442\\u044c \\u043f\\u0440\\u0435\\u0434\\u044b\\u0434\\u0443\\u0449\\u0438\\u0435 \\u0440\\u0430\\u0437\\u0433\\u043e\\u0432\\u043e\\u0440\\u044b\",\n          \"Apple \\u0440\\u0430\\u0437\\u0440\\u0435\\u0448\\u0438\\u0442 \\u0437\\u0430\\u0433\\u0440\\u0443\\u0437\\u043a\\u0443 iOS-\\u043f\\u0440\\u0438\\u043b\\u043e\\u0436\\u0435\\u043d\\u0438\\u0439 \\u043d\\u0430\\u043f\\u0440\\u044f\\u043c\\u0443\\u044e \\u0441 \\u0432\\u0435\\u0431-\\u0441\\u0430\\u0439\\u0442\\u043e\\u0432, \\u043c\\u0438\\u043d\\u0443\\u044f \\u043c\\u0430\\u0433\\u0430\\u0437\\u0438\\u043d\\u044b\"\n        ],\n        \"semantic_type\": \"\",\n        \"description\": \"\"\n      }\n    },\n    {\n      \"column\": \"subtitle\",\n      \"properties\": {\n        \"dtype\": \"string\",\n        \"num_unique_values\": 298,\n        \"samples\": [\n          \"\\u00ab\\u0421\\u0430\\u043c\\u043e\\u043c\\u0443 \\u043f\\u043e\\u043f\\u0443\\u043b\\u044f\\u0440\\u043d\\u043e\\u043c\\u0443\\u00bb \\u0434\\u0438\\u0441\\u0442\\u0440\\u0438\\u0431\\u0443\\u0442\\u0438\\u0432\\u0443 \\u0434\\u0430\\u0432\\u043d\\u043e \\u043f\\u043e\\u0440\\u0430 \\u0443\\u0441\\u0442\\u0443\\u043f\\u0438\\u0442\\u044c \\u043c\\u0435\\u0441\\u0442\\u043e \\u0431\\u043e\\u043b\\u0435\\u0435 \\u0431\\u044b\\u0441\\u0442\\u0440\\u043e\\u043c\\u0443 \\u0438 \\u0443\\u0434\\u043e\\u0431\\u043d\\u043e\\u043c\\u0443 \\u043a\\u043e\\u043d\\u043a\\u0443\\u0440\\u0435\\u043d\\u0442\\u0443.\",\n          \"\\u041d\\u043e \\u0442\\u043e\\u043b\\u044c\\u043a\\u043e \\u0435\\u0441\\u043b\\u0438 \\u043f\\u043e\\u043b\\u044c\\u0437\\u043e\\u0432\\u0430\\u0442\\u0435\\u043b\\u044c \\u043f\\u043e\\u043f\\u0440\\u043e\\u0441\\u0438\\u0442.\",\n          \"\\u0412\\u0441\\u0451 \\u0440\\u0430\\u0434\\u0438 \\u0437\\u0430\\u0449\\u0438\\u0442\\u044b \\u0432\\u043b\\u0430\\u0434\\u0435\\u043b\\u044c\\u0446\\u0435\\u0432 iPhone.\"\n        ],\n        \"semantic_type\": \"\",\n        \"description\": \"\"\n      }\n    },\n    {\n      \"column\": \"text\",\n      \"properties\": {\n        \"dtype\": \"string\",\n        \"num_unique_values\": 300,\n        \"samples\": [\n          \"\\u0427\\u0442\\u043e \\u0442\\u0430\\u043a\\u043e\\u0435 \\u0442\\u0435\\u043f\\u043b\\u043e\\u0432\\u0438\\u0437\\u043e\\u0440\\u0422\\u0435\\u043f\\u043b\\u043e\\u0432\\u0438\\u0437\\u043e\\u0440 \\u2014 \\u044d\\u0442\\u043e \\u043e\\u0441\\u043e\\u0431\\u0430\\u044f \\u043a\\u0430\\u043c\\u0435\\u0440\\u0430, \\u043a\\u043e\\u0442\\u043e\\u0440\\u0430\\u044f \\u0441\\u043d\\u0438\\u043c\\u0430\\u0435\\u0442 \\u0432 \\u0438\\u043d\\u0444\\u0440\\u0430\\u043a\\u0440\\u0430\\u0441\\u043d\\u043e\\u043c \\u0441\\u0432\\u0435\\u0442\\u0435 \\u2014 \\u0447\\u0435\\u043b\\u043e\\u0432\\u0435\\u0447\\u0435\\u0441\\u043a\\u043e\\u043c\\u0443 \\u0433\\u043b\\u0430\\u0437\\u0443 \\u044d\\u0442\\u043e\\u0442 \\u0434\\u0438\\u0430\\u043f\\u0430\\u0437\\u043e\\u043d \\u043d\\u0435\\u0434\\u043e\\u0441\\u0442\\u0443\\u043f\\u0435\\u043d. \\u0410 \\u0436\\u0430\\u043b\\u044c: \\u0432 \\u043d\\u0451\\u043c \\u043c\\u043e\\u0436\\u043d\\u043e \\u0432\\u0438\\u0434\\u0435\\u0442\\u044c \\u0442\\u0435\\u043c\\u043f\\u0435\\u0440\\u0430\\u0442\\u0443\\u0440\\u0443 \\u043e\\u0431\\u044a\\u0435\\u043a\\u0442\\u043e\\u0432, \\u043f\\u0440\\u044f\\u043c\\u043e \\u043a\\u0430\\u043a \\u0432 \\u0444\\u0438\\u043b\\u044c\\u043c\\u0430\\u0445 \\u043f\\u0440\\u043e \\u0425\\u0438\\u0449\\u043d\\u0438\\u043a\\u0430.\\u041a\\u0430\\u0434\\u0440 \\u0438\\u0437 \\u0444\\u0438\\u043b\\u044c\\u043c\\u0430 \\u00ab\\u0425\\u0438\\u0449\\u043d\\u0438\\u043a\\u00bb\\u0414\\u0435\\u043b\\u043e \\u0432 \\u0442\\u043e\\u043c, \\u0447\\u0442\\u043e \\u043b\\u044e\\u0434\\u0438 \\u0438 \\u043c\\u043d\\u043e\\u0433\\u0438\\u0435 \\u0434\\u0440\\u0443\\u0433\\u0438\\u0435 \\u0441\\u0443\\u0449\\u0435\\u0441\\u0442\\u0432\\u0430 \\u0438 \\u043f\\u0440\\u0435\\u0434\\u043c\\u0435\\u0442\\u044b \\u0438\\u0441\\u043f\\u0443\\u0441\\u043a\\u0430\\u044e\\u0442 \\u0442\\u0435\\u043f\\u043b\\u043e\\u0432\\u043e\\u0435 \\u0438\\u0437\\u043b\\u0443\\u0447\\u0435\\u043d\\u0438\\u0435 \\u2014 \\u0441\\u0432\\u0435\\u0447\\u0435\\u043d\\u0438\\u0435, \\u043a\\u043e\\u0442\\u043e\\u0440\\u043e\\u0435 \\u043f\\u043e \\u043c\\u0435\\u0440\\u0435 \\u043d\\u0430\\u0433\\u0440\\u0435\\u0432\\u0430 \\u0441\\u0442\\u0430\\u043d\\u043e\\u0432\\u0438\\u0442\\u0441\\u044f \\u0432\\u0441\\u0451 \\u043d\\u0430\\u0441\\u044b\\u0449\\u0435\\u043d\\u043d\\u0435\\u0435. \\u041a\\u043e\\u0433\\u0434\\u0430 \\u0441\\u043e\\u0432\\u0441\\u0435\\u043c \\u0433\\u043e\\u0440\\u044f\\u0447\\u043e, \\u043f\\u0440\\u0435\\u0434\\u043c\\u0435\\u0442\\u044b \\u043d\\u0430\\u0447\\u0438\\u043d\\u0430\\u044e\\u0442 \\u0441\\u0432\\u0435\\u0442\\u0438\\u0442\\u044c\\u0441\\u044f (\\u043f\\u0440\\u0435\\u0434\\u0441\\u0442\\u0430\\u0432\\u044c\\u0442\\u0435 \\u0440\\u0430\\u0441\\u043a\\u0430\\u043b\\u0451\\u043d\\u043d\\u044b\\u0439 \\u043c\\u0435\\u0442\\u0430\\u043b\\u043b). \\u0410 \\u0441 \\u0442\\u0435\\u043f\\u043b\\u043e\\u0432\\u0438\\u0437\\u043e\\u0440\\u043e\\u043c \\u043f\\u043e\\u043b\\u0443\\u0447\\u0438\\u0442\\u0441\\u044f \\u0432\\u0438\\u0434\\u0435\\u0442\\u044c \\u043a\\u0443\\u0434\\u0430 \\u043c\\u0435\\u043d\\u0435\\u0435 \\u043a\\u0440\\u0438\\u0442\\u0438\\u0447\\u043d\\u044b\\u0435 \\u0442\\u0435\\u043c\\u043f\\u0435\\u0440\\u0430\\u0442\\u0443\\u0440\\u044b \\u2014 \\u0432 \\u0442\\u043e\\u043c \\u0447\\u0438\\u0441\\u043b\\u0435 \\u043d\\u0438\\u0436\\u0435 \\u043d\\u0443\\u043b\\u044f \\u043f\\u043e \\u0426\\u0435\\u043b\\u044c\\u0441\\u0438\\u044e. \\u0422\\u0430\\u043a\\u043e\\u0435 \\u0438\\u0437\\u043e\\u0431\\u0440\\u0430\\u0436\\u0435\\u043d\\u0438\\u0435 \\u043d\\u0430\\u0437\\u044b\\u0432\\u0430\\u044e\\u0442 \\u0442\\u0435\\u043f\\u043b\\u043e\\u0433\\u0440\\u0430\\u043c\\u043c\\u043e\\u0439.\\u041e\\u0431\\u044a\\u0435\\u043a\\u0442\\u0438\\u0432\\u044b \\u0441\\u0442\\u0430\\u043d\\u0434\\u0430\\u0440\\u0442\\u043d\\u044b\\u0445 \\u043a\\u0430\\u043c\\u0435\\u0440 \\u0431\\u043b\\u043e\\u043a\\u0438\\u0440\\u0443\\u044e\\u0442 \\u0431\\u043e\\u043b\\u044c\\u0448\\u0443\\u044e \\u0447\\u0430\\u0441\\u0442\\u044c \\u0438\\u043d\\u0444\\u0440\\u0430\\u043a\\u0440\\u0430\\u0441\\u043d\\u043e\\u0433\\u043e \\u0438\\u0437\\u043b\\u0443\\u0447\\u0435\\u043d\\u0438\\u044f, \\u043f\\u043e\\u044d\\u0442\\u043e\\u043c\\u0443 \\u0443\\u0437\\u043d\\u0430\\u0442\\u044c \\u0442\\u0435\\u043c\\u043f\\u0435\\u0440\\u0430\\u0442\\u0443\\u0440\\u0443 \\u043e\\u0431\\u044a\\u0435\\u043a\\u0442\\u043e\\u0432 \\u043e\\u0431\\u044b\\u0447\\u043d\\u044b\\u043c \\u0441\\u043c\\u0430\\u0440\\u0442\\u0444\\u043e\\u043d\\u043e\\u043c \\u043d\\u0435 \\u0432\\u044b\\u0439\\u0434\\u0435\\u0442. \\u0415\\u0441\\u0442\\u044c \\u0438\\u0441\\u043a\\u043b\\u044e\\u0447\\u0435\\u043d\\u0438\\u044f \\u0432 \\u0432\\u0438\\u0434\\u0435 \\u043d\\u0435\\u043a\\u043e\\u0442\\u043e\\u0440\\u044b\\u0445 \\u0437\\u0430\\u0449\\u0438\\u0449\\u0451\\u043d\\u043d\\u044b\\u0445 \\u043c\\u043e\\u0434\\u0435\\u043b\\u0435\\u0439 \\u0441\\u043e \\u0432\\u0441\\u0442\\u0440\\u043e\\u0435\\u043d\\u043d\\u043e\\u0439 \\u0438\\u043d\\u0444\\u0440\\u0430\\u043a\\u0440\\u0430\\u0441\\u043d\\u043e\\u0439 \\u043a\\u0430\\u043c\\u0435\\u0440\\u043e\\u0439, \\u043d\\u043e \\u043e\\u0431\\u044b\\u0447\\u043d\\u044b\\u0439 \\u0441\\u043c\\u0430\\u0440\\u0442\\u0444\\u043e\\u043d \\u2014 \\u044d\\u0442\\u043e \\u0432\\u0441\\u0451 \\u0436\\u0435 iPhone, Samsung \\u0438\\u043b\\u0438 Xiaomi, \\u0430 \\u043d\\u0435 Ulefone \\u0438 Oukitel.\\u041f\\u043e \\u0444\\u0438\\u043b\\u044c\\u043c\\u0430\\u043c \\u043c\\u043e\\u0436\\u043d\\u043e \\u043f\\u043e\\u0434\\u0443\\u043c\\u0430\\u0442\\u044c, \\u0447\\u0442\\u043e \\u0442\\u0435\\u043f\\u043b\\u043e\\u0432\\u0438\\u0437\\u043e\\u0440\\u044b \\u043d\\u0443\\u0436\\u043d\\u044b \\u0442\\u043e\\u043b\\u044c\\u043a\\u043e \\u043d\\u0430\\u0451\\u043c\\u043d\\u044b\\u043c \\u0443\\u0431\\u0438\\u0439\\u0446\\u0430\\u043c \\u0438 \\u043e\\u0445\\u043e\\u0442\\u043d\\u0438\\u043a\\u0430\\u043c. \\u041d\\u0430 \\u0434\\u0435\\u043b\\u0435 \\u0436\\u0435 \\u0443 \\u0442\\u0430\\u043a\\u0438\\u0445 \\u0433\\u0430\\u0434\\u0436\\u0435\\u0442\\u043e\\u0432 \\u043c\\u043d\\u043e\\u0433\\u043e \\u0432\\u0430\\u0440\\u0438\\u0430\\u043d\\u0442\\u043e\\u0432 \\u043f\\u0440\\u0438\\u043c\\u0435\\u043d\\u0435\\u043d\\u0438\\u044f \\u0438 \\u0432 \\u0431\\u044b\\u0442\\u0443 \\u2014 \\u043e\\u0441\\u043e\\u0431\\u0435\\u043d\\u043d\\u043e \\u0435\\u0441\\u043b\\u0438 \\u0433\\u043e\\u0432\\u043e\\u0440\\u0438\\u0442\\u044c \\u043e \\u043c\\u043e\\u0434\\u0435\\u043b\\u044f\\u0445 \\u0434\\u043b\\u044f \\u0441\\u043c\\u0430\\u0440\\u0442\\u0444\\u043e\\u043d\\u043e\\u0432. \\u0412 \\u043e\\u0442\\u043b\\u0438\\u0447\\u0438\\u0435 \\u043e\\u0442 \\u043e\\u0431\\u044b\\u0447\\u043d\\u044b\\u0445 \\u0442\\u0435\\u043f\\u043b\\u043e\\u0432\\u0438\\u0437\\u043e\\u0440\\u043e\\u0432 \\u043e\\u043d\\u0438 \\u043e\\u0431\\u044b\\u0447\\u043d\\u043e \\u043b\\u0451\\u0433\\u043a\\u0438\\u0435, \\u043c\\u0430\\u043b\\u0435\\u043d\\u044c\\u043a\\u0438\\u0435 \\u0438 \\u0441\\u0442\\u043e\\u044f\\u0442 \\u043c\\u0435\\u043d\\u044c\\u0448\\u0435, \\u043f\\u043e\\u0442\\u043e\\u043c\\u0443 \\u0447\\u0442\\u043e \\u043d\\u0435 \\u0438\\u043c\\u0435\\u044e\\u0442 \\u044d\\u043a\\u0440\\u0430\\u043d\\u0430 \\u0438 \\u043f\\u043e\\u043b\\u0430\\u0433\\u0430\\u044e\\u0442\\u0441\\u044f \\u043d\\u0430 \\u0442\\u0435\\u043b\\u0435\\u0444\\u043e\\u043d \\u0434\\u043b\\u044f \\u043e\\u0431\\u0440\\u0430\\u0431\\u043e\\u0442\\u043a\\u0438 \\u0438\\u0437\\u043e\\u0431\\u0440\\u0430\\u0436\\u0435\\u043d\\u0438\\u044f.\\u0421 \\u0447\\u0435\\u043c \\u043f\\u043e\\u043c\\u043e\\u0436\\u0435\\u0442 \\u0442\\u0435\\u043f\\u043b\\u043e\\u0432\\u0438\\u0437\\u043e\\u0440 \\u0434\\u043b\\u044f \\u0441\\u043c\\u0430\\u0440\\u0442\\u0444\\u043e\\u043d\\u0430\\u0412\\u043e\\u0442 \\u043d\\u0435\\u0441\\u043a\\u043e\\u043b\\u044c\\u043a\\u043e \\u0441\\u0446\\u0435\\u043d\\u0430\\u0440\\u0438\\u0435\\u0432 \\u0438\\u0441\\u043f\\u043e\\u043b\\u044c\\u0437\\u043e\\u0432\\u0430\\u043d\\u0438\\u044f \\u2014 \\u043e\\u0447\\u0435\\u0432\\u0438\\u0434\\u043d\\u044b\\u0445 \\u0438 \\u043d\\u0435 \\u043e\\u0447\\u0435\\u043d\\u044c.\\u041d\\u0430\\u0439\\u0442\\u0438 \\u0438\\u0441\\u0442\\u043e\\u0447\\u043d\\u0438\\u043a \\u0441\\u043a\\u0432\\u043e\\u0437\\u043d\\u044f\\u043a\\u0430 \\u0438 \\u043f\\u0440\\u043e\\u0432\\u0435\\u0440\\u0438\\u0442\\u044c \\u0431\\u0430\\u0442\\u0430\\u0440\\u0435\\u0438\\u041e\\u0447\\u0435\\u0432\\u0438\\u0434\\u043d\\u043e, \\u043d\\u043e \\u0432\\u0441\\u0451 \\u0436\\u0435: \\u0448\\u0442\\u0443\\u043a\\u0430 \\u0434\\u043b\\u044f \\u0438\\u0437\\u043c\\u0435\\u0440\\u0435\\u043d\\u0438\\u044f \\u0442\\u0435\\u043c\\u043f\\u0435\\u0440\\u0430\\u0442\\u0443\\u0440\\u044b \\u043f\\u043e\\u043c\\u043e\\u0436\\u0435\\u0442 \\u0441 \\u0442\\u0435\\u043c, \\u0447\\u0442\\u043e \\u0441\\u0432\\u044f\\u0437\\u0430\\u043d\\u043e \\u0441 \\u0442\\u0435\\u043c\\u043f\\u0435\\u0440\\u0430\\u0442\\u0443\\u0440\\u043e\\u0439. \\u0422\\u0435\\u043f\\u043b\\u043e\\u0432\\u0438\\u0437\\u043e\\u0440 \\u043f\\u043e\\u043a\\u0430\\u0436\\u0435\\u0442, \\u043a\\u0430\\u043a\\u0430\\u044f \\u0434\\u0432\\u0435\\u0440\\u044c \\u0437\\u0430\\u043a\\u0440\\u044b\\u0432\\u0430\\u0435\\u0442\\u0441\\u044f \\u043d\\u0435\\u043f\\u043b\\u043e\\u0442\\u043d\\u043e, \\u0430 \\u0433\\u0434\\u0435 \\u043d\\u0435 \\u0445\\u0432\\u0430\\u0442\\u0430\\u0435\\u0442 \\u0442\\u0435\\u043f\\u043b\\u043e\\u0438\\u0437\\u043e\\u043b\\u044f\\u0446\\u0438\\u0438. \\u0417\\u0438\\u043c\\u043e\\u0439 \\u0434\\u043b\\u044f \\u044d\\u0442\\u043e\\u0433\\u043e \\u0441\\u043f\\u0435\\u0446\\u0438\\u0430\\u043b\\u044c\\u043d\\u044b\\u0439 \\u043f\\u0440\\u0438\\u0431\\u043e\\u0440 \\u043d\\u0435 \\u043d\\u0443\\u0436\\u0435\\u043d \\u2014 \\u0434\\u043e\\u0441\\u0442\\u0430\\u0442\\u043e\\u0447\\u043d\\u043e \\u043f\\u043e\\u0434\\u0441\\u0442\\u0430\\u0432\\u0438\\u0442\\u044c \\u0440\\u0443\\u043a\\u0443, \\u2014 \\u043d\\u043e \\u0443\\u0436\\u0435 \\u043d\\u0435\\u043c\\u043d\\u043e\\u0433\\u043e \\u043f\\u043e\\u0437\\u0434\\u043d\\u043e. \\u041b\\u0443\\u0447\\u0448\\u0435 \\u043e\\u0437\\u0430\\u0431\\u043e\\u0442\\u0438\\u0442\\u044c\\u0441\\u044f \\u043f\\u0440\\u043e\\u0432\\u0435\\u0440\\u043a\\u043e\\u0439 \\u0435\\u0449\\u0451 \\u043b\\u0435\\u0442\\u043e\\u043c \\u0438\\u043b\\u0438 \\u043e\\u0441\\u0435\\u043d\\u044c\\u044e, \\u043e\\u0441\\u043e\\u0431\\u0435\\u043d\\u043d\\u043e \\u0432 \\u0447\\u0430\\u0441\\u0442\\u043d\\u043e\\u043c \\u0434\\u043e\\u043c\\u0435.\\u0414\\u043b\\u044f \\u044d\\u0442\\u043e\\u0433\\u043e \\u0434\\u043e\\u0441\\u0442\\u0430\\u0442\\u043e\\u0447\\u043d\\u043e \\u043d\\u0430\\u0432\\u0435\\u0441\\u0442\\u0438 \\u0442\\u0435\\u043f\\u043b\\u043e\\u0432\\u0438\\u0437\\u043e\\u0440 \\u043d\\u0430 \\u0434\\u0432\\u0435\\u0440\\u044c \\u0438\\u043b\\u0438 \\u043e\\u043a\\u043d\\u043e: \\u0431\\u043e\\u043b\\u0435\\u0435 \\u0445\\u043e\\u043b\\u043e\\u0434\\u043d\\u044b\\u0435 \\u043c\\u0435\\u0441\\u0442\\u0430 \\u0431\\u0443\\u0434\\u0443\\u0442 \\u0432\\u044b\\u0434\\u0435\\u043b\\u044f\\u0442\\u044c\\u0441\\u044f \\u043f\\u043e \\u0446\\u0432\\u0435\\u0442\\u0443. \\u0417\\u043d\\u0430\\u0447\\u0438\\u0442, \\u0442\\u0430\\u043c \\u043f\\u0440\\u043e\\u0438\\u0441\\u0445\\u043e\\u0434\\u0438\\u0442 \\u0443\\u0442\\u0435\\u0447\\u043a\\u0430 \\u0442\\u0435\\u043f\\u043b\\u0430.\\u041a\\u0430\\u0434\\u0440\\u044b: Word of Advice TV / YouTube\\u0421 \\u0445\\u043e\\u043b\\u043e\\u0434\\u0438\\u043b\\u044c\\u043d\\u0438\\u043a\\u0430\\u043c\\u0438, \\u043a\\u0441\\u0442\\u0430\\u0442\\u0438, \\u044d\\u0442\\u043e \\u0442\\u043e\\u0436\\u0435 \\u0440\\u0430\\u0431\\u043e\\u0442\\u0430\\u0435\\u0442. \\u0415\\u0441\\u043b\\u0438 \\u043e\\u043d \\u0437\\u0430\\u043a\\u0440\\u044b\\u0432\\u0430\\u0435\\u0442\\u0441\\u044f \\u043f\\u043b\\u043e\\u0442\\u043d\\u043e, \\u0442\\u043e \\u0435\\u0433\\u043e \\u0446\\u0432\\u0435\\u0442 \\u043f\\u0440\\u0438 \\u0441\\u044a\\u0451\\u043c\\u043a\\u0435 \\u0441 \\u0442\\u0435\\u043f\\u043b\\u043e\\u0432\\u0438\\u0437\\u043e\\u0440\\u043e\\u043c \\u0434\\u043e\\u043b\\u0436\\u0435\\u043d \\u0431\\u044b\\u0442\\u044c \\u043e\\u0434\\u043d\\u043e\\u0440\\u043e\\u0434\\u043d\\u044b\\u043c. \\u0415\\u0441\\u043b\\u0438 \\u043e\\u0442\\u0447\\u0451\\u0442\\u043b\\u0438\\u0432\\u043e \\u0432\\u0438\\u0434\\u043d\\u0430 \\u043f\\u043e\\u043b\\u043e\\u0441\\u043a\\u0430 \\u0434\\u0440\\u0443\\u0433\\u043e\\u0433\\u043e \\u043e\\u0442\\u0442\\u0435\\u043d\\u043a\\u0430 \\u0432 \\u043c\\u0435\\u0441\\u0442\\u0435 \\u043e\\u0442\\u043a\\u0440\\u044b\\u0442\\u0438\\u044f \\u0434\\u0432\\u0435\\u0440\\u0446\\u044b, \\u043d\\u0435 \\u0443\\u0434\\u0438\\u0432\\u043b\\u044f\\u0439\\u0442\\u0435\\u0441\\u044c, \\u0447\\u0442\\u043e \\u043f\\u0440\\u043e\\u0434\\u0443\\u043a\\u0442\\u044b \\u043f\\u043e\\u0440\\u0442\\u044f\\u0442\\u0441\\u044f \\u0440\\u0430\\u043d\\u044c\\u0448\\u0435 \\u0441\\u0440\\u043e\\u043a\\u0430.\\u0422\\u0430\\u043a\\u0436\\u0435 \\u0441 \\u043f\\u043e\\u043c\\u043e\\u0449\\u044c\\u044e \\u0442\\u0435\\u043f\\u043b\\u043e\\u0432\\u0438\\u0437\\u043e\\u0440\\u0430 \\u043c\\u043e\\u0436\\u043d\\u043e \\u0443\\u0431\\u0435\\u0434\\u0438\\u0442\\u044c\\u0441\\u044f, \\u0447\\u0442\\u043e \\u0431\\u0430\\u0442\\u0430\\u0440\\u0435\\u044f \\u0433\\u0440\\u0435\\u0435\\u0442 \\u0440\\u0430\\u0432\\u043d\\u043e\\u043c\\u0435\\u0440\\u043d\\u043e, \\u043a\\u043e\\u043d\\u0434\\u0438\\u0446\\u0438\\u043e\\u043d\\u0435\\u0440 \\u0434\\u0435\\u0439\\u0441\\u0442\\u0432\\u0438\\u0442\\u0435\\u043b\\u044c\\u043d\\u043e \\u043e\\u0445\\u043b\\u0430\\u0436\\u0434\\u0430\\u0435\\u0442, \\u0430 \\u043d\\u0435 \\u0433\\u043e\\u043d\\u044f\\u0435\\u0442 \\u0442\\u0451\\u043f\\u043b\\u044b\\u0439 \\u0432\\u043e\\u0437\\u0434\\u0443\\u0445 \\u043f\\u043e \\u043a\\u0440\\u0443\\u0433\\u0443, \\u0430 \\u0431\\u043e\\u0439\\u043b\\u0435\\u0440 \\u043d\\u0435 \\u043f\\u0440\\u043e\\u0442\\u0435\\u043a\\u0430\\u0435\\u0442.\\u041f\\u0440\\u043e\\u0432\\u0435\\u0440\\u0438\\u0442\\u044c \\u0440\\u0430\\u0441\\u043f\\u043e\\u043b\\u043e\\u0436\\u0435\\u043d\\u0438\\u0435 \\u0442\\u0440\\u0443\\u0431\\u041f\\u0435\\u0440\\u0435\\u0434 \\u0440\\u0435\\u043c\\u043e\\u043d\\u0442\\u043e\\u043c \\u0432\\u0430\\u0436\\u043d\\u043e \\u043f\\u043e\\u0441\\u043c\\u043e\\u0442\\u0440\\u0435\\u0442\\u044c, \\u0433\\u0434\\u0435 \\u043d\\u0430\\u0445\\u043e\\u0434\\u044f\\u0442\\u0441\\u044f \\u0442\\u0440\\u0443\\u0431\\u044b, \\u0438\\u043d\\u0430\\u0447\\u0435 \\u0435\\u0441\\u0442\\u044c \\u0440\\u0438\\u0441\\u043a \\u043f\\u0440\\u043e\\u0431\\u0438\\u0442\\u044c \\u043e\\u0434\\u043d\\u0443 \\u0438\\u0437 \\u043d\\u0438\\u0445 \\u0438 \\u0440\\u0430\\u0437\\u0431\\u0438\\u0440\\u0430\\u0442\\u044c\\u0441\\u044f \\u043d\\u0435 \\u0441 \\u0442\\u0435\\u043c, \\u0447\\u0442\\u043e \\u043f\\u043e\\u0441\\u0442\\u0430\\u0432\\u0438\\u0442\\u044c \\u043d\\u0430 \\u043d\\u043e\\u0432\\u0443\\u044e \\u043f\\u043e\\u043b\\u043a\\u0443, \\u0430 \\u043a\\u0430\\u043a \\u0432\\u043e\\u0441\\u0441\\u0442\\u0430\\u043d\\u043e\\u0432\\u0438\\u0442\\u044c \\u043a\\u0432\\u0430\\u0440\\u0442\\u0438\\u0440\\u0443 \\u043f\\u043e\\u0441\\u043b\\u0435 \\u043f\\u043e\\u0442\\u043e\\u043f\\u0430. \\u0415\\u0441\\u043b\\u0438 \\u0447\\u0435\\u0440\\u0442\\u0435\\u0436\\u0435\\u0439 \\u043f\\u043e\\u043c\\u0435\\u0449\\u0435\\u043d\\u0438\\u044f \\u043d\\u0435\\u0442, \\u0443\\u0432\\u0438\\u0434\\u0435\\u0442\\u044c \\u0442\\u0440\\u0443\\u0431\\u044b \\u043f\\u043e\\u043c\\u043e\\u0436\\u0435\\u0442 \\u0442\\u0435\\u043f\\u043b\\u043e\\u0433\\u0440\\u0430\\u043c\\u043c\\u0430: \\u0438\\u0437\\u2011\\u0437\\u0430 \\u0440\\u0430\\u0437\\u043d\\u0438\\u0446\\u044b \\u0432 \\u0442\\u0435\\u043c\\u043f\\u0435\\u0440\\u0430\\u0442\\u0443\\u0440\\u0435 \\u0431\\u0443\\u0434\\u0435\\u0442 \\u0432\\u0438\\u0434\\u043d\\u0430 \\u0438 \\u0433\\u043e\\u0440\\u044f\\u0447\\u0430\\u044f, \\u0438 \\u0445\\u043e\\u043b\\u043e\\u0434\\u043d\\u0430\\u044f \\u0432\\u043e\\u0434\\u0430.\\u041a\\u0430\\u0434\\u0440\\u044b: M J Tiff Plumbing / YouTube\\u0421 \\u0442\\u0451\\u043f\\u043b\\u044b\\u043c \\u043f\\u043e\\u043b\\u043e\\u043c \\u044d\\u0442\\u043e \\u0442\\u043e\\u0436\\u0435 \\u0440\\u0430\\u0431\\u043e\\u0442\\u0430\\u0435\\u0442: \\u043c\\u043e\\u0436\\u043d\\u043e \\u0447\\u0451\\u0442\\u043a\\u043e \\u0443\\u0432\\u0438\\u0434\\u0435\\u0442\\u044c, \\u0433\\u0434\\u0435 \\u043f\\u0440\\u043e\\u0442\\u0435\\u0447\\u043a\\u0430, \\u0438 \\u043d\\u0435 \\u0440\\u0430\\u0437\\u0431\\u0438\\u0440\\u0430\\u0442\\u044c \\u0432\\u0435\\u0441\\u044c \\u043b\\u0430\\u043c\\u0438\\u043d\\u0430\\u0442 \\u0432\\u043e \\u0432\\u0440\\u0435\\u043c\\u044f \\u043f\\u043e\\u0438\\u0441\\u043a\\u043e\\u0432. \\u0421\\u0442\\u0435\\u043d\\u044b \\u0438 \\u043f\\u043e\\u043a\\u0440\\u044b\\u0442\\u0438\\u0435 \\u043f\\u043e\\u043b\\u0430 \\u0443\\u0441\\u0442\\u0440\\u043e\\u0439\\u0441\\u0442\\u0432\\u0443 \\u043d\\u0435 \\u043f\\u0440\\u0435\\u0433\\u0440\\u0430\\u0434\\u0430.\\u041e\\u0442\\u0440\\u0435\\u043c\\u043e\\u043d\\u0442\\u0438\\u0440\\u043e\\u0432\\u0430\\u0442\\u044c \\u0442\\u0435\\u0445\\u043d\\u0438\\u043a\\u0443\\u0415\\u0441\\u043b\\u0438 \\u0441\\u043b\\u043e\\u043c\\u0430\\u043b\\u0441\\u044f \\u043d\\u043e\\u0443\\u0442\\u0431\\u0443\\u043a \\u0438\\u043b\\u0438 \\u0438\\u0433\\u0440\\u043e\\u0432\\u0430\\u044f \\u043f\\u0440\\u0438\\u0441\\u0442\\u0430\\u0432\\u043a\\u0430, \\u0434\\u043b\\u044f \\u043f\\u043e\\u0447\\u0438\\u043d\\u043a\\u0438 \\u0447\\u0430\\u0441\\u0442\\u043e \\u043d\\u0443\\u0436\\u043d\\u043e \\u0440\\u0430\\u0437\\u0431\\u0438\\u0440\\u0430\\u0442\\u044c\\u0441\\u044f \\u0441 \\u043f\\u043b\\u0430\\u0442\\u043e\\u0439: \\u0432\\u044b\\u044f\\u0441\\u043d\\u044f\\u0442\\u044c, \\u0433\\u0434\\u0435 \\u0441\\u0433\\u043e\\u0440\\u0435\\u043b \\u043f\\u0440\\u0435\\u0434\\u043e\\u0445\\u0440\\u0430\\u043d\\u0438\\u0442\\u0435\\u043b\\u044c \\u0438\\u043b\\u0438 \\u043e\\u0442\\u043e\\u0448\\u0451\\u043b \\u043a\\u043e\\u043d\\u0442\\u0430\\u043a\\u0442. \\u041c\\u043e\\u0436\\u043d\\u043e \\u043f\\u0440\\u043e\\u0432\\u0435\\u0440\\u044f\\u0442\\u044c \\u0432\\u0441\\u0435 \\u0441\\u043e\\u0435\\u0434\\u0438\\u043d\\u0435\\u043d\\u0438\\u044f \\u043c\\u0443\\u043b\\u044c\\u0442\\u0438\\u043c\\u0435\\u0442\\u0440\\u043e\\u043c \\u2014 \\u0438\\u043b\\u0438 \\u0432\\u043a\\u043b\\u044e\\u0447\\u0438\\u0442\\u044c \\u043f\\u0440\\u043e\\u0431\\u043b\\u0435\\u043c\\u043d\\u043e\\u0435 \\u0443\\u0441\\u0442\\u0440\\u043e\\u0439\\u0441\\u0442\\u0432\\u043e, \\u043d\\u0430\\u0432\\u0435\\u0441\\u0442\\u0438 \\u0442\\u0435\\u043f\\u043b\\u043e\\u0432\\u0438\\u0437\\u043e\\u0440 \\u0438 \\u043f\\u043e\\u0441\\u043c\\u043e\\u0442\\u0440\\u0435\\u0442\\u044c, \\u0433\\u0434\\u0435 \\u0438\\u0434\\u0451\\u0442 \\u043f\\u0435\\u0440\\u0435\\u0433\\u0440\\u0435\\u0432 \\u0438\\u043b\\u0438, \\u043d\\u0430\\u043e\\u0431\\u043e\\u0440\\u043e\\u0442, \\u0441\\u0438\\u0433\\u043d\\u0430\\u043b \\u043d\\u0435 \\u043f\\u0440\\u043e\\u0445\\u043e\\u0434\\u0438\\u0442.\\u041a\\u0430\\u0434\\u0440\\u044b: Word of Advice TV / YouTube\\u041c\\u0435\\u043b\\u043a\\u043e\\u0439 \\u044d\\u043b\\u0435\\u043a\\u0442\\u0440\\u043e\\u043d\\u0438\\u043a\\u043e\\u0439 \\u043f\\u0440\\u0438\\u043c\\u0435\\u043d\\u0435\\u043d\\u0438\\u0435 \\u0442\\u0435\\u043f\\u043b\\u043e\\u0432\\u0438\\u0437\\u043e\\u0440\\u0430 \\u043d\\u0435 \\u043e\\u0433\\u0440\\u0430\\u043d\\u0438\\u0447\\u0438\\u0432\\u0430\\u0435\\u0442\\u0441\\u044f: \\u043e\\u043d \\u0442\\u0430\\u043a\\u0436\\u0435 \\u043f\\u043e\\u043c\\u043e\\u0436\\u0435\\u0442 \\u0441\\u0430\\u043c\\u043e\\u0441\\u0442\\u043e\\u044f\\u0442\\u0435\\u043b\\u044c\\u043d\\u043e \\u043f\\u0440\\u043e\\u0434\\u0438\\u0430\\u0433\\u043d\\u043e\\u0441\\u0442\\u0438\\u0440\\u043e\\u0432\\u0430\\u0442\\u044c \\u0430\\u0432\\u0442\\u043e\\u043c\\u043e\\u0431\\u0438\\u043b\\u044c \\u0438\\u043b\\u0438 \\u0443\\u0437\\u043d\\u0430\\u0442\\u044c, \\u043a\\u0430\\u043a\\u0438\\u0435 \\u043f\\u0440\\u043e\\u0431\\u043a\\u0438 \\u0432\\u044b\\u0431\\u0438\\u043b\\u043e \\u0432 \\u0449\\u0438\\u0442\\u043a\\u0435.\\u041e\\u0442\\u044b\\u0441\\u043a\\u0430\\u0442\\u044c \\u043f\\u0440\\u043e\\u043f\\u0430\\u0432\\u0448\\u0435\\u0435 \\u0436\\u0438\\u0432\\u043e\\u0442\\u043d\\u043e\\u0435\\u041e\\u0441\\u043e\\u0431\\u0435\\u043d\\u043d\\u043e \\u0430\\u043a\\u0442\\u0443\\u0430\\u043b\\u044c\\u043d\\u043e \\u0434\\u043b\\u044f \\u0432\\u043b\\u0430\\u0434\\u0435\\u043b\\u044c\\u0446\\u0435\\u0432 \\u0445\\u043e\\u043c\\u044f\\u043a\\u043e\\u0432 \\u0438 \\u043f\\u0440\\u043e\\u0447\\u0438\\u0445 \\u0433\\u0440\\u044b\\u0437\\u0443\\u043d\\u043e\\u0432. \\u041c\\u0430\\u043b\\u0435\\u043d\\u044c\\u043a\\u043e\\u0435 \\u0436\\u0438\\u0432\\u043e\\u0442\\u043d\\u043e\\u0435 \\u0432\\u043f\\u043e\\u043b\\u043d\\u0435 \\u043c\\u043e\\u0436\\u0435\\u0442 \\u0437\\u0430\\u0431\\u0438\\u0442\\u044c\\u0441\\u044f \\u043f\\u043e\\u0434 \\u0434\\u0438\\u0432\\u0430\\u043d \\u0438\\u043b\\u0438 \\u0437\\u0430 \\u0448\\u043a\\u0430\\u0444, \\u0430 \\u043e\\u0442 \\u0441\\u0432\\u0435\\u0442\\u0430 \\u0444\\u043e\\u043d\\u0430\\u0440\\u0438\\u043a\\u0430 \\u0438\\u0441\\u043f\\u0443\\u0433\\u0430\\u0442\\u044c\\u0441\\u044f \\u0438 \\u0441\\u043f\\u0440\\u044f\\u0442\\u0430\\u0442\\u044c\\u0441\\u044f \\u0435\\u0449\\u0451 \\u0434\\u0430\\u043b\\u044c\\u0448\\u0435. \\u0421 \\u0442\\u0435\\u043f\\u043b\\u043e\\u0432\\u0438\\u0437\\u043e\\u0440\\u043e\\u043c \\u043f\\u043e\\u043b\\u0443\\u0447\\u0438\\u0442\\u0441\\u044f \\u043d\\u0430\\u0439\\u0442\\u0438 \\u043b\\u044e\\u0431\\u0438\\u043c\\u0446\\u0430, \\u0434\\u0430\\u0436\\u0435 \\u0435\\u0441\\u043b\\u0438 \\u043c\\u0435\\u0436\\u0434\\u0443 \\u0432\\u0430\\u043c\\u0438 \\u043f\\u0440\\u0435\\u0433\\u0440\\u0430\\u0434\\u0430 \\u0432\\u0440\\u043e\\u0434\\u0435 \\u0437\\u0430\\u043d\\u0430\\u0432\\u0435\\u0441\\u043a\\u0438 \\u0438\\u043b\\u0438 \\u043a\\u043e\\u0440\\u043e\\u0431\\u043a\\u0438.\\u041d\\u0430\\u0439\\u0442\\u0438 \\u0441\\u043a\\u0440\\u044b\\u0442\\u044b\\u0435 \\u043a\\u0430\\u043c\\u0435\\u0440\\u044b \\u0432 \\u043d\\u043e\\u043c\\u0435\\u0440\\u0435 \\u043e\\u0442\\u0435\\u043b\\u044f\\u0421\\u043f\\u0440\\u044f\\u0442\\u0430\\u043d\\u043d\\u044b\\u0435 \\u0437\\u0430\\u043f\\u0438\\u0441\\u044b\\u0432\\u0430\\u044e\\u0449\\u0438\\u0435 \\u0443\\u0441\\u0442\\u0440\\u043e\\u0439\\u0441\\u0442\\u0432\\u0430 \\u2014 \\u0441\\u0435\\u0440\\u044c\\u0451\\u0437\\u043d\\u044b\\u0439 \\u0441\\u0442\\u0440\\u0430\\u0445 \\u043f\\u0443\\u0442\\u0435\\u0448\\u0435\\u0441\\u0442\\u0432\\u0435\\u043d\\u043d\\u0438\\u043a\\u043e\\u0432. \\u0421\\u043e\\u0433\\u043b\\u0430\\u0441\\u043d\\u043e \\u043e\\u043f\\u0440\\u043e\\u0441\\u0443 2019\\u00a0\\u0433\\u043e\\u0434\\u0430, \\u043d\\u0430 \\u043a\\u043e\\u0442\\u043e\\u0440\\u044b\\u0439 \\u0441\\u0441\\u044b\\u043b\\u0430\\u0435\\u0442\\u0441\\u044f Forbes, \\u043a\\u0430\\u0436\\u0434\\u044b\\u0439 \\u0448\\u0435\\u0441\\u0442\\u043e\\u0439 \\u043f\\u043e\\u043b\\u044c\\u0437\\u043e\\u0432\\u0430\\u0442\\u0435\\u043b\\u044c Airbnb \\u0438\\u0437 \\u0421\\u0428\\u0410 \\u0431\\u043e\\u0438\\u0442\\u0441\\u044f, \\u0447\\u0442\\u043e \\u0432 \\u0441\\u044a\\u0451\\u043c\\u043d\\u043e\\u043c \\u0436\\u0438\\u043b\\u044c\\u0435 \\u0431\\u0443\\u0434\\u0435\\u0442 \\u0441\\u043a\\u0440\\u044b\\u0442\\u0430\\u044f \\u043a\\u0430\\u043c\\u0435\\u0440\\u0430 \\u0438\\u043b\\u0438 \\u043c\\u0438\\u043a\\u0440\\u043e\\u0444\\u043e\\u043d. \\u041d\\u043e \\u0441 \\u0442\\u0435\\u043f\\u043b\\u043e\\u0432\\u0438\\u0437\\u043e\\u0440\\u043e\\u043c \\u0432\\u043c\\u0435\\u0441\\u0442\\u043e \\u044d\\u0442\\u043e\\u0433\\u043e \\u043c\\u043e\\u0436\\u043d\\u043e \\u043f\\u0440\\u043e\\u0432\\u0435\\u0440\\u0438\\u0442\\u044c \\u043d\\u043e\\u043c\\u0435\\u0440.\\u0414\\u043e\\u0441\\u0442\\u0430\\u0442\\u043e\\u0447\\u043d\\u043e \\u0432\\u043a\\u043b\\u044e\\u0447\\u0438\\u0442\\u044c \\u0443\\u0441\\u0442\\u0440\\u043e\\u0439\\u0441\\u0442\\u0432\\u043e \\u0438 \\u043e\\u0441\\u043c\\u043e\\u0442\\u0440\\u0435\\u0442\\u044c \\u0432\\u0441\\u0451 \\u043f\\u043e\\u043c\\u0435\\u0449\\u0435\\u043d\\u0438\\u0435, \\u0443\\u0434\\u0435\\u043b\\u044f\\u044f \\u043e\\u0441\\u043e\\u0431\\u043e\\u0435 \\u0432\\u043d\\u0438\\u043c\\u0430\\u043d\\u0438\\u0435 \\u043f\\u043e\\u043b\\u043a\\u0430\\u043c, \\u043d\\u0430\\u0441\\u0442\\u0435\\u043d\\u043d\\u044b\\u043c \\u0443\\u043a\\u0440\\u0430\\u0448\\u0435\\u043d\\u0438\\u044f\\u043c \\u0438 \\u043c\\u0435\\u0431\\u0435\\u043b\\u0438. \\u041b\\u044e\\u0431\\u0430\\u044f \\u0432\\u043a\\u043b\\u044e\\u0447\\u0451\\u043d\\u043d\\u0430\\u044f \\u044d\\u043b\\u0435\\u043a\\u0442\\u0440\\u043e\\u043d\\u0438\\u043a\\u0430 \\u0431\\u0443\\u0434\\u0435\\u0442 \\u0442\\u0435\\u043f\\u043b\\u0435\\u0435, \\u0447\\u0435\\u043c \\u043d\\u0430\\u0445\\u043e\\u0434\\u044f\\u0449\\u0438\\u0435\\u0441\\u044f \\u0440\\u044f\\u0434\\u043e\\u043c \\u0434\\u0440\\u0443\\u0433\\u0438\\u0435 \\u043f\\u0440\\u0435\\u0434\\u043c\\u0435\\u0442\\u044b. \\u041f\\u043e\\u044d\\u0442\\u043e\\u043c\\u0443 \\u043d\\u0430 \\u0442\\u0435\\u043f\\u043b\\u043e\\u0433\\u0440\\u0430\\u043c\\u043c\\u0435 \\u043c\\u043e\\u0436\\u043d\\u043e \\u0440\\u0430\\u0437\\u0433\\u043b\\u044f\\u0434\\u0435\\u0442\\u044c \\u043a\\u0430\\u043c\\u0435\\u0440\\u0443 \\u0438\\u043b\\u0438 \\u043c\\u0438\\u043a\\u0440\\u043e\\u0444\\u043e\\u043d, \\u0434\\u0430\\u0436\\u0435 \\u0435\\u0441\\u043b\\u0438 \\u0430\\u043f\\u043f\\u0430\\u0440\\u0430\\u0442 \\u0441\\u043f\\u0440\\u044f\\u0442\\u0430\\u043d \\u0437\\u0430 \\u0432\\u0435\\u0449\\u0430\\u043c\\u0438 \\u0438\\u043b\\u0438 \\u0432\\u043d\\u0443\\u0442\\u0440\\u0438 \\u043d\\u0438\\u0445.\\u041d\\u0430 \\u0442\\u0435\\u043f\\u043b\\u043e\\u0433\\u0440\\u0430\\u043c\\u043c\\u0435 \\u0432\\u0438\\u0434\\u043d\\u043e, \\u0432 \\u043a\\u0430\\u043a\\u043e\\u0439 \\u043a\\u043d\\u0438\\u0433\\u0435 \\u043d\\u0430 \\u043f\\u043e\\u043b\\u043a\\u0435 \\u0441\\u043f\\u0440\\u044f\\u0442\\u0430\\u043d\\u0430 \\u043a\\u0430\\u043c\\u0435\\u0440\\u0430. \\u041a\\u0430\\u0434\\u0440\\u044b: Australian Bug Detection Group / YouTube\\u041a\\u043e\\u043d\\u0435\\u0447\\u043d\\u043e, \\u0441\\u043f\\u0435\\u0446\\u0438\\u0430\\u043b\\u044c\\u043d\\u043e \\u0440\\u0430\\u0434\\u0438 \\u043f\\u0440\\u043e\\u0432\\u0435\\u0440\\u043a\\u0438 \\u043d\\u0430 \\u0441\\u043a\\u0440\\u044b\\u0442\\u044b\\u0435 \\u043a\\u0430\\u043c\\u0435\\u0440\\u044b \\u0442\\u0435\\u043f\\u043b\\u043e\\u0432\\u0438\\u0437\\u043e\\u0440 \\u0432\\u0440\\u044f\\u0434 \\u043b\\u0438 \\u0441\\u0442\\u043e\\u0438\\u0442 \\u043f\\u043e\\u043a\\u0443\\u043f\\u0430\\u0442\\u044c, \\u043f\\u043e\\u0442\\u043e\\u043c\\u0443 \\u0447\\u0442\\u043e \\u0435\\u0441\\u0442\\u044c \\u0438 \\u0431\\u0435\\u0441\\u043f\\u043b\\u0430\\u0442\\u043d\\u044b\\u0435 \\u0441\\u043f\\u043e\\u0441\\u043e\\u0431\\u044b \\u044d\\u0442\\u043e \\u0441\\u0434\\u0435\\u043b\\u0430\\u0442\\u044c. \\u041d\\u043e \\u0435\\u0441\\u043b\\u0438 \\u0438\\u043d\\u0441\\u0442\\u0440\\u0443\\u043c\\u0435\\u043d\\u0442 \\u0431\\u044b\\u043b \\u043d\\u0443\\u0436\\u0435\\u043d \\u0434\\u043b\\u044f \\u0438\\u043d\\u043e\\u0433\\u043e, \\u043f\\u0440\\u0438\\u0445\\u0432\\u0430\\u0442\\u0438\\u0442\\u044c \\u0435\\u0433\\u043e \\u0441 \\u0441\\u043e\\u0431\\u043e\\u0439 \\u0432 \\u043f\\u0443\\u0442\\u0435\\u0448\\u0435\\u0441\\u0442\\u0432\\u0438\\u0435 \\u043c\\u043e\\u0436\\u0435\\u0442 \\u0431\\u044b\\u0442\\u044c \\u043f\\u043e\\u043b\\u0435\\u0437\\u043d\\u043e: \\u0433\\u0430\\u0434\\u0436\\u0435\\u0442 \\u043f\\u043e\\u0447\\u0442\\u0438 \\u043d\\u0438\\u0447\\u0435\\u0433\\u043e \\u043d\\u0435 \\u0432\\u0435\\u0441\\u0438\\u0442 \\u0438 \\u043d\\u0435 \\u0437\\u0430\\u0439\\u043c\\u0451\\u0442 \\u043c\\u043d\\u043e\\u0433\\u043e \\u043c\\u0435\\u0441\\u0442\\u0430 \\u0432 \\u0441\\u0443\\u043c\\u043a\\u0435.\\u041a\\u0430\\u043a \\u0432\\u044b\\u0431\\u0440\\u0430\\u0442\\u044c \\u0442\\u0435\\u043f\\u043b\\u043e\\u0432\\u0438\\u0437\\u043e\\u0440 \\u0434\\u043b\\u044f \\u0441\\u043c\\u0430\\u0440\\u0442\\u0444\\u043e\\u043d\\u0430\\u0410\\u043b\\u0433\\u043e\\u0440\\u0438\\u0442\\u043c \\u0441\\u043e\\u0441\\u0442\\u043e\\u0438\\u0442 \\u0438\\u0437 \\u043f\\u044f\\u0442\\u0438 \\u0448\\u0430\\u0433\\u043e\\u0432.\\u0423\\u0442\\u043e\\u0447\\u043d\\u0438\\u0442\\u0435 \\u0440\\u0430\\u0437\\u0440\\u0435\\u0448\\u0435\\u043d\\u0438\\u0435 \\u0438 \\u0447\\u0430\\u0441\\u0442\\u043e\\u0442\\u0443 \\u043a\\u0430\\u0434\\u0440\\u043e\\u0432\\u041f\\u0440\\u0438 \\u0432\\u044b\\u0431\\u043e\\u0440\\u0435 \\u043c\\u043e\\u0434\\u0435\\u043b\\u0438 \\u043c\\u043e\\u0436\\u0435\\u0442 \\u0441\\u043c\\u0443\\u0442\\u0438\\u0442\\u044c \\u043d\\u0438\\u0437\\u043a\\u043e\\u0435 \\u0440\\u0430\\u0437\\u0440\\u0435\\u0448\\u0435\\u043d\\u0438\\u0435 \\u043a\\u0430\\u043c\\u0435\\u0440\\u044b \\u0442\\u0435\\u043f\\u043b\\u043e\\u0432\\u0438\\u0437\\u043e\\u0440\\u0430: \\u0434\\u0430\\u0436\\u0435 \\u0443 \\u0434\\u043e\\u0440\\u043e\\u0433\\u0438\\u0445 \\u0440\\u0435\\u0448\\u0435\\u043d\\u0438\\u0439 \\u043d\\u0435 \\u0432\\u0441\\u0442\\u0440\\u0435\\u0442\\u0438\\u0448\\u044c 50\\u00a0\\u0438\\u043b\\u0438 100\\u00a0\\u041c\\u043f, \\u043a\\u0430\\u043a \\u0432 \\u0441\\u043e\\u0432\\u0440\\u0435\\u043c\\u0435\\u043d\\u043d\\u043e\\u043c \\u0441\\u043c\\u0430\\u0440\\u0442\\u0444\\u043e\\u043d\\u0435. \\u0425\\u043e\\u0440\\u043e\\u0448\\u0438\\u043c \\u0440\\u0430\\u0437\\u0440\\u0435\\u0448\\u0435\\u043d\\u0438\\u0435\\u043c \\u0441\\u0447\\u0438\\u0442\\u0430\\u0435\\u0442\\u0441\\u044f 256 \\u00d7 192\\u00a0\\u043f\\u0438\\u043a\\u0441\\u0435\\u043b\\u044f, \\u043d\\u043e \\u0431\\u044b\\u0432\\u0430\\u0435\\u0442 \\u0438 \\u0432\\u044b\\u0448\\u0435 \\u2014 320 \\u00d7 240\\u00a0\\u0438\\u043b\\u0438 \\u0434\\u0430\\u0436\\u0435 384 \\u00d7 288\\u00a0\\u043f\\u0438\\u043a\\u0441\\u0435\\u043b\\u0435\\u0439.\\u0420\\u0435\\u0447\\u044c \\u0438\\u043c\\u0435\\u043d\\u043d\\u043e \\u043e \\u0440\\u0430\\u0437\\u0440\\u0435\\u0448\\u0435\\u043d\\u0438\\u0438 \\u0441\\u0430\\u043c\\u043e\\u0439 \\u043c\\u0430\\u0442\\u0440\\u0438\\u0446\\u044b: \\u043d\\u0435\\u043a\\u043e\\u0442\\u043e\\u0440\\u044b\\u0435 \\u043f\\u0440\\u043e\\u0438\\u0437\\u0432\\u043e\\u0434\\u0438\\u0442\\u0435\\u043b\\u0438 \\u0442\\u0430\\u043a\\u0436\\u0435 \\u0443\\u043a\\u0430\\u0437\\u044b\\u0432\\u0430\\u044e\\u0442 \\u0440\\u0430\\u0437\\u0440\\u0435\\u0448\\u0435\\u043d\\u0438\\u0435 \\u0432\\u044b\\u0432\\u043e\\u0434\\u0438\\u043c\\u043e\\u0433\\u043e \\u043d\\u0430 \\u044d\\u043a\\u0440\\u0430\\u043d \\u0438\\u0437\\u043e\\u0431\\u0440\\u0430\\u0436\\u0435\\u043d\\u0438\\u044f, \\u043a\\u043e\\u0442\\u043e\\u0440\\u043e\\u0435 \\u043c\\u043e\\u0436\\u0435\\u0442 \\u0431\\u044b\\u0442\\u044c \\u0437\\u043d\\u0430\\u0447\\u0438\\u0442\\u0435\\u043b\\u044c\\u043d\\u043e \\u0432\\u044b\\u0448\\u0435.\\u041f\\u0435\\u0440\\u0435\\u043f\\u043b\\u0430\\u0447\\u0438\\u0432\\u0430\\u0442\\u044c \\u0437\\u0430 \\u0432\\u044b\\u0441\\u043e\\u043a\\u043e\\u0435 \\u0440\\u0430\\u0437\\u0440\\u0435\\u0448\\u0435\\u043d\\u0438\\u0435 \\u0441\\u0442\\u043e\\u0438\\u0442, \\u0442\\u043e\\u043b\\u044c\\u043a\\u043e \\u0435\\u0441\\u043b\\u0438 \\u0432\\u0430\\u043c \\u043d\\u0443\\u0436\\u0435\\u043d \\u0442\\u0435\\u043f\\u043b\\u043e\\u0432\\u0438\\u0437\\u043e\\u0440 \\u0434\\u043b\\u044f \\u0432\\u044b\\u0441\\u043e\\u043a\\u043e\\u0442\\u043e\\u0447\\u043d\\u044b\\u0445 \\u0440\\u0430\\u0431\\u043e\\u0442: \\u043d\\u0430\\u043f\\u0440\\u0438\\u043c\\u0435\\u0440, \\u0447\\u0442\\u043e\\u0431\\u044b \\u0438\\u0441\\u043a\\u0430\\u0442\\u044c \\u0438\\u0441\\u0442\\u043e\\u0447\\u043d\\u0438\\u043a\\u0438 \\u043f\\u0440\\u043e\\u0431\\u043b\\u0435\\u043c \\u043d\\u0430 \\u043d\\u0435\\u0431\\u043e\\u043b\\u044c\\u0448\\u0438\\u0445 \\u043f\\u043b\\u0430\\u0442\\u0430\\u0445 \\u043f\\u0440\\u0438 \\u0440\\u0435\\u043c\\u043e\\u043d\\u0442\\u0435 \\u044d\\u043b\\u0435\\u043a\\u0442\\u0440\\u043e\\u043d\\u0438\\u043a\\u0438. \\u0412 \\u043e\\u0441\\u0442\\u0430\\u043b\\u044c\\u043d\\u044b\\u0445 \\u0441\\u043b\\u0443\\u0447\\u0430\\u044f\\u0445 \\u0437\\u0430 \\u0431\\u043e\\u043b\\u044c\\u0448\\u0438\\u043c\\u0438 \\u0447\\u0438\\u0441\\u043b\\u0430\\u043c\\u0438 \\u0433\\u043d\\u0430\\u0442\\u044c\\u0441\\u044f \\u043d\\u0435\\u0442 \\u0441\\u043c\\u044b\\u0441\\u043b\\u0430.\\u0410 \\u0432\\u043e\\u0442 \\u043d\\u0430 \\u0447\\u0430\\u0441\\u0442\\u043e\\u0442\\u0443 \\u043a\\u0430\\u0434\\u0440\\u043e\\u0432 \\u0441\\u0442\\u043e\\u0438\\u0442 \\u043e\\u0431\\u0440\\u0430\\u0442\\u0438\\u0442\\u044c \\u0432\\u043d\\u0438\\u043c\\u0430\\u043d\\u0438\\u0435. \\u042d\\u0442\\u043e\\u0442 \\u043f\\u0430\\u0440\\u0430\\u043c\\u0435\\u0442\\u0440 \\u043d\\u0435 \\u0432\\u0441\\u0435\\u0433\\u0434\\u0430 \\u0443\\u043a\\u0430\\u0437\\u044b\\u0432\\u0430\\u0435\\u0442\\u0441\\u044f \\u043d\\u0430 \\u043c\\u0430\\u0440\\u043a\\u0435\\u0442\\u043f\\u043b\\u0435\\u0439\\u0441\\u0430\\u0445, \\u043d\\u043e \\u0435\\u0433\\u043e \\u043c\\u043e\\u0436\\u043d\\u043e \\u043f\\u043e\\u0441\\u043c\\u043e\\u0442\\u0440\\u0435\\u0442\\u044c \\u043d\\u0430 \\u0441\\u0430\\u0439\\u0442\\u0435 \\u043f\\u0440\\u043e\\u0438\\u0437\\u0432\\u043e\\u0434\\u0438\\u0442\\u0435\\u043b\\u044f. \\u041f\\u043e \\u0441\\u0443\\u0442\\u0438, \\u0447\\u0430\\u0441\\u0442\\u043e\\u0442\\u0430 \\u043a\\u0430\\u0434\\u0440\\u043e\\u0432 \\u2014 \\u044d\\u0442\\u043e \\u0442\\u043e, \\u0441\\u043a\\u043e\\u043b\\u044c\\u043a\\u043e \\u0440\\u0430\\u0437 \\u0432 \\u0441\\u0435\\u043a\\u0443\\u043d\\u0434\\u0443 \\u043e\\u0431\\u043d\\u043e\\u0432\\u043b\\u044f\\u0435\\u0442\\u0441\\u044f \\u0438\\u0437\\u043e\\u0431\\u0440\\u0430\\u0436\\u0435\\u043d\\u0438\\u0435. \\u041d\\u0430\\u043f\\u0440\\u0438\\u043c\\u0435\\u0440, \\u043a\\u0430\\u043c\\u0435\\u0440\\u0430 \\u043d\\u0430 25\\u00a0\\u0413\\u0446 \\u0441\\u043f\\u043e\\u0441\\u043e\\u0431\\u043d\\u0430 \\u043f\\u043e\\u043a\\u0430\\u0437\\u0430\\u0442\\u044c 25\\u00a0\\u043a\\u0430\\u0434\\u0440\\u043e\\u0432 \\u0432 \\u0441\\u0435\\u043a\\u0443\\u043d\\u0434\\u0443. \\u0427\\u0435\\u043c \\u0432\\u044b\\u0448\\u0435 \\u0447\\u0430\\u0441\\u0442\\u043e\\u0442\\u0430, \\u0442\\u0435\\u043c \\u0431\\u043e\\u043b\\u0435\\u0435 \\u043f\\u043b\\u0430\\u0432\\u043d\\u044b\\u043c \\u0431\\u0443\\u0434\\u0435\\u0442 \\u0432\\u0438\\u0434\\u0435\\u043e \\u043d\\u0430 \\u044d\\u043a\\u0440\\u0430\\u043d\\u0435. \\u041f\\u0440\\u0438 \\u043d\\u0438\\u0437\\u043a\\u043e\\u0439 \\u0436\\u0435 \\u0447\\u0430\\u0441\\u0442\\u043e\\u0442\\u0435 \\u0438\\u0437\\u043e\\u0431\\u0440\\u0430\\u0436\\u0435\\u043d\\u0438\\u0435 \\u0431\\u0443\\u0434\\u0435\\u0442 \\u043f\\u0440\\u0435\\u0440\\u044b\\u0432\\u0438\\u0441\\u0442\\u044b\\u043c, \\u0430 \\u0431\\u044b\\u0441\\u0442\\u0440\\u044b\\u0435 \\u0434\\u0432\\u0438\\u0436\\u0435\\u043d\\u0438\\u044f \\u2014 \\u0441\\u043c\\u0430\\u0437\\u0430\\u043d\\u043d\\u044b\\u043c\\u0438 \\u0438 \\u043d\\u0435\\u0447\\u0451\\u0442\\u043a\\u0438\\u043c\\u0438.\\u0421\\u0440\\u0430\\u0432\\u043d\\u0435\\u043d\\u0438\\u0435 \\u0432\\u0438\\u0434\\u0435\\u043e \\u0441 \\u0438\\u043d\\u0444\\u0440\\u0430\\u043a\\u0440\\u0430\\u0441\\u043d\\u043e\\u0439 \\u043a\\u0430\\u043c\\u0435\\u0440\\u044b \\u0432 25\\u00a0\\u0413\\u0446 (\\u0441\\u043b\\u0435\\u0432\\u0430) \\u0438 9\\u00a0\\u0413\\u0446 (\\u0441\\u043f\\u0440\\u0430\\u0432\\u0430). \\u041a\\u0430\\u0434\\u0440\\u044b: thermalvideo / YouTube\\u0423 \\u0441\\u043e\\u0432\\u0440\\u0435\\u043c\\u0435\\u043d\\u043d\\u044b\\u0445 \\u0442\\u0435\\u043f\\u043b\\u043e\\u0432\\u0438\\u0437\\u043e\\u0440\\u043e\\u0432 \\u0447\\u0430\\u0441\\u0442\\u043e\\u0442\\u0430 \\u043a\\u0430\\u0434\\u0440\\u043e\\u0432 \\u0434\\u043e\\u0445\\u043e\\u0434\\u0438\\u0442 \\u0434\\u043e 50\\u00a0\\u0413\\u0446, \\u0438 \\u043d\\u0430 \\u0442\\u0430\\u043a\\u0438\\u0445 \\u0437\\u043d\\u0430\\u0447\\u0435\\u043d\\u0438\\u044f\\u0445 \\u0432\\u0438\\u0434\\u0435\\u043e \\u0431\\u0443\\u0434\\u0435\\u0442 \\u043f\\u043e\\u0445\\u043e\\u0436\\u0435 \\u043d\\u0430 \\u0441\\u044a\\u0451\\u043c\\u043a\\u0443 \\u0441 \\u043e\\u0431\\u044b\\u0447\\u043d\\u043e\\u0439 \\u043a\\u0430\\u043c\\u0435\\u0440\\u044b. \\u041d\\u043e \\u0442\\u0430\\u043a\\u0438\\u0435 \\u0440\\u0435\\u0448\\u0435\\u043d\\u0438\\u044f \\u043e\\u0442\\u043d\\u043e\\u0441\\u044f\\u0442\\u0441\\u044f \\u043a \\u043f\\u0440\\u043e\\u0444\\u0435\\u0441\\u0441\\u0438\\u043e\\u043d\\u0430\\u043b\\u044c\\u043d\\u043e\\u043c\\u0443 \\u0443\\u0440\\u043e\\u0432\\u043d\\u044e \\u0438 \\u043f\\u043e\\u044f\\u0432\\u0438\\u043b\\u0438\\u0441\\u044c \\u0441\\u043e\\u0432\\u0441\\u0435\\u043c \\u043d\\u0435\\u0434\\u0430\\u0432\\u043d\\u043e, \\u043f\\u043e\\u044d\\u0442\\u043e\\u043c\\u0443 \\u0441\\u0442\\u043e\\u044f\\u0442 \\u0434\\u043e\\u0440\\u043e\\u0433\\u043e. 25\\u00a0\\u0413\\u0446 \\u2014 \\u0430\\u043a\\u0442\\u0443\\u0430\\u043b\\u044c\\u043d\\u044b\\u0439 \\u0441\\u0442\\u0430\\u043d\\u0434\\u0430\\u0440\\u0442, \\u043a\\u043e\\u0442\\u043e\\u0440\\u044b\\u0439 \\u043c\\u043e\\u0436\\u043d\\u043e \\u043d\\u0430\\u0439\\u0442\\u0438 \\u0432 \\u043c\\u043e\\u0434\\u0435\\u043b\\u044f\\u0445 \\u0438 \\u0437\\u0430 20, \\u0438 \\u0437\\u0430 80\\u00a0\\u0442\\u044b\\u0441\\u044f\\u0447 \\u0440\\u0443\\u0431\\u043b\\u0435\\u0439, \\u0442\\u0430\\u043a \\u0447\\u0442\\u043e \\u043e\\u0440\\u0438\\u0435\\u043d\\u0442\\u0438\\u0440\\u043e\\u0432\\u0430\\u0442\\u044c\\u0441\\u044f \\u0441\\u0442\\u043e\\u0438\\u0442 \\u0438\\u043c\\u0435\\u043d\\u043d\\u043e \\u043d\\u0430 \\u043d\\u0435\\u0433\\u043e.\\u0412\\u044b\\u044f\\u0441\\u043d\\u0438\\u0442\\u0435 \\u0434\\u0438\\u0430\\u043f\\u0430\\u0437\\u043e\\u043d \\u0442\\u0435\\u043c\\u043f\\u0435\\u0440\\u0430\\u0442\\u0443\\u0440 \\u0438 \\u0434\\u0430\\u043b\\u044c\\u043d\\u043e\\u0441\\u0442\\u044c \\u0441\\u0440\\u0430\\u0431\\u0430\\u0442\\u044b\\u0432\\u0430\\u043d\\u0438\\u044f\\u0417\\u0434\\u0435\\u0441\\u044c \\u0432\\u0441\\u0451 \\u043f\\u0440\\u043e\\u0441\\u0442\\u043e: \\u0434\\u0438\\u0430\\u043f\\u0430\\u0437\\u043e\\u043d \\u0442\\u0435\\u043c\\u043f\\u0435\\u0440\\u0430\\u0442\\u0443\\u0440 \\u0443\\u043a\\u0430\\u0437\\u044b\\u0432\\u0430\\u0435\\u0442 \\u043d\\u0430 \\u0442\\u043e, \\u0432 \\u043a\\u0430\\u043a\\u0438\\u0445 \\u043f\\u0440\\u0435\\u0434\\u0435\\u043b\\u0430\\u0445 \\u043f\\u0440\\u0438\\u0431\\u043e\\u0440 \\u043c\\u043e\\u0436\\u0435\\u0442 \\u0441\\u0447\\u0438\\u0442\\u044b\\u0432\\u0430\\u0442\\u044c \\u0437\\u043d\\u0430\\u0447\\u0435\\u043d\\u0438\\u044f, \\u0430 \\u0434\\u0430\\u043b\\u044c\\u043d\\u043e\\u0441\\u0442\\u044c \\u2014 \\u0441 \\u043a\\u0430\\u043a\\u043e\\u0433\\u043e \\u0440\\u0430\\u0441\\u0441\\u0442\\u043e\\u044f\\u043d\\u0438\\u044f \\u043e\\u043d \\u044d\\u0442\\u043e \\u0434\\u0435\\u043b\\u0430\\u0435\\u0442. \\u041d\\u0435\\u043a\\u043e\\u0442\\u043e\\u0440\\u044b\\u0435 \\u043f\\u0440\\u043e\\u0438\\u0437\\u0432\\u043e\\u0434\\u0438\\u0442\\u0435\\u043b\\u0438 \\u0443\\u0442\\u043e\\u0447\\u043d\\u044f\\u044e\\u0442 \\u0434\\u0432\\u0430 \\u0437\\u043d\\u0430\\u0447\\u0435\\u043d\\u0438\\u044f: \\u0434\\u0430\\u043b\\u044c\\u043d\\u043e\\u0441\\u0442\\u044c \\u043e\\u0431\\u043d\\u0430\\u0440\\u0443\\u0436\\u0435\\u043d\\u0438\\u044f \\u0438 \\u0434\\u0430\\u043b\\u044c\\u043d\\u043e\\u0441\\u0442\\u044c \\u0438\\u0437\\u043c\\u0435\\u0440\\u0435\\u043d\\u0438\\u044f.\\u0414\\u0430\\u043b\\u044c\\u043d\\u043e\\u0441\\u0442\\u044c \\u043e\\u0431\\u043d\\u0430\\u0440\\u0443\\u0436\\u0435\\u043d\\u0438\\u044f \\u2014 \\u044d\\u0442\\u043e \\u0442\\u043e, \\u0441 \\u043a\\u0430\\u043a\\u043e\\u0433\\u043e \\u0440\\u0430\\u0441\\u0441\\u0442\\u043e\\u044f\\u043d\\u0438\\u044f \\u0442\\u0435\\u043f\\u043b\\u043e\\u0432\\u0438\\u0437\\u043e\\u0440 \\u0444\\u0438\\u043a\\u0441\\u0438\\u0440\\u0443\\u0435\\u0442 \\u043f\\u0440\\u0438\\u0441\\u0443\\u0442\\u0441\\u0442\\u0432\\u0438\\u0435 \\u043e\\u0431\\u044a\\u0435\\u043a\\u0442\\u0430. \\u0412 \\u0431\\u044b\\u0442\\u043e\\u0432\\u044b\\u0445 \\u0443\\u0441\\u043b\\u043e\\u0432\\u0438\\u044f\\u0445 \\u044d\\u0442\\u043e\\u0442 \\u043f\\u0430\\u0440\\u0430\\u043c\\u0435\\u0442\\u0440 \\u0431\\u0443\\u0434\\u0435\\u0442 \\u043f\\u043e\\u043b\\u0435\\u0437\\u0435\\u043d \\u0440\\u0430\\u0437\\u0432\\u0435 \\u0447\\u0442\\u043e \\u0434\\u043b\\u044f \\u043f\\u043e\\u0438\\u0441\\u043a\\u0430 \\u0436\\u0438\\u0432\\u043e\\u0442\\u043d\\u044b\\u0445. \\u0414\\u0430\\u043b\\u044c\\u043d\\u043e\\u0441\\u0442\\u044c \\u0438\\u0437\\u043c\\u0435\\u0440\\u0435\\u043d\\u0438\\u044f \\u2014 \\u043c\\u0430\\u043a\\u0441\\u0438\\u043c\\u0430\\u043b\\u044c\\u043d\\u043e\\u0435 \\u0440\\u0430\\u0441\\u0441\\u0442\\u043e\\u044f\\u043d\\u0438\\u0435, \\u043d\\u0430 \\u043a\\u043e\\u0442\\u043e\\u0440\\u043e\\u043c \\u043c\\u043e\\u0436\\u043d\\u043e \\u0442\\u043e\\u0447\\u043d\\u043e \\u043e\\u043f\\u0440\\u0435\\u0434\\u0435\\u043b\\u0438\\u0442\\u044c \\u0442\\u0435\\u043c\\u043f\\u0435\\u0440\\u0430\\u0442\\u0443\\u0440\\u0443 (\\u0432 \\u043f\\u0440\\u0435\\u0434\\u0435\\u043b\\u0430\\u0445 \\u0437\\u0430\\u044f\\u0432\\u043b\\u0435\\u043d\\u043d\\u043e\\u0439 \\u043f\\u0440\\u043e\\u0438\\u0437\\u0432\\u043e\\u0434\\u0438\\u0442\\u0435\\u043b\\u0435\\u043c \\u043f\\u043e\\u0433\\u0440\\u0435\\u0448\\u043d\\u043e\\u0441\\u0442\\u0438).\\u041a\\u0430\\u0434\\u0440: TechCornerTV Electronics, Projects & Tutorials / YouTube\\u0427\\u0430\\u0441\\u0442\\u043e \\u043c\\u043e\\u0436\\u043d\\u043e \\u0432\\u0441\\u0442\\u0440\\u0435\\u0442\\u0438\\u0442\\u044c \\u0431\\u043e\\u043b\\u044c\\u0448\\u043e\\u0439 \\u0434\\u0438\\u0430\\u043f\\u0430\\u0437\\u043e\\u043d \\u0442\\u0435\\u043c\\u043f\\u0435\\u0440\\u0430\\u0442\\u0443\\u0440: \\u043d\\u0430\\u043f\\u0440\\u0438\\u043c\\u0435\\u0440, \\u043e\\u0442 \\u221250\\u00a0\\u0434\\u043e 450 \\u00b0C. \\u041d\\u043e \\u0437\\u0434\\u0435\\u0441\\u044c \\u0432\\u0430\\u0436\\u043d\\u043e \\u0443\\u0447\\u0438\\u0442\\u044b\\u0432\\u0430\\u0442\\u044c \\u0438 \\u0440\\u0430\\u0431\\u043e\\u0447\\u0443\\u044e \\u0442\\u0435\\u043c\\u043f\\u0435\\u0440\\u0430\\u0442\\u0443\\u0440\\u0443 \\u0441\\u0430\\u043c\\u043e\\u0433\\u043e \\u0433\\u0430\\u0434\\u0436\\u0435\\u0442\\u0430. \\u0423 \\u0431\\u043e\\u043b\\u044c\\u0448\\u0438\\u043d\\u0441\\u0442\\u0432\\u0430 \\u043c\\u043e\\u0434\\u0435\\u043b\\u0435\\u0439 \\u0434\\u043b\\u044f \\u0441\\u043c\\u0430\\u0440\\u0442\\u0444\\u043e\\u043d\\u0430 \\u0434\\u0438\\u0430\\u043f\\u0430\\u0437\\u043e\\u043d \\u043a\\u0443\\u0434\\u0430 \\u0441\\u043a\\u0440\\u043e\\u043c\\u043d\\u0435\\u0435, \\u0447\\u0442\\u043e\\u2011\\u0442\\u043e \\u0432\\u0440\\u043e\\u0434\\u0435 \\u043e\\u0442 \\u221210\\u00a0\\u0434\\u043e 55 \\u00b0C. \\u0415\\u0441\\u043b\\u0438 \\u0443\\u0441\\u043b\\u043e\\u0432\\u0438\\u044f \\u0431\\u0443\\u0434\\u0443\\u0442 \\u043d\\u0435\\u043f\\u0440\\u0438\\u0433\\u043e\\u0434\\u043d\\u044b \\u0434\\u043b\\u044f \\u0440\\u0430\\u0431\\u043e\\u0442\\u044b \\u0441\\u0430\\u043c\\u043e\\u0433\\u043e \\u0442\\u0435\\u043f\\u043b\\u043e\\u0432\\u0438\\u0437\\u043e\\u0440\\u0430, \\u0438\\u0437\\u043c\\u0435\\u0440\\u0438\\u0442\\u044c \\u0438\\u043c \\u043d\\u0438\\u0447\\u0435\\u0433\\u043e \\u043d\\u0435 \\u043f\\u043e\\u043b\\u0443\\u0447\\u0438\\u0442\\u0441\\u044f: \\u043f\\u0440\\u043e\\u0433\\u0440\\u0430\\u043c\\u043c\\u0430 \\u0441\\u043e\\u043e\\u0431\\u0449\\u0438\\u0442 \\u043e \\u043d\\u0435\\u0432\\u043e\\u0437\\u043c\\u043e\\u0436\\u043d\\u043e\\u0441\\u0442\\u0438 \\u043f\\u043e\\u0434\\u043a\\u043b\\u044e\\u0447\\u0435\\u043d\\u0438\\u044f \\u0438\\u043b\\u0438 \\u0438\\u0441\\u043f\\u043e\\u043b\\u044c\\u0437\\u043e\\u0432\\u0430\\u043d\\u0438\\u044f \\u0438\\u043d\\u0441\\u0442\\u0440\\u0443\\u043c\\u0435\\u043d\\u0442\\u0430.\\u041f\\u0440\\u043e\\u0432\\u0435\\u0440\\u044c\\u0442\\u0435 \\u0442\\u0438\\u043f \\u043f\\u043e\\u0434\\u043a\\u043b\\u044e\\u0447\\u0435\\u043d\\u0438\\u044f\\u041c\\u0438\\u043d\\u0438\\u0430\\u0442\\u044e\\u0440\\u043d\\u044b\\u0435 \\u0442\\u0435\\u043f\\u043b\\u043e\\u0432\\u0438\\u0437\\u043e\\u0440\\u044b \\u043f\\u0438\\u0442\\u0430\\u044e\\u0442\\u0441\\u044f \\u043e\\u0442 \\u0441\\u043c\\u0430\\u0440\\u0442\\u0444\\u043e\\u043d\\u0430: \\u0443 \\u043d\\u0435\\u043a\\u043e\\u0442\\u043e\\u0440\\u044b\\u0445 \\u0435\\u0441\\u0442\\u044c \\u0441\\u043e\\u0431\\u0441\\u0442\\u0432\\u0435\\u043d\\u043d\\u0430\\u044f \\u0431\\u0430\\u0442\\u0430\\u0440\\u0435\\u0439\\u043a\\u0430, \\u043d\\u043e \\u043e\\u043d\\u0430 \\u043d\\u0443\\u0436\\u043d\\u0430 \\u0431\\u043e\\u043b\\u044c\\u0448\\u0435 \\u043a\\u0430\\u043a \\u0440\\u0435\\u0437\\u0435\\u0440\\u0432, \\u0430 \\u043d\\u0435 \\u043a\\u0430\\u043a \\u043e\\u0441\\u043d\\u043e\\u0432\\u043d\\u043e\\u0439 \\u0438\\u0441\\u0442\\u043e\\u0447\\u043d\\u0438\\u043a. \\u0421\\u043e\\u043e\\u0442\\u0432\\u0435\\u0442\\u0441\\u0442\\u0432\\u0435\\u043d\\u043d\\u043e, \\u043f\\u043e\\u0434\\u043a\\u043b\\u044e\\u0447\\u0430\\u0435\\u0442\\u0441\\u044f \\u0442\\u0430\\u043a\\u043e\\u0439 \\u0433\\u0430\\u0434\\u0436\\u0435\\u0442 \\u0438\\u043c\\u0435\\u043d\\u043d\\u043e \\u043a \\u0440\\u0430\\u0437\\u044a\\u0451\\u043c\\u0443 \\u043f\\u0438\\u0442\\u0430\\u043d\\u0438\\u044f, \\u043f\\u0440\\u0438\\u0447\\u0451\\u043c \\u043e\\u0431\\u044b\\u0447\\u043d\\u043e \\u043d\\u0430\\u043f\\u0440\\u044f\\u043c\\u0443\\u044e \\u0447\\u0435\\u0440\\u0435\\u0437 \\u043a\\u043e\\u043d\\u043d\\u0435\\u043a\\u0442\\u043e\\u0440, \\u043a\\u043e\\u0442\\u043e\\u0440\\u044b\\u0439 \\u043f\\u0440\\u043e\\u0441\\u0442\\u043e \\u0432\\u044b\\u0441\\u0442\\u0443\\u043f\\u0430\\u0435\\u0442 \\u0438\\u0437 \\u043a\\u043e\\u0440\\u043f\\u0443\\u0441\\u0430, \\u043a\\u0430\\u043a \\u0443 \\u0444\\u043b\\u0435\\u0448\\u043a\\u0438.\\u042d\\u0442\\u043e \\u0438 \\u043f\\u043b\\u044e\\u0441, \\u0438 \\u043c\\u0438\\u043d\\u0443\\u0441. \\u0421 \\u043e\\u0434\\u043d\\u043e\\u0439 \\u0441\\u0442\\u043e\\u0440\\u043e\\u043d\\u044b, \\u0442\\u0435\\u043f\\u043b\\u043e\\u0432\\u0438\\u0437\\u043e\\u0440 \\u043d\\u0435 \\u0431\\u0443\\u0434\\u0435\\u0442 \\u0431\\u043e\\u043b\\u0442\\u0430\\u0442\\u044c\\u0441\\u044f \\u0433\\u0434\\u0435\\u2011\\u0442\\u043e \\u043f\\u043e\\u0434 \\u0441\\u043c\\u0430\\u0440\\u0442\\u0444\\u043e\\u043d\\u043e\\u043c, \\u043f\\u043b\\u043e\\u0445\\u043e \\u0444\\u043e\\u043a\\u0443\\u0441\\u0438\\u0440\\u043e\\u0432\\u0430\\u0442\\u044c\\u0441\\u044f \\u0438 \\u0440\\u0430\\u0441\\u0448\\u0430\\u0442\\u044b\\u0432\\u0430\\u0442\\u044c \\u043a\\u043e\\u043d\\u043d\\u0435\\u043a\\u0442\\u043e\\u0440. \\u0421 \\u0434\\u0440\\u0443\\u0433\\u043e\\u0439 \\u2014 \\u043a \\u0442\\u0435\\u043b\\u0435\\u0444\\u043e\\u043d\\u0443 \\u0432 \\u0442\\u043e\\u043b\\u0441\\u0442\\u043e\\u043c \\u0447\\u0435\\u0445\\u043b\\u0435 \\u0443\\u0441\\u0442\\u0440\\u043e\\u0439\\u0441\\u0442\\u0432\\u043e \\u043f\\u0440\\u043e\\u0441\\u0442\\u043e \\u043d\\u0435 \\u043f\\u043e\\u0434\\u0441\\u043e\\u0435\\u0434\\u0438\\u043d\\u0438\\u0442\\u0441\\u044f \\u0438\\u0437\\u2011\\u0437\\u0430 \\u043d\\u0435\\u0431\\u043e\\u043b\\u044c\\u0448\\u043e\\u0439 \\u0434\\u043b\\u0438\\u043d\\u044b \\u043a\\u043e\\u043d\\u043d\\u0435\\u043a\\u0442\\u043e\\u0440\\u0430. \\u041f\\u0440\\u0438\\u0434\\u0451\\u0442\\u0441\\u044f \\u043b\\u0438\\u0431\\u043e \\u043d\\u043e\\u0441\\u0438\\u0442\\u044c \\u0443\\u0441\\u0442\\u0440\\u043e\\u0439\\u0441\\u0442\\u0432\\u043e \\u0431\\u0435\\u0437 \\u0437\\u0430\\u0449\\u0438\\u0442\\u044b, \\u043b\\u0438\\u0431\\u043e \\u0438\\u0441\\u043a\\u0430\\u0442\\u044c \\u0447\\u0435\\u0445\\u043e\\u043b \\u0441 \\u043e\\u0442\\u043a\\u0440\\u044b\\u0442\\u043e\\u0439 \\u043d\\u0438\\u0436\\u043d\\u0435\\u0439 \\u0433\\u0440\\u0430\\u043d\\u044c\\u044e.\\u0422\\u0438\\u043f \\u0440\\u0430\\u0437\\u044a\\u0451\\u043c\\u0430 \\u0432\\u0430\\u0436\\u0435\\u043d: \\u0435\\u0433\\u043e \\u043d\\u0443\\u0436\\u043d\\u043e \\u043f\\u043e\\u0434\\u0431\\u0438\\u0440\\u0430\\u0442\\u044c \\u043f\\u043e\\u0434 \\u0441\\u043c\\u0430\\u0440\\u0442\\u0444\\u043e\\u043d. \\u0421\\u0430\\u043c\\u044b\\u0439 \\u043f\\u043e\\u043f\\u0443\\u043b\\u044f\\u0440\\u043d\\u044b\\u0439 \\u043a\\u043e\\u043d\\u043d\\u0435\\u043a\\u0442\\u043e\\u0440 \\u2014 USB\\u2011C, \\u043e\\u0442 \\u043d\\u0435\\u0433\\u043e \\u0437\\u0430\\u0440\\u044f\\u0436\\u0430\\u044e\\u0442\\u0441\\u044f \\u0431\\u043e\\u043b\\u044c\\u0448\\u0438\\u043d\\u0441\\u0442\\u0432\\u043e \\u0438 \\u0441\\u043c\\u0430\\u0440\\u0442\\u0444\\u043e\\u043d\\u043e\\u0432, \\u0438 \\u0442\\u0435\\u043f\\u043b\\u043e\\u0432\\u0438\\u0437\\u043e\\u0440\\u043e\\u0432. \\u0415\\u0441\\u043b\\u0438 \\u0443 \\u0432\\u0430\\u0441 \\u0441\\u0442\\u0430\\u0440\\u044b\\u0439 Android\\u2011\\u0433\\u0430\\u0434\\u0436\\u0435\\u0442 \\u0441 microUSB \\u0438\\u043b\\u0438 iPhone \\u0441 Lightning, \\u0432\\u044b\\u0431\\u043e\\u0440 \\u0431\\u0443\\u0434\\u0435\\u0442 \\u043a\\u0443\\u0434\\u0430 \\u0441\\u043a\\u0440\\u043e\\u043c\\u043d\\u0435\\u0435.\\u0415\\u0441\\u043b\\u0438 \\u043d\\u0435 \\u043d\\u0430\\u0439\\u0434\\u0451\\u0442\\u0435 \\u043d\\u0438\\u0447\\u0435\\u0433\\u043e \\u043f\\u043e\\u0434 \\u0441\\u0432\\u043e\\u0438 \\u0442\\u0440\\u0435\\u0431\\u043e\\u0432\\u0430\\u043d\\u0438\\u044f \\u0438 \\u0431\\u044e\\u0434\\u0436\\u0435\\u0442, \\u043c\\u043e\\u0436\\u043d\\u043e \\u0434\\u043e\\u043a\\u0443\\u043f\\u0438\\u0442\\u044c \\u043f\\u0435\\u0440\\u0435\\u0445\\u043e\\u0434\\u043d\\u0438\\u043a. \\u041d\\u043e \\u0442\\u0430\\u043a\\u043e\\u0433\\u043e \\u0441\\u0446\\u0435\\u043d\\u0430\\u0440\\u0438\\u044f \\u043b\\u0443\\u0447\\u0448\\u0435 \\u0438\\u0437\\u0431\\u0435\\u0433\\u0430\\u0442\\u044c: \\u0441 \\u043f\\u0435\\u0440\\u0435\\u0445\\u043e\\u0434\\u043d\\u0438\\u043a\\u043e\\u043c\\u2011\\u043a\\u0430\\u0431\\u0435\\u043b\\u0435\\u043c \\u0442\\u0435\\u043f\\u043b\\u043e\\u0432\\u0438\\u0437\\u043e\\u0440 \\u043f\\u0440\\u0438\\u0434\\u0451\\u0442\\u0441\\u044f \\u043f\\u0440\\u0438\\u0434\\u0435\\u0440\\u0436\\u0438\\u0432\\u0430\\u0442\\u044c \\u0434\\u043b\\u044f \\u0441\\u0442\\u0430\\u0431\\u0438\\u043b\\u0438\\u0437\\u0430\\u0446\\u0438\\u0438, \\u0430 \\u043c\\u0438\\u043a\\u0440\\u043e\\u0430\\u0434\\u0430\\u043f\\u0442\\u0435\\u0440 \\u043f\\u043e\\u0432\\u044b\\u0441\\u0438\\u0442 \\u043d\\u0430\\u0433\\u0440\\u0443\\u0437\\u043a\\u0443 \\u043d\\u0430 \\u043f\\u043e\\u0440\\u0442 \\u0441\\u043c\\u0430\\u0440\\u0442\\u0444\\u043e\\u043d\\u0430.\\u041f\\u043e\\u0441\\u043c\\u043e\\u0442\\u0440\\u0438\\u0442\\u0435 \\u043f\\u0440\\u0438\\u043b\\u043e\\u0436\\u0435\\u043d\\u0438\\u0435\\u041f\\u0440\\u0438\\u043b\\u043e\\u0436\\u0435\\u043d\\u0438\\u0435\\u2011\\u043a\\u043e\\u043c\\u043f\\u0430\\u043d\\u044c\\u043e\\u043d \\u043d\\u0435 \\u0442\\u043e\\u043b\\u044c\\u043a\\u043e \\u043e\\u0442\\u0432\\u0435\\u0447\\u0430\\u0435\\u0442 \\u0437\\u0430 \\u043f\\u043e\\u0434\\u043a\\u043b\\u044e\\u0447\\u0435\\u043d\\u0438\\u0435 \\u0433\\u0430\\u0434\\u0436\\u0435\\u0442\\u0430, \\u043d\\u043e \\u0438 \\u043f\\u043e\\u0437\\u0432\\u043e\\u043b\\u044f\\u0435\\u0442 \\u043d\\u0430\\u0441\\u0442\\u0440\\u0430\\u0438\\u0432\\u0430\\u0442\\u044c \\u043a\\u0430\\u043c\\u0435\\u0440\\u0443 \\u0438 \\u043f\\u043e\\u043b\\u0443\\u0447\\u0430\\u0442\\u044c \\u0438\\u0437\\u043e\\u0431\\u0440\\u0430\\u0436\\u0435\\u043d\\u0438\\u0435 \\u0441 \\u043d\\u0435\\u0451. \\u0412\\u043e \\u043c\\u043d\\u043e\\u0433\\u043e\\u043c \\u043e\\u0442 \\u0442\\u0430\\u043a\\u043e\\u0439 \\u043f\\u0440\\u043e\\u0433\\u0440\\u0430\\u043c\\u043c\\u044b \\u0437\\u0430\\u0432\\u0438\\u0441\\u0438\\u0442 \\u0443\\u0434\\u043e\\u0431\\u0441\\u0442\\u0432\\u043e \\u0438\\u0441\\u043f\\u043e\\u043b\\u044c\\u0437\\u043e\\u0432\\u0430\\u043d\\u0438\\u044f \\u0442\\u0435\\u043f\\u043b\\u043e\\u0432\\u0438\\u0437\\u043e\\u0440\\u0430, \\u043f\\u043e\\u044d\\u0442\\u043e\\u043c\\u0443 \\u0435\\u0451 \\u0441\\u0442\\u043e\\u0438\\u0442 \\u0438\\u0437\\u0443\\u0447\\u0438\\u0442\\u044c \\u0435\\u0449\\u0451 \\u0434\\u043e \\u043f\\u043e\\u043a\\u0443\\u043f\\u043a\\u0438. \\u0423\\u0431\\u0435\\u0434\\u0438\\u0442\\u0435\\u0441\\u044c, \\u0447\\u0442\\u043e \\u0432\\u0430\\u0441 \\u0443\\u0441\\u0442\\u0440\\u0430\\u0438\\u0432\\u0430\\u0435\\u0442 \\u0440\\u0430\\u0431\\u043e\\u0442\\u0430 \\u043f\\u0440\\u0438\\u043b\\u043e\\u0436\\u0435\\u043d\\u0438\\u044f \\u2014 \\u0445\\u043e\\u0442\\u044f \\u0431\\u044b \\u043d\\u0430 \\u0443\\u0440\\u043e\\u0432\\u043d\\u0435 \\u0441\\u043e\\u0432\\u043c\\u0435\\u0441\\u0442\\u0438\\u043c\\u043e\\u0441\\u0442\\u0438 \\u0441 \\u0432\\u0430\\u0448\\u0438\\u043c \\u0442\\u0435\\u043b\\u0435\\u0444\\u043e\\u043d\\u043e\\u043c \\u0438 \\u0440\\u0435\\u0433\\u0443\\u043b\\u044f\\u0440\\u043d\\u044b\\u0445 \\u043e\\u0431\\u043d\\u043e\\u0432\\u043b\\u0435\\u043d\\u0438\\u0439 (\\u043c\\u043e\\u0436\\u043d\\u043e \\u043f\\u0440\\u043e\\u0432\\u0435\\u0440\\u0438\\u0442\\u044c \\u043f\\u043e \\u0438\\u0441\\u0442\\u043e\\u0440\\u0438\\u0438 \\u0432\\u0435\\u0440\\u0441\\u0438\\u0439).\\u0421\\u0432\\u043e\\u0451 \\u043f\\u0440\\u0438\\u043b\\u043e\\u0436\\u0435\\u043d\\u0438\\u0435 \\u0435\\u0441\\u0442\\u044c \\u0443 \\u043a\\u0430\\u0436\\u0434\\u043e\\u0433\\u043e \\u043f\\u0440\\u043e\\u0438\\u0437\\u0432\\u043e\\u0434\\u0438\\u0442\\u0435\\u043b\\u044f (\\u043d\\u0430\\u043f\\u0440\\u0438\\u043c\\u0435\\u0440, \\u0443 Infiray \\u2014 Infiray Outdoor, \\u0443 HTI \\u2014 Hti\\u2011xintai). \\u041d\\u0430\\u0437\\u0432\\u0430\\u043d\\u0438\\u0435 \\u043f\\u0440\\u043e\\u0433\\u0440\\u0430\\u043c\\u043c\\u044b \\u043c\\u043e\\u0436\\u043d\\u043e \\u043d\\u0430\\u0439\\u0442\\u0438 \\u0432 \\u043e\\u043f\\u0438\\u0441\\u0430\\u043d\\u0438\\u0438 \\u0442\\u043e\\u0432\\u0430\\u0440\\u0430, \\u043d\\u0430 \\u0441\\u0430\\u0439\\u0442\\u0435 \\u043a\\u043e\\u043c\\u043f\\u0430\\u043d\\u0438\\u0438 \\u043b\\u0438\\u0431\\u043e \\u043f\\u0440\\u044f\\u043c\\u043e \\u0432 App Store \\u0438 Google Play. \\u041d\\u0435\\u043a\\u043e\\u0442\\u043e\\u0440\\u044b\\u0435 \\u043f\\u0440\\u0438\\u043b\\u043e\\u0436\\u0435\\u043d\\u0438\\u044f \\u043d\\u0435 \\u0440\\u0430\\u0431\\u043e\\u0442\\u0430\\u044e\\u0442 \\u0441\\u043e \\u0441\\u0442\\u0430\\u0440\\u044b\\u043c\\u0438 \\u0432\\u0435\\u0440\\u0441\\u0438\\u044f\\u043c\\u0438 Android (\\u0447\\u0430\\u0441\\u0442\\u043e \\u043f\\u043e\\u0434\\u0434\\u0435\\u0440\\u0436\\u0438\\u0432\\u0430\\u044e\\u0442\\u0441\\u044f \\u0442\\u043e\\u043b\\u044c\\u043a\\u043e Android 10 \\u0438 \\u043d\\u043e\\u0432\\u0435\\u0435). \\u0412 \\u0442\\u0430\\u043a\\u043e\\u043c \\u0441\\u043b\\u0443\\u0447\\u0430\\u0435 \\u043f\\u0440\\u043e\\u0434\\u0430\\u0432\\u0446\\u044b \\u043f\\u0440\\u0435\\u0434\\u043b\\u0430\\u0433\\u0430\\u044e\\u0442 \\u043f\\u0440\\u0438\\u0441\\u043b\\u0430\\u0442\\u044c \\u0441\\u043f\\u0435\\u0446\\u0438\\u0430\\u043b\\u044c\\u043d\\u0443\\u044e \\u0432\\u0435\\u0440\\u0441\\u0438\\u044e APK, \\u0430\\u0434\\u0430\\u043f\\u0442\\u0438\\u0440\\u043e\\u0432\\u0430\\u043d\\u043d\\u0443\\u044e \\u043f\\u043e\\u0434 \\u0432\\u0430\\u0448\\u0443 \\u0441\\u0438\\u0441\\u0442\\u0435\\u043c\\u0443.\\u041e\\u0431\\u0440\\u0430\\u0442\\u0438\\u0442\\u0435 \\u0432\\u043d\\u0438\\u043c\\u0430\\u043d\\u0438\\u0435 \\u043d\\u0430 \\u0434\\u0440\\u0443\\u0433\\u0438\\u0435 \\u0445\\u0430\\u0440\\u0430\\u043a\\u0442\\u0435\\u0440\\u0438\\u0441\\u0442\\u0438\\u043a\\u0438\\u0415\\u0449\\u0451 \\u043d\\u0435\\u0441\\u043a\\u043e\\u043b\\u044c\\u043a\\u043e \\u043f\\u0430\\u0440\\u0430\\u043c\\u0435\\u0442\\u0440\\u043e\\u0432, \\u043a\\u043e\\u0442\\u043e\\u0440\\u044b\\u0435 \\u043c\\u043e\\u0433\\u0443\\u0442 \\u0431\\u044b\\u0442\\u044c \\u0432\\u0430\\u0436\\u043d\\u044b: \\u0422\\u0435\\u043f\\u043b\\u043e\\u0432\\u0430\\u044f \\u0447\\u0443\\u0432\\u0441\\u0442\\u0432\\u0438\\u0442\\u0435\\u043b\\u044c\\u043d\\u043e\\u0441\\u0442\\u044c \\u2014 \\u043c\\u0438\\u043d\\u0438\\u043c\\u0430\\u043b\\u044c\\u043d\\u0430\\u044f \\u0440\\u0430\\u0437\\u043d\\u0438\\u0446\\u0430 \\u0442\\u0435\\u043c\\u043f\\u0435\\u0440\\u0430\\u0442\\u0443\\u0440, \\u043a\\u043e\\u0442\\u043e\\u0440\\u0430\\u044f \\u0444\\u0438\\u043a\\u0441\\u0438\\u0440\\u0443\\u0435\\u0442\\u0441\\u044f \\u0432 \\u043f\\u0440\\u0435\\u0434\\u0435\\u043b\\u0430\\u0445 \\u043e\\u0434\\u043d\\u043e\\u0433\\u043e \\u043f\\u0438\\u043a\\u0441\\u0435\\u043b\\u044f. \\u0427\\u0435\\u043c \\u043d\\u0438\\u0436\\u0435 \\u044d\\u0442\\u043e\\u0442 \\u043f\\u043e\\u043a\\u0430\\u0437\\u0430\\u0442\\u0435\\u043b\\u044c, \\u0442\\u0435\\u043c \\u043a\\u0430\\u0447\\u0435\\u0441\\u0442\\u0432\\u0435\\u043d\\u043d\\u0435\\u0435 \\u0438 \\u043d\\u0430\\u0433\\u043b\\u044f\\u0434\\u043d\\u0435\\u0435 \\u043f\\u043e\\u043b\\u0443\\u0447\\u0430\\u0435\\u0442\\u0441\\u044f \\u0441\\u043d\\u0438\\u043c\\u043e\\u043a. \\u0426\\u0432\\u0435\\u0442\\u043e\\u0432\\u0430\\u044f \\u043f\\u0430\\u043b\\u0438\\u0442\\u0440\\u0430 \\u2014 \\u0432 \\u043a\\u0430\\u043a\\u0438\\u0445 \\u0446\\u0432\\u0435\\u0442\\u0430\\u0445 \\u043e\\u0442\\u043e\\u0431\\u0440\\u0430\\u0436\\u0430\\u0435\\u0442\\u0441\\u044f \\u0442\\u0435\\u043f\\u043b\\u043e\\u0433\\u0440\\u0430\\u043c\\u043c\\u0430. \\u0423 \\u043f\\u0440\\u043e\\u0441\\u0442\\u044b\\u0445 \\u043c\\u043e\\u0434\\u0435\\u043b\\u0435\\u0439 \\u0447\\u0430\\u0441\\u0442\\u043e \\u0431\\u044b\\u0432\\u0430\\u0435\\u0442 \\u0442\\u043e\\u043b\\u044c\\u043a\\u043e \\u043e\\u0434\\u0438\\u043d \\u0444\\u0438\\u043b\\u044c\\u0442\\u0440, \\u0443 \\u0432\\u0435\\u0440\\u0441\\u0438\\u0439 \\u043f\\u043e\\u0441\\u0435\\u0440\\u044c\\u0451\\u0437\\u043d\\u0435\\u0435 \\u2014 \\u043d\\u0435\\u0441\\u043a\\u043e\\u043b\\u044c\\u043a\\u043e \\u0432\\u0430\\u0440\\u0438\\u0430\\u043d\\u0442\\u043e\\u0432 \\u043e\\u0442\\u043e\\u0431\\u0440\\u0430\\u0436\\u0435\\u043d\\u0438\\u044f. \\u0420\\u0430\\u0437\\u043d\\u043e\\u043e\\u0431\\u0440\\u0430\\u0437\\u0438\\u0435 \\u043f\\u043e\\u0437\\u0432\\u043e\\u043b\\u044f\\u0435\\u0442 \\u0441\\u0434\\u0435\\u043b\\u0430\\u0442\\u044c \\u043a\\u0430\\u0434\\u0440, \\u043f\\u0440\\u0438 \\u043a\\u043e\\u0442\\u043e\\u0440\\u043e\\u043c \\u0438\\u0437\\u043c\\u0435\\u0440\\u044f\\u0435\\u043c\\u044b\\u0439 \\u043e\\u0431\\u044a\\u0435\\u043a\\u0442 \\u0431\\u0443\\u0434\\u0435\\u0442 \\u043b\\u0443\\u0447\\u0448\\u0435 \\u0432\\u044b\\u0434\\u0435\\u043b\\u044f\\u0442\\u044c\\u0441\\u044f. \\u0424\\u043e\\u043a\\u0443\\u0441\\u0438\\u0440\\u043e\\u0432\\u043a\\u0430 \\u2014 \\u0440\\u0443\\u0447\\u043d\\u0430\\u044f \\u0438\\u043b\\u0438 \\u0430\\u0432\\u0442\\u043e\\u043c\\u0430\\u0442\\u0438\\u0447\\u0435\\u0441\\u043a\\u0430\\u044f. \\u0421\\u0440\\u0430\\u0437\\u0443 \\u043e\\u0433\\u043e\\u0432\\u043e\\u0440\\u0438\\u043c\\u0441\\u044f: \\u0430\\u0432\\u0442\\u043e\\u0444\\u043e\\u043a\\u0443\\u0441 \\u0435\\u0441\\u0442\\u044c \\u0432\\u043e \\u0432\\u0441\\u0435\\u0445 \\u0441\\u043e\\u0432\\u0440\\u0435\\u043c\\u0435\\u043d\\u043d\\u044b\\u0445 \\u043c\\u043e\\u0434\\u0435\\u043b\\u044f\\u0445, \\u0440\\u0443\\u0447\\u043d\\u0430\\u044f \\u043d\\u0430\\u0441\\u0442\\u0440\\u043e\\u0439\\u043a\\u0430 \\u2014 \\u0434\\u043e\\u043f\\u043e\\u043b\\u043d\\u0438\\u0442\\u0435\\u043b\\u044c\\u043d\\u0430\\u044f \\u043e\\u043f\\u0446\\u0438\\u044f \\u043d\\u0430 \\u0441\\u043b\\u0443\\u0447\\u0430\\u0439, \\u0435\\u0441\\u043b\\u0438 \\u0430\\u0432\\u0442\\u043e\\u043c\\u0430\\u0442\\u0438\\u0447\\u0435\\u0441\\u043a\\u0430\\u044f \\u043d\\u0435 \\u0441\\u0440\\u0430\\u0431\\u0430\\u0442\\u044b\\u0432\\u0430\\u0435\\u0442. \\u0420\\u0443\\u0447\\u043d\\u0430\\u044f \\u043f\\u0440\\u0438\\u0433\\u043e\\u0434\\u0438\\u0442\\u0441\\u044f, \\u0435\\u0441\\u043b\\u0438 \\u043f\\u043b\\u0430\\u043d\\u0438\\u0440\\u0443\\u0435\\u0442\\u0435 \\u0447\\u0438\\u043d\\u0438\\u0442\\u044c \\u0442\\u0435\\u0445\\u043d\\u0438\\u043a\\u0443 \\u043f\\u0440\\u0438 \\u043f\\u043e\\u043c\\u043e\\u0449\\u0438 \\u0442\\u0435\\u043f\\u043b\\u043e\\u0432\\u0438\\u0437\\u043e\\u0440\\u0430. \\u0422\\u0430\\u043a\\u0436\\u0435 \\u043e\\u0431\\u0440\\u0430\\u0442\\u0438\\u0442\\u0435 \\u0432\\u043d\\u0438\\u043c\\u0430\\u043d\\u0438\\u0435 \\u043d\\u0430 \\u043c\\u0438\\u043d\\u0438\\u043c\\u0430\\u043b\\u044c\\u043d\\u043e\\u0435 \\u0440\\u0430\\u0441\\u0441\\u0442\\u043e\\u044f\\u043d\\u0438\\u0435 \\u0444\\u043e\\u043a\\u0443\\u0441\\u0438\\u0440\\u043e\\u0432\\u043a\\u0438. \\u0415\\u0433\\u043e \\u043d\\u0435 \\u0432\\u0441\\u0435\\u0433\\u0434\\u0430 \\u0443\\u043a\\u0430\\u0437\\u044b\\u0432\\u0430\\u044e\\u0442 \\u043d\\u0430 \\u043c\\u0430\\u0440\\u043a\\u0435\\u0442\\u043f\\u043b\\u0435\\u0439\\u0441\\u0430\\u0445, \\u043d\\u043e \\u043d\\u0430 \\u0441\\u0430\\u0439\\u0442\\u0435 \\u043f\\u0440\\u043e\\u0438\\u0437\\u0432\\u043e\\u0434\\u0438\\u0442\\u0435\\u043b\\u044f \\u043f\\u0430\\u0440\\u0430\\u043c\\u0435\\u0442\\u0440 \\u0434\\u043e\\u043b\\u0436\\u0435\\u043d \\u043f\\u0440\\u0438\\u0441\\u0443\\u0442\\u0441\\u0442\\u0432\\u043e\\u0432\\u0430\\u0442\\u044c. \\u0417\\u0430\\u0449\\u0438\\u0442\\u0430 \\u043a\\u043e\\u0440\\u043f\\u0443\\u0441\\u0430 \\u2014 \\u0440\\u0435\\u0447\\u044c \\u043e \\u043f\\u0440\\u043e\\u0440\\u0435\\u0437\\u0438\\u043d\\u0435\\u043d\\u043d\\u043e\\u043c \\u0447\\u0435\\u0445\\u043b\\u0435 \\u0438 \\u0432\\u043b\\u0430\\u0433\\u043e\\u043d\\u0435\\u043f\\u0440\\u043e\\u043d\\u0438\\u0446\\u0430\\u0435\\u043c\\u043e\\u0441\\u0442\\u0438. \\u0421 \\u0442\\u043e\\u0447\\u043a\\u0438 \\u0437\\u0440\\u0435\\u043d\\u0438\\u044f \\u0437\\u0430\\u0449\\u0438\\u0442\\u044b \\u043e\\u0442 \\u0443\\u0434\\u0430\\u0440\\u043e\\u0432 \\u043f\\u0440\\u043e\\u0449\\u0435 \\u0432\\u0441\\u0435\\u0433\\u043e \\u043e\\u0440\\u0438\\u0435\\u043d\\u0442\\u0438\\u0440\\u043e\\u0432\\u0430\\u0442\\u044c\\u0441\\u044f \\u043d\\u0430 \\u0441\\u043c\\u0430\\u0440\\u0442\\u0444\\u043e\\u043d: \\u0435\\u0441\\u043b\\u0438 \\u0443 \\u0432\\u0430\\u0441 \\u043d\\u0435\\u0443\\u0431\\u0438\\u0432\\u0430\\u0435\\u043c\\u044b\\u0439 Ulefone, \\u043a\\u043e\\u0442\\u043e\\u0440\\u043e\\u043c\\u0443 \\u0447\\u0430\\u0441\\u0442\\u043e \\u043f\\u0440\\u0438\\u0445\\u043e\\u0434\\u0438\\u0442\\u0441\\u044f \\u0440\\u0430\\u0431\\u043e\\u0442\\u0430\\u0442\\u044c \\u0432 \\u0441\\u0443\\u0440\\u043e\\u0432\\u044b\\u0445 \\u0443\\u0441\\u043b\\u043e\\u0432\\u0438\\u044f\\u0445, \\u0442\\u0435\\u043f\\u043b\\u043e\\u0432\\u0438\\u0437\\u043e\\u0440 \\u0442\\u043e\\u0436\\u0435 \\u043b\\u0443\\u0447\\u0448\\u0435 \\u0432\\u044b\\u0431\\u0438\\u0440\\u0430\\u0442\\u044c \\u0432 \\u0443\\u0441\\u0438\\u043b\\u0435\\u043d\\u043d\\u043e\\u043c \\u043a\\u043e\\u0440\\u043f\\u0443\\u0441\\u0435. \\u0414\\u043e\\u043f\\u043e\\u043b\\u043d\\u0438\\u0442\\u0435\\u043b\\u044c\\u043d\\u0430\\u044f \\u043a\\u043e\\u043c\\u043f\\u043b\\u0435\\u043a\\u0442\\u0430\\u0446\\u0438\\u044f \\u2014 \\u043f\\u0440\\u043e\\u0438\\u0437\\u0432\\u043e\\u0434\\u0438\\u0442\\u0435\\u043b\\u0438 \\u0438\\u043d\\u043e\\u0433\\u0434\\u0430 \\u0434\\u043e\\u0431\\u0430\\u0432\\u043b\\u044f\\u044e\\u0442 \\u0432 \\u043a\\u043e\\u043c\\u043f\\u043b\\u0435\\u043a\\u0442 \\u043f\\u043e\\u0441\\u0442\\u0430\\u0432\\u043a\\u0438 \\u043c\\u0430\\u043a\\u0440\\u043e\\u043b\\u0438\\u043d\\u0437\\u044b, \\u043a\\u0440\\u044b\\u0448\\u043a\\u0438 \\u0434\\u043b\\u044f \\u043e\\u0431\\u044a\\u0435\\u043a\\u0442\\u0438\\u0432\\u0430 \\u0438 \\u0432\\u0441\\u0435\\u0432\\u043e\\u0437\\u043c\\u043e\\u0436\\u043d\\u044b\\u0435 \\u0434\\u0435\\u0440\\u0436\\u0430\\u0442\\u0435\\u043b\\u0438. \\u0414\\u043b\\u044f \\u043a\\u0430\\u043c\\u0435\\u0440 \\u043f\\u043e\\u043f\\u0443\\u043b\\u044f\\u0440\\u043d\\u044b\\u0445 \\u0431\\u0440\\u0435\\u043d\\u0434\\u043e\\u0432 \\u0432\\u0440\\u043e\\u0434\\u0435 Infiray \\u044d\\u0442\\u043e \\u043d\\u0435\\u0442\\u0440\\u0443\\u0434\\u043d\\u043e \\u0434\\u043e\\u043a\\u0443\\u043f\\u0438\\u0442\\u044c \\u043e\\u0442\\u0434\\u0435\\u043b\\u044c\\u043d\\u043e, \\u0430 \\u0432\\u043e\\u0442 \\u0434\\u043b\\u044f \\u043e\\u043f\\u0442\\u0438\\u043a\\u0438 \\u043e\\u0442 \\u043c\\u0435\\u043d\\u0435\\u0435 \\u0438\\u0437\\u0432\\u0435\\u0441\\u0442\\u043d\\u044b\\u0445 \\u043f\\u0440\\u043e\\u0438\\u0437\\u0432\\u043e\\u0434\\u0438\\u0442\\u0435\\u043b\\u0435\\u0439 \\u043b\\u0443\\u0447\\u0448\\u0435 \\u0431\\u0440\\u0430\\u0442\\u044c \\u0440\\u0430\\u0441\\u0448\\u0438\\u0440\\u0435\\u043d\\u043d\\u044b\\u0439 \\u043d\\u0430\\u0431\\u043e\\u0440 \\u0441\\u0440\\u0430\\u0437\\u0443, \\u0435\\u0441\\u043b\\u0438 \\u043f\\u0440\\u043e\\u0434\\u0430\\u0432\\u0435\\u0446 \\u043f\\u0440\\u0435\\u0434\\u043b\\u0430\\u0433\\u0430\\u0435\\u0442 \\u0442\\u0430\\u043a\\u0443\\u044e \\u043e\\u043f\\u0446\\u0438\\u044e (\\u0438 \\u0435\\u0441\\u043b\\u0438 \\u0434\\u043b\\u044f \\u0432\\u0430\\u0441 \\u044d\\u0442\\u043e \\u0432\\u0430\\u0436\\u043d\\u043e). \\u041a\\u0430\\u043a\\u043e\\u0439 \\u0442\\u0435\\u043f\\u043b\\u043e\\u0432\\u0438\\u0437\\u043e\\u0440 \\u0434\\u043b\\u044f \\u0441\\u043c\\u0430\\u0440\\u0442\\u0444\\u043e\\u043d\\u0430 \\u043c\\u043e\\u0436\\u043d\\u043e \\u043a\\u0443\\u043f\\u0438\\u0442\\u044c\\u041d\\u0430\\u0448\\u043b\\u0438 \\u0443\\u0434\\u0430\\u0447\\u043d\\u044b\\u0435 \\u043c\\u043e\\u0434\\u0435\\u043b\\u0438 \\u0438 \\u0440\\u0430\\u0437\\u0434\\u0435\\u043b\\u0438\\u043b\\u0438 \\u043d\\u0430 \\u043a\\u0430\\u0442\\u0435\\u0433\\u043e\\u0440\\u0438\\u0438.\\u0421\\u0442\\u043e\\u0438\\u043c\\u043e\\u0441\\u0442\\u044c\\u044e \\u0434\\u043e 15\\u00a0\\u0442\\u044b\\u0441\\u044f\\u0447 \\u0440\\u0443\\u0431\\u043b\\u0435\\u0439\\u0422\\u0435\\u043f\\u043b\\u043e\\u0432\\u0438\\u0437\\u043e\\u0440\\u044b HTI HT\\u2011203U (\\u0441\\u043b\\u0435\\u0432\\u0430) \\u0438 Mileseey TR256i (\\u0441\\u043f\\u0440\\u0430\\u0432\\u0430). \\u0418\\u0437\\u043e\\u0431\\u0440\\u0430\\u0436\\u0435\\u043d\\u0438\\u044f: AliExpress\\u0421\\u0440\\u0435\\u0434\\u0438 \\u0431\\u0430\\u0437\\u043e\\u0432\\u044b\\u0445 \\u043c\\u043e\\u0434\\u0435\\u043b\\u0435\\u0439 \\u0441 USB\\u2011C \\u0441\\u0442\\u043e\\u0438\\u0442 \\u043f\\u0440\\u0438\\u0441\\u043c\\u043e\\u0442\\u0440\\u0435\\u0442\\u044c\\u0441\\u044f \\u043a HTI HT\\u2011203U \\u0438 Mileseey TR256i \\u2014 \\u043e\\u043d\\u0438 \\u0432\\u044b\\u0434\\u0435\\u043b\\u044f\\u044e\\u0442\\u0441\\u044f \\u0432\\u044b\\u0441\\u043e\\u043a\\u0438\\u043c \\u0434\\u043b\\u044f \\u0441\\u0432\\u043e\\u0435\\u0439 \\u0446\\u0435\\u043d\\u044b \\u0440\\u0430\\u0437\\u0440\\u0435\\u0448\\u0435\\u043d\\u0438\\u0435\\u043c 256 \\u00d7 192\\u00a0\\u043f\\u0438\\u043a\\u0441\\u0435\\u043b\\u044f. \\u041e\\u0431\\u0435 \\u043c\\u043e\\u0434\\u0435\\u043b\\u0438 \\u0438\\u0441\\u043f\\u043e\\u043b\\u044c\\u0437\\u0443\\u044e\\u0442 \\u043c\\u0430\\u0442\\u0440\\u0438\\u0446\\u0443 Infiray Tiny1\\u2011C \\u2014 \\u0442\\u0443 \\u0436\\u0435, \\u0447\\u0442\\u043e \\u0432 \\u0431\\u043e\\u043b\\u0435\\u0435 \\u0434\\u043e\\u0440\\u043e\\u0433\\u0438\\u0445 \\u0442\\u0435\\u043f\\u043b\\u043e\\u0432\\u0438\\u0437\\u043e\\u0440\\u0430\\u0445 Infiray P2 \\u0438 Lodestar L2. \\u041d\\u043e \\u0440\\u0430\\u0434\\u0438 \\u0431\\u043e\\u043b\\u0435\\u0435 \\u043f\\u0440\\u043e\\u0434\\u0432\\u0438\\u043d\\u0443\\u0442\\u043e\\u0433\\u043e \\u0434\\u0430\\u0442\\u0447\\u0438\\u043a\\u0430 \\u0431\\u044e\\u0434\\u0436\\u0435\\u0442\\u043d\\u044b\\u043c \\u043c\\u043e\\u0434\\u0435\\u043b\\u044f\\u043c \\u043f\\u0440\\u0438\\u0448\\u043b\\u043e\\u0441\\u044c \\u043f\\u043e\\u0436\\u0435\\u0440\\u0442\\u0432\\u043e\\u0432\\u0430\\u0442\\u044c \\u043e\\u043f\\u0442\\u0438\\u043a\\u043e\\u0439: \\u0437\\u0434\\u0435\\u0441\\u044c \\u043d\\u0435\\u0442 \\u0440\\u0443\\u0447\\u043d\\u043e\\u0439 \\u0444\\u043e\\u043a\\u0443\\u0441\\u0438\\u0440\\u043e\\u0432\\u043a\\u0438, \\u0430 \\u0434\\u0430\\u043b\\u044c\\u043d\\u043e\\u0441\\u0442\\u044c \\u0438\\u0437\\u043c\\u0435\\u0440\\u0435\\u043d\\u0438\\u044f \\u0442\\u0435\\u043c\\u043f\\u0435\\u0440\\u0430\\u0442\\u0443\\u0440\\u044b \\u043e\\u0433\\u0440\\u0430\\u043d\\u0438\\u0447\\u0435\\u043d\\u0430 3\\u00a0\\u043c\\u0435\\u0442\\u0440\\u0430\\u043c\\u0438.\\u0423 \\u0443\\u043f\\u043e\\u043c\\u044f\\u043d\\u0443\\u0442\\u044b\\u0445 \\u043c\\u043e\\u0434\\u0435\\u043b\\u0435\\u0439 Infiray \\u0438 Lodestar \\u0441 \\u044d\\u0442\\u043e\\u0439 \\u043c\\u0430\\u0442\\u0440\\u0438\\u0446\\u0435\\u0439 \\u0434\\u0430\\u043b\\u044c\\u043d\\u043e\\u0441\\u0442\\u044c \\u0438\\u0437\\u043c\\u0435\\u0440\\u0435\\u043d\\u0438\\u044f \\u0432\\u044b\\u0448\\u0435. \\u0412 \\u043e\\u0441\\u0442\\u0430\\u043b\\u044c\\u043d\\u043e\\u043c \\u0436\\u0435 \\u043e\\u0431\\u0430 \\u0442\\u0435\\u043f\\u043b\\u043e\\u0432\\u0438\\u0437\\u043e\\u0440\\u0430 \\u2014 \\u043e\\u0442\\u043b\\u0438\\u0447\\u043d\\u044b\\u0435 \\u0440\\u0435\\u0448\\u0435\\u043d\\u0438\\u044f \\u0441 \\u0447\\u0430\\u0441\\u0442\\u043e\\u0442\\u043e\\u0439 \\u043a\\u0430\\u0434\\u0440\\u043e\\u0432 25\\u00a0\\u0413\\u0446 \\u0438 \\u0440\\u0430\\u0441\\u043f\\u043e\\u0437\\u043d\\u0430\\u0432\\u0430\\u043d\\u0438\\u0435\\u043c \\u0442\\u0435\\u043c\\u043f\\u0435\\u0440\\u0430\\u0442\\u0443\\u0440\\u044b \\u043e\\u0442 \\u221220\\u00a0\\u0434\\u043e 550 \\u00b0C. \\u0422\\u0435\\u043f\\u043b\\u043e\\u0432\\u0438\\u0437\\u043e\\u0440 HTI \\u0434\\u043e\\u0431\\u0430\\u0432\\u043b\\u044f\\u0435\\u0442 \\u043a \\u044d\\u0442\\u0438\\u043c \\u0445\\u0430\\u0440\\u0430\\u043a\\u0442\\u0435\\u0440\\u0438\\u0441\\u0442\\u0438\\u043a\\u0430\\u043c \\u043f\\u0440\\u043e\\u0440\\u0435\\u0437\\u0438\\u043d\\u0435\\u043d\\u043d\\u044b\\u0439 \\u043f\\u043e \\u043a\\u0440\\u0430\\u044f\\u043c \\u043a\\u043e\\u0440\\u043f\\u0443\\u0441, \\u0430 Mileseey \\u2014 \\u0437\\u0430\\u0449\\u0438\\u0442\\u0443 \\u043e\\u0442 \\u043f\\u044b\\u043b\\u0438 \\u0438 \\u0432\\u043b\\u0430\\u0433\\u0438 IP54.\\u0414\\u043b\\u044f iPhone \\u0441 Lightning\\u0412 \\u0420\\u043e\\u0441\\u0441\\u0438\\u0438 \\u0442\\u0435\\u043f\\u043b\\u043e\\u0432\\u0438\\u0437\\u043e\\u0440\\u044b \\u0441\\u0447\\u0438\\u0442\\u0430\\u044e\\u0442\\u0441\\u044f \\u043f\\u0440\\u043e\\u0444\\u0435\\u0441\\u0441\\u0438\\u043e\\u043d\\u0430\\u043b\\u044c\\u043d\\u043e\\u0439 \\u0442\\u0435\\u0445\\u043d\\u0438\\u043a\\u043e\\u0439, \\u0438 \\u043f\\u0440\\u0435\\u0434\\u043f\\u043e\\u043b\\u0430\\u0433\\u0430\\u0435\\u0442\\u0441\\u044f, \\u0447\\u0442\\u043e \\u0443 \\u043f\\u0440\\u043e\\u0444\\u0435\\u0441\\u0441\\u0438\\u043e\\u043d\\u0430\\u043b\\u0430 \\u043e\\u0431\\u044f\\u0437\\u0430\\u0442\\u0435\\u043b\\u044c\\u043d\\u043e \\u0441\\u043c\\u0430\\u0440\\u0442\\u0444\\u043e\\u043d \\u043d\\u0430 Android. \\u041d\\u043e \\u0434\\u043b\\u044f iPhone \\u0441 Lightning \\u0442\\u043e\\u0436\\u0435 \\u0435\\u0441\\u0442\\u044c \\u043f\\u0430\\u0440\\u0430 \\u043c\\u043e\\u0434\\u0435\\u043b\\u0435\\u0439: \\u043d\\u0430\\u043f\\u0440\\u0438\\u043c\\u0435\\u0440, Guide Mobir Air \\u0438 UNI\\u2011T UTI120MS. \\u041e\\u043d\\u0438 \\u043f\\u043e\\u0445\\u043e\\u0436\\u0438 \\u043f\\u043e \\u0445\\u0430\\u0440\\u0430\\u043a\\u0442\\u0435\\u0440\\u0438\\u0441\\u0442\\u0438\\u043a\\u0430\\u043c: \\u0440\\u0430\\u0437\\u0440\\u0435\\u0448\\u0435\\u043d\\u0438\\u0435 120 \\u00d7 90\\u00a0\\u043f\\u0438\\u043a\\u0441\\u0435\\u043b\\u0435\\u0439, \\u0447\\u0430\\u0441\\u0442\\u043e\\u0442\\u0430 25\\u00a0\\u0413\\u0446. Guide \\u0444\\u0438\\u043a\\u0441\\u0438\\u0440\\u0443\\u0435\\u0442 \\u0442\\u0435\\u043c\\u043f\\u0435\\u0440\\u0430\\u0442\\u0443\\u0440\\u0443 \\u043e\\u0442 \\u221220\\u00a0\\u0434\\u043e 120 \\u00b0C, UNI\\u2011T \\u2014 \\u043e\\u0442 \\u221220\\u00a0\\u0434\\u043e 400 \\u00b0C.\\u0422\\u0435\\u043f\\u043b\\u043e\\u0432\\u0438\\u0437\\u043e\\u0440\\u044b Guide Mobir Air (\\u0441\\u043b\\u0435\\u0432\\u0430) \\u0438 UNI\\u2011T UTI120MS (\\u0441\\u043f\\u0440\\u0430\\u0432\\u0430). \\u0418\\u0437\\u043e\\u0431\\u0440\\u0430\\u0436\\u0435\\u043d\\u0438\\u044f: AliExpress\\u041e\\u0431\\u0430 \\u0432\\u0430\\u0440\\u0438\\u0430\\u043d\\u0442\\u0430 \\u0441\\u0442\\u043e\\u044f\\u0442 \\u043e\\u043a\\u043e\\u043b\\u043e 12\\u00a0\\u0442\\u044b\\u0441\\u044f\\u0447 \\u0440\\u0443\\u0431\\u043b\\u0435\\u0439 \\u043d\\u0430 AliExpress. \\u0417\\u0430 \\u044d\\u0442\\u0438 \\u0434\\u0435\\u043d\\u044c\\u0433\\u0438 \\u0432\\u044b \\u043f\\u043e\\u043b\\u0443\\u0447\\u0438\\u0442\\u0435 \\u043f\\u0440\\u043e\\u0441\\u0442\\u0443\\u044e \\u043c\\u043e\\u0434\\u0435\\u043b\\u044c, \\u043a\\u043e\\u0442\\u043e\\u0440\\u043e\\u0439 \\u0445\\u0432\\u0430\\u0442\\u0438\\u0442 \\u0434\\u043b\\u044f \\u043f\\u043e\\u0438\\u0441\\u043a\\u0430 \\u0441\\u043a\\u0432\\u043e\\u0437\\u043d\\u044f\\u043a\\u0430 \\u0438\\u043b\\u0438 \\u0445\\u043e\\u043c\\u044f\\u043a\\u0430, \\u043d\\u043e \\u043d\\u0435 \\u0434\\u043b\\u044f \\u0442\\u043e\\u0447\\u043d\\u044b\\u0445 \\u0440\\u0430\\u0431\\u043e\\u0442.\\u042d\\u0442\\u043e \\u0441\\u0430\\u043c\\u044b\\u0435 \\u043f\\u043e\\u043f\\u0443\\u043b\\u044f\\u0440\\u043d\\u044b\\u0435 \\u043c\\u043e\\u0434\\u0435\\u043b\\u0438, \\u043a\\u043e\\u0442\\u043e\\u0440\\u044b\\u0435 \\u043c\\u043e\\u0436\\u043d\\u043e \\u0432\\u0441\\u0442\\u0440\\u0435\\u0442\\u0438\\u0442\\u044c \\u0432 \\u0420\\u043e\\u0441\\u0441\\u0438\\u0438. \\u0412 \\u041a\\u0438\\u0442\\u0430\\u0435 \\u0432\\u044b\\u0431\\u043e\\u0440 \\u0431\\u043e\\u043b\\u044c\\u0448\\u0435 \\u2014 \\u0432 \\u0442\\u043e\\u043c \\u0447\\u0438\\u0441\\u043b\\u0435 \\u0441\\u0440\\u0435\\u0434\\u0438 \\u0443\\u0441\\u0442\\u0440\\u043e\\u0439\\u0441\\u0442\\u0432 \\u043f\\u043e\\u043c\\u043e\\u0449\\u043d\\u0435\\u0435. \\u041a \\u043f\\u0440\\u0438\\u043c\\u0435\\u0440\\u0443, \\u0432\\u0435\\u0440\\u0441\\u0438\\u044f \\u0434\\u043b\\u044f iPhone \\u0435\\u0441\\u0442\\u044c \\u0443 Infiray P2\\u00a0Pro \\u0441 \\u0440\\u0430\\u0437\\u0440\\u0435\\u0448\\u0435\\u043d\\u0438\\u0435\\u043c 256 \\u00d7 192\\u00a0\\u043f\\u0438\\u043a\\u0441\\u0435\\u043b\\u044f, \\u0447\\u0430\\u0441\\u0442\\u043e\\u0442\\u043e\\u0439 25\\u00a0\\u0413\\u0446, \\u0434\\u0438\\u0430\\u043f\\u0430\\u0437\\u043e\\u043d\\u043e\\u043c \\u0442\\u0435\\u043c\\u043f\\u0435\\u0440\\u0430\\u0442\\u0443\\u0440 \\u043e\\u0442 \\u221220\\u00a0\\u0434\\u043e 550 \\u2103, \\u0440\\u0443\\u0447\\u043d\\u043e\\u0439 \\u0444\\u043e\\u043a\\u0443\\u0441\\u0438\\u0440\\u043e\\u0432\\u043a\\u043e\\u0439 \\u0438 7\\u00a0\\u0446\\u0432\\u0435\\u0442\\u043e\\u0432\\u044b\\u043c\\u0438 \\u043f\\u0430\\u043b\\u0438\\u0442\\u0440\\u0430\\u043c\\u0438. \\u0421\\u0442\\u043e\\u0438\\u0442 \\u044d\\u0442\\u043e\\u0442 \\u0442\\u0435\\u043f\\u043b\\u043e\\u0432\\u0438\\u0437\\u043e\\u0440 \\u0432\\u0434\\u0432\\u043e\\u0435 \\u0434\\u043e\\u0440\\u043e\\u0436\\u0435, \\u043e\\u043a\\u043e\\u043b\\u043e 24\\u00a0\\u0442\\u044b\\u0441\\u044f\\u0447 \\u0440\\u0443\\u0431\\u043b\\u0435\\u0439, \\u0437\\u0430\\u0442\\u043e \\u043f\\u043e\\u0434\\u043e\\u0439\\u0434\\u0451\\u0442 \\u0434\\u043b\\u044f \\u0440\\u0430\\u0431\\u043e\\u0442\\u044b \\u0441 \\u044d\\u043b\\u0435\\u043a\\u0442\\u0440\\u043e\\u043d\\u0438\\u043a\\u043e\\u0439. \\u041f\\u0435\\u0440\\u0435\\u0434 \\u0437\\u0430\\u043a\\u0430\\u0437\\u043e\\u043c \\u0432\\u0430\\u0436\\u043d\\u043e \\u0443\\u0431\\u0435\\u0434\\u0438\\u0442\\u044c\\u0441\\u044f, \\u0447\\u0442\\u043e \\u0432\\u044b \\u0432\\u044b\\u0431\\u0440\\u0430\\u043b\\u0438 \\u0438\\u043c\\u0435\\u043d\\u043d\\u043e \\u0432\\u0430\\u0440\\u0438\\u0430\\u043d\\u0442 \\u0434\\u043b\\u044f iOS: \\u0432 \\u043a\\u0430\\u0440\\u0442\\u043e\\u0447\\u043a\\u0430\\u0445 \\u0442\\u043e\\u0432\\u0430\\u0440\\u043e\\u0432 \\u0447\\u0430\\u0441\\u0442\\u043e \\u0432\\u0441\\u0442\\u0440\\u0435\\u0447\\u0430\\u0435\\u0442\\u0441\\u044f \\u043a\\u0430\\u0440\\u0442\\u0438\\u043d\\u043a\\u0430 \\u0441 Lightning, \\u043d\\u043e \\u043e\\u043f\\u0438\\u0441\\u0430\\u043d\\u0438\\u0435 \\u043f\\u0440\\u043e Android \\u0438 USB\\u2011C. \\u0415\\u0441\\u043b\\u0438 \\u0437\\u0430\\u043a\\u0430\\u0437\\u0430\\u0442\\u044c \\u0442\\u0430\\u043a\\u043e\\u0439 \\u0442\\u043e\\u0432\\u0430\\u0440, \\u043f\\u0440\\u0438\\u0434\\u0451\\u0442 \\u043c\\u043e\\u0434\\u0435\\u043b\\u044c \\u0441 USB\\u2011C. \\u0421\\u043a\\u0440\\u0438\\u043d\\u0448\\u043e\\u0442: AliExpress\\u0422\\u0430\\u043a\\u0436\\u0435 \\u043d\\u0430 iPhone \\u043f\\u043e\\u0434\\u043e\\u0439\\u0434\\u0451\\u0442 \\u043f\\u043e\\u0447\\u0442\\u0438 \\u043b\\u044e\\u0431\\u0430\\u044f \\u043c\\u043e\\u0434\\u0435\\u043b\\u044c \\u0441 USB\\u2011C \\u043f\\u0440\\u0438 \\u0438\\u0441\\u043f\\u043e\\u043b\\u044c\\u0437\\u043e\\u0432\\u0430\\u043d\\u0438\\u0438 \\u043f\\u0435\\u0440\\u0435\\u0445\\u043e\\u0434\\u043d\\u0438\\u043a\\u0430 (\\u0442\\u043e\\u043b\\u044c\\u043a\\u043e \\u043f\\u0440\\u043e\\u0432\\u0435\\u0440\\u044c\\u0442\\u0435, \\u0447\\u0442\\u043e\\u0431\\u044b \\u043f\\u0440\\u0438\\u043b\\u043e\\u0436\\u0435\\u043d\\u0438\\u0435 \\u0431\\u044b\\u043b\\u043e \\u0434\\u043e\\u0441\\u0442\\u0443\\u043f\\u043d\\u043e \\u0434\\u043b\\u044f iOS). \\u0414\\u043b\\u044f \\u0441\\u043c\\u0430\\u0440\\u0442\\u0444\\u043e\\u043d\\u043e\\u0432 \\u0441\\u0435\\u0440\\u0438\\u0438 iPhone 15 \\u043f\\u043e\\u0434\\u043e\\u0439\\u0434\\u0443\\u0442 \\u043c\\u043e\\u0434\\u0435\\u043b\\u0438 \\u0441 USB\\u2011C \\u0431\\u0435\\u0437\\u043e \\u0432\\u0441\\u044f\\u043a\\u0438\\u0445 \\u0430\\u0434\\u0430\\u043f\\u0442\\u0435\\u0440\\u043e\\u0432.\\u0421 \\u0440\\u0443\\u0447\\u043d\\u043e\\u0439 \\u0444\\u043e\\u043a\\u0443\\u0441\\u0438\\u0440\\u043e\\u0432\\u043a\\u043e\\u0439\\u041f\\u0440\\u0438\\u0433\\u043e\\u0434\\u044f\\u0442\\u0441\\u044f \\u0434\\u043b\\u044f \\u0442\\u043e\\u0447\\u043d\\u044b\\u0445 \\u0440\\u0430\\u0431\\u043e\\u0442. \\u0422\\u0430\\u043a\\u043e\\u0439 \\u043e\\u043f\\u0442\\u0438\\u043a\\u043e\\u0439 \\u043e\\u0431\\u044b\\u0447\\u043d\\u043e \\u043d\\u0435 \\u043e\\u0441\\u043d\\u0430\\u0449\\u0430\\u044e\\u0442 \\u0441\\u043e\\u0432\\u0441\\u0435\\u043c \\u0434\\u0435\\u0448\\u0451\\u0432\\u044b\\u0435 \\u043c\\u043e\\u0434\\u0435\\u043b\\u0438, \\u043d\\u043e \\u0432 \\u043f\\u0440\\u0435\\u0434\\u0435\\u043b\\u0430\\u0445 30\\u00a0\\u0442\\u044b\\u0441\\u044f\\u0447 \\u0440\\u0443\\u0431\\u043b\\u0435\\u0439 \\u043d\\u0430\\u0439\\u0442\\u0438 \\u0432\\u0430\\u0440\\u0438\\u0430\\u043d\\u0442\\u044b \\u0438\\u0437\\u0432\\u0435\\u0441\\u0442\\u043d\\u044b\\u0445 \\u043f\\u0440\\u043e\\u0438\\u0437\\u0432\\u043e\\u0434\\u0438\\u0442\\u0435\\u043b\\u0435\\u0439 \\u043c\\u043e\\u0436\\u043d\\u043e. \\u0412 \\u0437\\u0430\\u0432\\u0438\\u0441\\u0438\\u043c\\u043e\\u0441\\u0442\\u0438 \\u043e\\u0442 \\u0434\\u043e\\u043f\\u043e\\u043b\\u043d\\u0438\\u0442\\u0435\\u043b\\u044c\\u043d\\u044b\\u0445 \\u043e\\u043f\\u0446\\u0438\\u0439 \\u0446\\u0435\\u043d\\u044b \\u043c\\u043e\\u0433\\u0443\\u0442 \\u0434\\u043e\\u0441\\u0442\\u0438\\u0433\\u0430\\u0442\\u044c 100\\u00a0\\u0442\\u044b\\u0441\\u044f\\u0447 \\u0440\\u0443\\u0431\\u043b\\u0435\\u0439 \\u0438 \\u0432\\u044b\\u0448\\u0435.\\u0422\\u0435\\u043f\\u043b\\u043e\\u0432\\u0438\\u0437\\u043e\\u0440\\u044b UNI\\u2011T UTi261M (\\u0441\\u043b\\u0435\\u0432\\u0430) \\u0438 Infiray T3S (\\u0441\\u043f\\u0440\\u0430\\u0432\\u0430). \\u0418\\u0437\\u043e\\u0431\\u0440\\u0430\\u0436\\u0435\\u043d\\u0438\\u044f: AliExpress\\u0412\\u043e\\u0442 \\u0442\\u0440\\u0438 \\u0443\\u0434\\u0430\\u0447\\u043d\\u044b\\u0445 \\u043c\\u043e\\u0434\\u0435\\u043b\\u0438: UNI\\u2011T UTi261M, USB\\u2011C, 256 \\u00d7 192\\u00a0\\u043f\\u0438\\u043a\\u0441\\u0435\\u043b\\u0435\\u0439, 27\\u00a0057\\u00a0\\u0440\\u0443\\u0431\\u043b\\u0435\\u0439\\u00a0\\u2192 Infiray Xinfrared T2S Plus, USB\\u2011C \\u0438\\u043b\\u0438 Lightning, 256 \\u00d7 192\\u00a0\\u043f\\u0438\\u043a\\u0441\\u0435\\u043b\\u0435\\u0439, 29\\u00a0215\\u00a0\\u0440\\u0443\\u0431\\u043b\\u0435\\u0439\\u00a0\\u2192 Infiray Xinfrared T3S, USB\\u2011C, 384 \\u00d7 288\\u00a0\\u043f\\u0438\\u043a\\u0441\\u0435\\u043b\\u0435\\u0439, 67\\u00a0988\\u00a0\\u0440\\u0443\\u0431\\u043b\\u044f\\u00a0\\u2192 \\u0411\\u043e\\u043d\\u0443\\u0441: \\u0441\\u043c\\u0430\\u0440\\u0442\\u0444\\u043e\\u043d\\u044b \\u0441 \\u0442\\u0435\\u043f\\u043b\\u043e\\u0432\\u0438\\u0437\\u043e\\u0440\\u043e\\u043c\\u041c\\u043e\\u0436\\u043d\\u043e \\u043d\\u0435 \\u0434\\u043e\\u043a\\u0443\\u043f\\u0430\\u0442\\u044c \\u0442\\u0435\\u043f\\u043b\\u043e\\u0432\\u0438\\u0437\\u043e\\u0440 \\u043e\\u0442\\u0434\\u0435\\u043b\\u044c\\u043d\\u043e, \\u0430 \\u0432\\u0437\\u044f\\u0442\\u044c \\u0441\\u043c\\u0430\\u0440\\u0442\\u0444\\u043e\\u043d \\u0441\\u043e \\u0432\\u0441\\u0442\\u0440\\u043e\\u0435\\u043d\\u043d\\u043e\\u0439 \\u0438\\u043d\\u0444\\u0440\\u0430\\u043a\\u0440\\u0430\\u0441\\u043d\\u043e\\u0439 \\u043a\\u0430\\u043c\\u0435\\u0440\\u043e\\u0439. \\u0413\\u043b\\u0430\\u0432\\u043d\\u044b\\u0439 \\u043f\\u043b\\u044e\\u0441: \\u0442\\u0430\\u043a\\u0438\\u0435 \\u043c\\u043e\\u0434\\u0435\\u043b\\u0438 \\u043b\\u0438\\u0431\\u043e \\u043f\\u043e\\u0434\\u0434\\u0435\\u0440\\u0436\\u0438\\u0432\\u0430\\u044e\\u0442 \\u0442\\u0435\\u043f\\u043b\\u043e\\u0432\\u0438\\u0437\\u043e\\u0440 \\u0432 \\u0441\\u0442\\u0430\\u043d\\u0434\\u0430\\u0440\\u0442\\u043d\\u043e\\u0439 \\u043a\\u0430\\u043c\\u0435\\u0440\\u0435, \\u043b\\u0438\\u0431\\u043e \\u043f\\u0440\\u0435\\u0434\\u043b\\u0430\\u0433\\u0430\\u044e\\u0442 \\u043f\\u0440\\u0438\\u043b\\u043e\\u0436\\u0435\\u043d\\u0438\\u0435 \\u043e\\u0442 \\u043f\\u0440\\u043e\\u0438\\u0437\\u0432\\u043e\\u0434\\u0438\\u0442\\u0435\\u043b\\u044f, \\u043f\\u043e\\u043b\\u043d\\u043e\\u0441\\u0442\\u044c\\u044e \\u0430\\u0434\\u0430\\u043f\\u0442\\u0438\\u0440\\u043e\\u0432\\u0430\\u043d\\u043d\\u043e\\u0435 \\u043f\\u043e\\u0434 \\u043a\\u043e\\u043d\\u043a\\u0440\\u0435\\u0442\\u043d\\u044b\\u0439 \\u0442\\u0435\\u043b\\u0435\\u0444\\u043e\\u043d. \\u041f\\u0440\\u043e\\u0431\\u043b\\u0435\\u043c \\u0441 \\u0441\\u043e\\u0432\\u043c\\u0435\\u0441\\u0442\\u0438\\u043c\\u043e\\u0441\\u0442\\u044c\\u044e \\u0442\\u043e\\u0447\\u043d\\u043e \\u043d\\u0435 \\u0431\\u0443\\u0434\\u0435\\u0442.\\u0421\\u043b\\u0435\\u0432\\u0430 \\u043d\\u0430\\u043f\\u0440\\u0430\\u0432\\u043e: Doogee V20\\u00a0Pro, Ulefone Power Armor 19T, AGM G2\\u00a0Guardian. \\u0418\\u0437\\u043e\\u0431\\u0440\\u0430\\u0436\\u0435\\u043d\\u0438\\u044f: AliExpress\\u041a\\u0430\\u043a \\u043c\\u044b \\u0443\\u0436\\u0435 \\u0443\\u043f\\u043e\\u043c\\u0438\\u043d\\u0430\\u043b\\u0438, \\u0441\\u043c\\u0430\\u0440\\u0442\\u0444\\u043e\\u043d\\u044b \\u0441 \\u0442\\u0435\\u043f\\u043b\\u043e\\u0432\\u0438\\u0437\\u043e\\u0440\\u0430\\u043c\\u0438 \\u2014 \\u044d\\u0442\\u043e \\u043f\\u043e\\u0447\\u0442\\u0438 \\u0432\\u0441\\u0435\\u0433\\u0434\\u0430 \\u0437\\u0430\\u0449\\u0438\\u0449\\u0451\\u043d\\u043d\\u044b\\u0435 \\u043c\\u043e\\u0434\\u0435\\u043b\\u0438. \\u0412\\u043e\\u0442 \\u0442\\u0440\\u0438 \\u0443\\u0441\\u0442\\u0440\\u043e\\u0439\\u0441\\u0442\\u0432\\u0430, \\u043a\\u043e\\u0442\\u043e\\u0440\\u044b\\u0435 \\u0441\\u043e\\u043e\\u0442\\u0432\\u0435\\u0442\\u0441\\u0442\\u0432\\u0443\\u044e\\u0442 \\u0441\\u0442\\u0430\\u043d\\u0434\\u0430\\u0440\\u0442\\u0430\\u043c \\u043f\\u044b\\u043b\\u0435- \\u0438 \\u0432\\u043b\\u0430\\u0433\\u043e\\u043d\\u0435\\u043f\\u0440\\u043e\\u043d\\u0438\\u0446\\u0430\\u0435\\u043c\\u043e\\u0441\\u0442\\u0438 IP68/IP69K, \\u0430 \\u0442\\u0430\\u043a\\u0436\\u0435 MIL\\u2011STD\\u2011810H (\\u0443\\u0441\\u0442\\u043e\\u0439\\u0447\\u0438\\u0432\\u044b \\u043a \\u043f\\u0430\\u0434\\u0435\\u043d\\u0438\\u044f\\u043c, \\u043f\\u0435\\u0440\\u0435\\u043f\\u0430\\u0434\\u0443 \\u0442\\u0435\\u043c\\u043f\\u0435\\u0440\\u0430\\u0442\\u0443\\u0440, \\u043d\\u0438\\u0437\\u043a\\u043e\\u043c\\u0443 \\u0434\\u0430\\u0432\\u043b\\u0435\\u043d\\u0438\\u044e, \\u0441\\u043e\\u043b\\u0435\\u0432\\u043e\\u043c\\u0443 \\u0442\\u0443\\u043c\\u0430\\u043d\\u0443): Doogee V20\\u00a0Pro \\u2014 \\u0438\\u0441\\u043f\\u043e\\u043b\\u044c\\u0437\\u0443\\u0435\\u0442 \\u043c\\u0430\\u0442\\u0440\\u0438\\u0446\\u0443 Infiray Tiny1\\u2011C (256 \\u00d7 192\\u00a0\\u043f\\u0438\\u043a\\u0441\\u0435\\u043b\\u0435\\u0439, 25\\u00a0\\u0413\\u0446), \\u043a\\u0430\\u043a \\u0438 \\u043c\\u043d\\u043e\\u0433\\u0438\\u0435 \\u043f\\u0435\\u0440\\u0435\\u0447\\u0438\\u0441\\u043b\\u0435\\u043d\\u043d\\u044b\\u0435 \\u0432\\u044b\\u0448\\u0435 \\u043e\\u0442\\u0434\\u0435\\u043b\\u044c\\u043d\\u044b\\u0435 \\u0442\\u0435\\u043f\\u043b\\u043e\\u0432\\u0438\\u0437\\u043e\\u0440\\u044b. \\u041f\\u043e\\u043c\\u0438\\u043c\\u043e \\u044d\\u0442\\u043e\\u0433\\u043e, \\u0437\\u0434\\u0435\\u0441\\u044c 2K AMOLED\\u2011\\u044d\\u043a\\u0440\\u0430\\u043d \\u0434\\u0438\\u0430\\u0433\\u043e\\u043d\\u0430\\u043b\\u044c\\u044e 6,43\\u00a0\\u0434\\u044e\\u0439\\u043c\\u0430, 7\\u2011\\u043d\\u043c \\u043f\\u0440\\u043e\\u0446\\u0435\\u0441\\u0441\\u043e\\u0440 Dimensity 700, \\u0430\\u043a\\u043a\\u0443\\u043c\\u0443\\u043b\\u044f\\u0442\\u043e\\u0440 \\u043d\\u0430 6\\u00a0000\\u00a0\\u043c\\u0410\\u00b7\\u0447 \\u0438 \\u043a\\u0430\\u043c\\u0435\\u0440\\u0430 \\u043d\\u043e\\u0447\\u043d\\u043e\\u0433\\u043e \\u0432\\u0438\\u0434\\u0435\\u043d\\u0438\\u044f. \\u0421\\u0442\\u043e\\u0438\\u043c\\u043e\\u0441\\u0442\\u044c \\u043d\\u0430 AliExpress \\u2014 \\u0434\\u043e 30\\u00a0\\u0442\\u044b\\u0441\\u044f\\u0447 \\u0440\\u0443\\u0431\\u043b\\u0435\\u0439. Ulefone Power Armor 19T \\u2014 \\u043e\\u0441\\u043d\\u0430\\u0449\\u0451\\u043d \\u0442\\u0435\\u043f\\u043b\\u043e\\u0432\\u0438\\u0437\\u043e\\u0440\\u043e\\u043c FLIR Lepton 3.5 \\u0441 \\u0440\\u0430\\u0437\\u0440\\u0435\\u0448\\u0435\\u043d\\u0438\\u0435\\u043c 160 \\u00d7 120\\u00a0\\u043f\\u0438\\u043a\\u0441\\u0435\\u043b\\u0435\\u0439, \\u0441\\u043f\\u043e\\u0441\\u043e\\u0431\\u043d\\u044b\\u043c \\u0438\\u0437\\u043c\\u0435\\u0440\\u044f\\u0442\\u044c \\u0442\\u0435\\u043c\\u043f\\u0435\\u0440\\u0430\\u0442\\u0443\\u0440\\u0443 \\u0432 \\u0434\\u0438\\u0430\\u043f\\u0430\\u0437\\u043e\\u043d\\u0435 \\u043e\\u0442 \\u221210\\u00a0\\u0434\\u043e 400 \\u00b0C, \\u043d\\u043e \\u0441 \\u0447\\u0430\\u0441\\u0442\\u043e\\u0442\\u043e\\u0439 \\u0432\\u0441\\u0435\\u0433\\u043e 9\\u00a0\\u0413\\u0446. \\u0422\\u0430\\u043a\\u0436\\u0435 \\u0443 \\u0441\\u043c\\u0430\\u0440\\u0442\\u0444\\u043e\\u043d\\u0430 6,58\\u2011\\u0434\\u044e\\u0439\\u043c\\u043e\\u0432\\u044b\\u0439 \\u044d\\u043a\\u0440\\u0430\\u043d \\u0441 \\u0447\\u0430\\u0441\\u0442\\u043e\\u0442\\u043e\\u0439 120\\u00a0\\u0413\\u0446, 6\\u2011\\u043d\\u043c \\u043f\\u0440\\u043e\\u0446\\u0435\\u0441\\u0441\\u043e\\u0440 MediaTek Helio G99, \\u0430\\u043a\\u043a\\u0443\\u043c\\u0443\\u043b\\u044f\\u0442\\u043e\\u0440 \\u043d\\u0430 9\\u00a0600\\u00a0\\u043c\\u0410\\u00b7\\u0447 \\u0438 \\u043f\\u043e\\u0434\\u0434\\u0435\\u0440\\u0436\\u043a\\u0430 \\u044d\\u043d\\u0434\\u043e\\u0441\\u043a\\u043e\\u043f\\u0430. \\u0421\\u0442\\u043e\\u0438\\u0442 \\u043e\\u043a\\u043e\\u043b\\u043e 42\\u00a0\\u0442\\u044b\\u0441\\u044f\\u0447 \\u0440\\u0443\\u0431\\u043b\\u0435\\u0439. AGM G2\\u00a0Guardian \\u2014 \\u043f\\u043e\\u043b\\u0443\\u0447\\u0438\\u043b \\u043c\\u0430\\u0442\\u0440\\u0438\\u0446\\u0443 Infiray ELF3 (256 \\u00d7 192\\u00a0\\u043f\\u0438\\u043a\\u0441\\u0435\\u043b\\u044f, 25\\u00a0\\u0413\\u0446) \\u0441 \\u043b\\u0438\\u043d\\u0437\\u043e\\u0439 10\\u00a0\\u043c\\u043c, \\u043a\\u043e\\u0442\\u043e\\u0440\\u0430\\u044f \\u043e\\u0431\\u0435\\u0441\\u043f\\u0435\\u0447\\u0438\\u0432\\u0430\\u0435\\u0442 \\u0434\\u0430\\u043b\\u044c\\u043d\\u043e\\u0441\\u0442\\u044c \\u043e\\u0431\\u043d\\u0430\\u0440\\u0443\\u0436\\u0435\\u043d\\u0438\\u044f \\u0434\\u043e 500\\u00a0\\u043c\\u0435\\u0442\\u0440\\u043e\\u0432. \\u0422\\u0430\\u043a\\u0436\\u0435 \\u0432 \\u0441\\u043f\\u0438\\u0441\\u043a\\u0435 \\u0445\\u0430\\u0440\\u0430\\u043a\\u0442\\u0435\\u0440\\u0438\\u0441\\u0442\\u0438\\u043a 6,58\\u2011\\u0434\\u044e\\u0439\\u043c\\u043e\\u0432\\u044b\\u0439 \\u044d\\u043a\\u0440\\u0430\\u043d LTPS \\u0441 \\u0440\\u0430\\u0437\\u0440\\u0435\\u0448\\u0435\\u043d\\u0438\\u0435\\u043c FullHD+, 6\\u2011\\u043d\\u043c \\u043f\\u0440\\u043e\\u0446\\u0435\\u0441\\u0441\\u043e\\u0440 Qualcomm QCM6490, \\u0430\\u043a\\u043a\\u0443\\u043c\\u0443\\u043b\\u044f\\u0442\\u043e\\u0440 \\u043d\\u0430 7\\u00a0000\\u00a0\\u043c\\u0410\\u00b7\\u0447 \\u0438 \\u043f\\u043e\\u0434\\u0434\\u0435\\u0440\\u0436\\u043a\\u0430 \\u0431\\u0435\\u0441\\u043f\\u0440\\u043e\\u0432\\u043e\\u0434\\u043d\\u043e\\u0439 \\u0437\\u0430\\u0440\\u044f\\u0434\\u043a\\u0438 (\\u043d\\u0443\\u0436\\u043d\\u0430 \\u0441\\u043f\\u0435\\u0446\\u0438\\u0430\\u043b\\u044c\\u043d\\u0430\\u044f \\u0434\\u043e\\u043a\\u2011\\u0441\\u0442\\u0430\\u043d\\u0446\\u0438\\u044f). \\u0426\\u0435\\u043d\\u0430 \\u043d\\u0430\\u0447\\u0438\\u043d\\u0430\\u0435\\u0442\\u0441\\u044f \\u043e\\u0442 62\\u00a0500\\u00a0\\u0440\\u0443\\u0431\\u043b\\u0435\\u0439 \\u0437\\u0430 \\u0432\\u0435\\u0440\\u0441\\u0438\\u044e \\u043d\\u0430 8/256\\u00a0\\u0413\\u0411, \\u0442\\u0430\\u043a\\u0436\\u0435 \\u0435\\u0441\\u0442\\u044c \\u043e\\u043f\\u0446\\u0438\\u044f \\u0441 12\\u00a0\\u0413\\u0411 \\u041e\\u0417\\u0423 \\u0438 \\u043f\\u043e\\u0434\\u0441\\u0442\\u0430\\u0432\\u043a\\u043e\\u0439 \\u0434\\u043b\\u044f \\u0431\\u0435\\u0441\\u043f\\u0440\\u043e\\u0432\\u043e\\u0434\\u043d\\u043e\\u0439 \\u0437\\u0430\\u0440\\u044f\\u0434\\u043a\\u0438.   \\u041f\\u043e\\u043b\\u0435\\u0437\\u043d\\u044b\\u0435 \\u043f\\u043e\\u043a\\u0443\\u043f\\u043a\\u0438 \\ud83d\\udddc\\ufe0f\\u2668\\ufe0f\\ud83d\\udd0c     \\u041a\\u0430\\u043a\\u043e\\u0439 \\u043e\\u0431\\u043e\\u0433\\u0440\\u0435\\u0432\\u0430\\u0442\\u0435\\u043b\\u044c \\u0432\\u044b\\u0431\\u0440\\u0430\\u0442\\u044c, \\u0447\\u0442\\u043e\\u0431\\u044b \\u0442\\u043e\\u0447\\u043d\\u043e \\u0431\\u044b\\u043b\\u043e \\u0442\\u0435\\u043f\\u043b\\u043e     \\u041a\\u0430\\u043a \\u0432\\u044b\\u0431\\u0440\\u0430\\u0442\\u044c \\u0432\\u043d\\u0435\\u0448\\u043d\\u0438\\u0439 \\u0430\\u043a\\u043a\\u0443\\u043c\\u0443\\u043b\\u044f\\u0442\\u043e\\u0440 \\u0434\\u043b\\u044f \\u0441\\u043c\\u0430\\u0440\\u0442\\u0444\\u043e\\u043d\\u0430     \\u041a\\u0430\\u043a \\u0432\\u044b\\u0431\\u0440\\u0430\\u0442\\u044c \\u0440\\u043e\\u0443\\u0442\\u0435\\u0440: \\u0432\\u0441\\u0451, \\u043d\\u0430 \\u0447\\u0451\\u043c \\u043c\\u043e\\u0436\\u043d\\u043e \\u0438 \\u043d\\u0435\\u043b\\u044c\\u0437\\u044f \\u0441\\u044d\\u043a\\u043e\\u043d\\u043e\\u043c\\u0438\\u0442\\u044c     \\u041a\\u0430\\u043a \\u0432\\u044b\\u0431\\u0440\\u0430\\u0442\\u044c \\u0445\\u043e\\u0440\\u043e\\u0448\\u0438\\u0439 \\u0443\\u0432\\u043b\\u0430\\u0436\\u043d\\u0438\\u0442\\u0435\\u043b\\u044c \\u0432\\u043e\\u0437\\u0434\\u0443\\u0445\\u0430 \\u0434\\u043b\\u044f \\u043a\\u0432\\u0430\\u0440\\u0442\\u0438\\u0440\\u044b \\u0438 \\u0447\\u0430\\u0441\\u0442\\u043d\\u043e\\u0433\\u043e \\u0434\\u043e\\u043c\\u0430     \\u041a\\u0430\\u043a \\u0432\\u044b\\u0431\\u0440\\u0430\\u0442\\u044c \\u0432\\u043e\\u0434\\u043e\\u043d\\u0430\\u0433\\u0440\\u0435\\u0432\\u0430\\u0442\\u0435\\u043b\\u044c, \\u043a\\u043e\\u0442\\u043e\\u0440\\u044b\\u0439 \\u043d\\u0435 \\u0440\\u0430\\u0437\\u043e\\u0447\\u0430\\u0440\\u0443\\u0435\\u0442    \",\n          \"OpenAI \\u043d\\u0430\\u0447\\u0430\\u043b\\u0430 \\u0442\\u0435\\u0441\\u0442\\u0438\\u0440\\u043e\\u0432\\u0430\\u0442\\u044c \\u043d\\u043e\\u0432\\u0443\\u044e \\u0444\\u0443\\u043d\\u043a\\u0446\\u0438\\u044e ChatGPT: \\u0443\\u043f\\u0440\\u0430\\u0432\\u043b\\u0435\\u043d\\u0438\\u0435 \\u043f\\u0430\\u043c\\u044f\\u0442\\u044c\\u044e \\u0431\\u043e\\u0442\\u0430. \\u041d\\u0435\\u043a\\u043e\\u0442\\u043e\\u0440\\u044b\\u0435 \\u043f\\u043e\\u043b\\u044c\\u0437\\u043e\\u0432\\u0430\\u0442\\u0435\\u043b\\u0438 \\u0441\\u0435\\u0440\\u0432\\u0438\\u0441\\u0430 (\\u043a\\u0430\\u043a \\u043f\\u043b\\u0430\\u0442\\u043d\\u043e\\u0439, \\u0442\\u0430\\u043a \\u0438 \\u0431\\u0435\\u0441\\u043f\\u043b\\u0430\\u0442\\u043d\\u043e\\u0439 \\u0432\\u0435\\u0440\\u0441\\u0438\\u0438) \\u0442\\u0435\\u043f\\u0435\\u0440\\u044c \\u043c\\u043e\\u0433\\u0443\\u0442 \\u043f\\u043e\\u043f\\u0440\\u043e\\u0441\\u0438\\u0442\\u044c \\u0431\\u043e\\u0442\\u0430 \\u0437\\u0430\\u043f\\u043e\\u043c\\u043d\\u0438\\u0442\\u044c \\u0441\\u043e\\u0434\\u0435\\u0440\\u0436\\u0438\\u043c\\u043e\\u0435 \\u0447\\u0430\\u0442\\u0430 \\u043d\\u0430 \\u0431\\u0443\\u0434\\u0443\\u0449\\u0435\\u0435 \\u2014 \\u0438\\u043b\\u0438 \\u0437\\u0430\\u0441\\u0442\\u0430\\u0432\\u0438\\u0442\\u044c \\u0435\\u0433\\u043e \\u0437\\u0430\\u0431\\u044b\\u0442\\u044c \\u0440\\u0430\\u0437\\u0433\\u043e\\u0432\\u043e\\u0440.\\u0412 \\u043e\\u0444\\u0438\\u0446\\u0438\\u0430\\u043b\\u044c\\u043d\\u043e\\u043c \\u0431\\u043b\\u043e\\u0433\\u0435 OpenAI \\u0443\\u0442\\u043e\\u0447\\u043d\\u044f\\u0435\\u0442, \\u0447\\u0442\\u043e \\u0444\\u0443\\u043d\\u043a\\u0446\\u0438\\u044f \\u043f\\u0430\\u043c\\u044f\\u0442\\u0438 \\u043f\\u043e\\u043c\\u043e\\u0436\\u0435\\u0442 \\u0431\\u043e\\u0442\\u0443 \\u043f\\u0440\\u0435\\u0434\\u043e\\u0441\\u0442\\u0430\\u0432\\u043b\\u044f\\u0442\\u044c \\u0431\\u043e\\u043b\\u0435\\u0435 \\u0440\\u0435\\u043b\\u0435\\u0432\\u0430\\u043d\\u0442\\u043d\\u044b\\u0435 \\u043e\\u0442\\u0432\\u0435\\u0442\\u044b. \\u0412\\u043e \\u0432\\u0440\\u0435\\u043c\\u044f \\u0440\\u0430\\u0437\\u0433\\u043e\\u0432\\u043e\\u0440\\u0430 \\u043f\\u043e\\u043b\\u044c\\u0437\\u043e\\u0432\\u0430\\u0442\\u0435\\u043b\\u044c \\u043c\\u043e\\u0436\\u0435\\u0442 \\u043f\\u043e\\u043f\\u0440\\u043e\\u0441\\u0438\\u0442\\u044c \\u0431\\u043e\\u0442\\u0430 \\u0437\\u0430\\u043f\\u043e\\u043c\\u043d\\u0438\\u0442\\u044c \\u043a\\u043e\\u043d\\u043a\\u0440\\u0435\\u0442\\u043d\\u044b\\u0435 \\u0444\\u0430\\u043a\\u0442\\u044b \\u0438\\u043b\\u0438 \\u0440\\u0430\\u0437\\u0440\\u0435\\u0448\\u0438\\u0442\\u044c ChatGPT \\u0441\\u0430\\u043c\\u043e\\u043c\\u0443 \\u043f\\u043e\\u0434\\u043c\\u0435\\u0447\\u0430\\u0442\\u044c \\u0434\\u0435\\u0442\\u0430\\u043b\\u0438. \\u0421\\u043e \\u0432\\u0440\\u0435\\u043c\\u0435\\u043d\\u0435\\u043c \\u044d\\u0442\\u0430 \\u043f\\u0430\\u043c\\u044f\\u0442\\u044c \\u0431\\u0443\\u0434\\u0435\\u0442 \\u0442\\u043e\\u043b\\u044c\\u043a\\u043e \\u0443\\u043b\\u0443\\u0447\\u0448\\u0430\\u0442\\u044c\\u0441\\u044f.\\u0424\\u0443\\u043d\\u043a\\u0446\\u0438\\u044f \\u043f\\u0430\\u043c\\u044f\\u0442\\u0438 \\u0431\\u0443\\u0434\\u0435\\u0442 \\u043f\\u043e\\u043b\\u0435\\u0437\\u043d\\u0430, \\u0435\\u0441\\u043b\\u0438 \\u043f\\u043e\\u043b\\u044c\\u0437\\u043e\\u0432\\u0430\\u0442\\u0435\\u043b\\u044c \\u0445\\u043e\\u0447\\u0435\\u0442, \\u0447\\u0442\\u043e\\u0431\\u044b \\u0431\\u043e\\u0442 \\u043f\\u043e\\u0434\\u0441\\u0442\\u0440\\u0430\\u0438\\u0432\\u0430\\u043b \\u043e\\u0442\\u0432\\u0435\\u0442\\u044b \\u043a\\u043e\\u043d\\u043a\\u0440\\u0435\\u0442\\u043d\\u043e \\u043f\\u043e\\u0434 \\u043d\\u0435\\u0433\\u043e. \\u041d\\u0430\\u043f\\u0440\\u0438\\u043c\\u0435\\u0440, \\u0437\\u0430\\u043f\\u043e\\u043c\\u043d\\u0438\\u043b, \\u0447\\u0442\\u043e \\u0443 \\u043f\\u043e\\u043b\\u044c\\u0437\\u043e\\u0432\\u0430\\u0442\\u0435\\u043b\\u044f \\u0435\\u0441\\u0442\\u044c \\u0440\\u0435\\u0431\\u0451\\u043d\\u043e\\u043a \\u0448\\u043a\\u043e\\u043b\\u044c\\u043d\\u043e\\u0433\\u043e \\u0432\\u043e\\u0437\\u0440\\u0430\\u0441\\u0442\\u0430, \\u043e\\u043d \\u043d\\u0435 \\u043b\\u044e\\u0431\\u0438\\u0442 \\u043f\\u043e\\u0435\\u0437\\u0434\\u0430 \\u0438 \\u0443 \\u043d\\u0435\\u0433\\u043e \\u0430\\u043b\\u043b\\u0435\\u0440\\u0433\\u0438\\u044f \\u043d\\u0430 \\u0433\\u0440\\u0438\\u0431\\u044b. \\u0412 \\u0440\\u0435\\u0437\\u0443\\u043b\\u044c\\u0442\\u0430\\u0442\\u0435 \\u043f\\u0440\\u0438 \\u0440\\u0435\\u043a\\u043e\\u043c\\u0435\\u043d\\u0434\\u0430\\u0446\\u0438\\u0438 \\u0431\\u043b\\u044e\\u0434 \\u043d\\u0430 \\u043d\\u0435\\u0434\\u0435\\u043b\\u044e \\u0432 \\u0440\\u0435\\u0446\\u0435\\u043f\\u0442\\u0430\\u0445 \\u043d\\u0435 \\u0431\\u0443\\u0434\\u0435\\u0442 \\u0430\\u043b\\u043b\\u0435\\u0440\\u0433\\u0435\\u043d\\u0430, \\u0430 \\u0438\\u0434\\u0435\\u0438 \\u0434\\u043b\\u044f \\u043e\\u0442\\u043f\\u0443\\u0441\\u043a\\u0430 \\u0431\\u0443\\u0434\\u0443\\u0442 \\u0432\\u043a\\u043b\\u044e\\u0447\\u0430\\u0442\\u044c \\u0440\\u0435\\u0437\\u0443\\u043b\\u044c\\u0442\\u0430\\u0442\\u044b, \\u043a\\u043e\\u0442\\u043e\\u0440\\u044b\\u0435 \\u043f\\u043e\\u0434\\u0445\\u043e\\u0434\\u044f\\u0442 \\u0434\\u043b\\u044f \\u043f\\u043e\\u0435\\u0437\\u0434\\u043e\\u043a \\u0441 \\u0434\\u0435\\u0442\\u044c\\u043c\\u0438.\\u0412 \\u043d\\u0430\\u0441\\u0442\\u0440\\u043e\\u0439\\u043a\\u0430\\u0445 \\u043f\\u0430\\u043c\\u044f\\u0442\\u044c ChatGPT \\u043c\\u043e\\u0436\\u043d\\u043e \\u0431\\u0443\\u0434\\u0435\\u0442 \\u043f\\u043e\\u043b\\u043d\\u043e\\u0441\\u0442\\u044c\\u044e \\u043e\\u0442\\u043a\\u043b\\u044e\\u0447\\u0438\\u0442\\u044c: \\u0441\\u043e\\u0445\\u0440\\u0430\\u043d\\u0451\\u043d\\u043d\\u044b\\u0435 \\u0434\\u0430\\u043d\\u043d\\u044b\\u0435 \\u0431\\u0443\\u0434\\u0443\\u0442 \\u0443\\u0434\\u0430\\u043b\\u0435\\u043d\\u044b, \\u0430 \\u0437\\u0430\\u043f\\u0438\\u0441\\u044c \\u043d\\u043e\\u0432\\u044b\\u0445 \\u043f\\u0440\\u0435\\u043a\\u0440\\u0430\\u0442\\u0438\\u0442\\u0441\\u044f. \\u0422\\u0430\\u043a\\u0436\\u0435 \\u0431\\u0443\\u0434\\u0435\\u0442 \\u0432\\u043e\\u0437\\u043c\\u043e\\u0436\\u043d\\u043e\\u0441\\u0442\\u044c \\u043f\\u043e\\u0441\\u043c\\u043e\\u0442\\u0440\\u0435\\u0442\\u044c \\u0432\\u0441\\u0435 \\u0441\\u043e\\u0445\\u0440\\u0430\\u043d\\u0451\\u043d\\u043d\\u044b\\u0435 \\u0432\\u043e\\u0441\\u043f\\u043e\\u043c\\u0438\\u043d\\u0430\\u043d\\u0438\\u044f \\u0438 \\u0443\\u0434\\u0430\\u043b\\u0438\\u0442\\u044c \\u043d\\u0435\\u043a\\u043e\\u0442\\u043e\\u0440\\u044b\\u0435 \\u0438\\u0437 \\u043d\\u0438\\u0445 \\u0432 \\u043d\\u0430\\u0441\\u0442\\u0440\\u043e\\u0439\\u043a\\u0430\\u0445 \\u0431\\u043e\\u0442\\u0430, \\u0430 \\u043d\\u0435 \\u0447\\u0435\\u0440\\u0435\\u0437 \\u0434\\u0438\\u0430\\u043b\\u043e\\u0433.\\u0418\\u043b\\u043b\\u044e\\u0441\\u0442\\u0440\\u0430\\u0446\\u0438\\u044f: OpenAIOpenAI \\u0442\\u0430\\u043a\\u0436\\u0435 \\u043e\\u0442\\u043c\\u0435\\u0447\\u0430\\u0435\\u0442, \\u0447\\u0442\\u043e ChatGPT \\u043d\\u0435 \\u0434\\u043e\\u043b\\u0436\\u0435\\u043d \\u0430\\u043a\\u0442\\u0438\\u0432\\u043d\\u043e \\u0437\\u0430\\u043f\\u043e\\u043c\\u0438\\u043d\\u0430\\u0442\\u044c \\u043b\\u0438\\u0447\\u043d\\u0443\\u044e \\u0438\\u043d\\u0444\\u043e\\u0440\\u043c\\u0430\\u0446\\u0438\\u044e \\u043e \\u043f\\u043e\\u043b\\u044c\\u0437\\u043e\\u0432\\u0430\\u0442\\u0435\\u043b\\u0435 (\\u0432\\u0440\\u043e\\u0434\\u0435 \\u043f\\u043e\\u0434\\u0440\\u043e\\u0431\\u043d\\u043e\\u0441\\u0442\\u0435\\u0439 \\u043e \\u0441\\u043e\\u0441\\u0442\\u043e\\u044f\\u043d\\u0438\\u0438 \\u0437\\u0434\\u043e\\u0440\\u043e\\u0432\\u044c\\u044f), \\u043f\\u043e\\u043a\\u0430 \\u043e\\u043d \\u0441\\u0430\\u043c \\u043d\\u0435 \\u0441\\u043a\\u0430\\u0436\\u0435\\u0442 \\u0437\\u0430\\u043f\\u043e\\u043c\\u043d\\u0438\\u0442\\u044c \\u044d\\u0442\\u0443 \\u0434\\u0435\\u0442\\u0430\\u043b\\u044c.\\u0414\\u043b\\u044f \\u0434\\u043e\\u043f\\u043e\\u043b\\u043d\\u0438\\u0442\\u0435\\u043b\\u044c\\u043d\\u043e\\u0439 \\u0437\\u0430\\u0449\\u0438\\u0442\\u044b \\u043f\\u043e\\u043b\\u044c\\u0437\\u043e\\u0432\\u0430\\u0442\\u0435\\u043b\\u044c\\u0441\\u043a\\u0438\\u0445 \\u0434\\u0430\\u043d\\u043d\\u044b\\u0445 \\u0447\\u0430\\u0442-\\u0431\\u043e\\u0442 \\u0442\\u0430\\u043a\\u0436\\u0435 \\u043f\\u043e\\u043b\\u0443\\u0447\\u0438\\u043b \\u0444\\u0443\\u043d\\u043a\\u0446\\u0438\\u044e \\u00ab\\u0412\\u0440\\u0435\\u043c\\u0435\\u043d\\u043d\\u044b\\u0439 \\u0447\\u0430\\u0442\\u00bb. \\u0412 \\u044d\\u0442\\u043e\\u043c \\u0440\\u0435\\u0436\\u0438\\u043c\\u0435 \\u0443 \\u0431\\u043e\\u0442\\u0430 \\u043d\\u0435 \\u0431\\u0443\\u0434\\u0435\\u0442 \\u0434\\u043e\\u0441\\u0442\\u0443\\u043f\\u0430 \\u043a \\u0432\\u043e\\u0441\\u043f\\u043e\\u043c\\u0438\\u043d\\u0430\\u043d\\u0438\\u044f\\u043c, \\u0430 \\u0434\\u0430\\u043d\\u043d\\u044b\\u0435 \\u043d\\u0435 \\u0431\\u0443\\u0434\\u0443\\u0442 \\u0438\\u0441\\u043f\\u043e\\u043b\\u044c\\u0437\\u043e\\u0432\\u0430\\u0442\\u044c\\u0441\\u044f \\u0434\\u043b\\u044f \\u043e\\u0431\\u0443\\u0447\\u0435\\u043d\\u0438\\u044f \\u043c\\u043e\\u0434\\u0435\\u043b\\u0438. \\u041d\\u043e OpenAI \\u043f\\u0440\\u0435\\u0434\\u0443\\u043f\\u0440\\u0435\\u0436\\u0434\\u0430\\u0435\\u0442, \\u0447\\u0442\\u043e \\u0432 \\u0446\\u0435\\u043b\\u044f\\u0445 \\u0431\\u0435\\u0437\\u043e\\u043f\\u0430\\u0441\\u043d\\u043e\\u0441\\u0442\\u0438 \\u0434\\u0430\\u043d\\u043d\\u044b\\u0435 \\u043c\\u043e\\u0433\\u0443\\u0442 \\u0445\\u0440\\u0430\\u043d\\u0438\\u0442\\u044c\\u0441\\u044f \\u043d\\u0430 \\u0441\\u0435\\u0440\\u0432\\u0435\\u0440\\u0430\\u0445 \\u0432 \\u0442\\u0435\\u0447\\u0435\\u043d\\u0438\\u0435 30 \\u0434\\u043d\\u0435\\u0439.\\u041e\\u0431\\u0435 \\u043d\\u043e\\u0432\\u044b\\u0435 \\u0444\\u0443\\u043d\\u043a\\u0446\\u0438\\u0438 \\u043f\\u043e\\u043a\\u0430 \\u0434\\u043e\\u0441\\u0442\\u0443\\u043f\\u043d\\u044b \\u0442\\u043e\\u043b\\u044c\\u043a\\u043e \\u043d\\u0435\\u043a\\u043e\\u0442\\u043e\\u0440\\u044b\\u043c \\u043f\\u043e\\u043b\\u044c\\u0437\\u043e\\u0432\\u0430\\u0442\\u0435\\u043b\\u044f\\u043c. \\u041a\\u043e\\u0433\\u0434\\u0430 \\u0442\\u0435\\u0441\\u0442\\u043e\\u0432\\u044b\\u0439 \\u044d\\u0442\\u0430\\u043f \\u0437\\u0430\\u0432\\u0435\\u0440\\u0448\\u0438\\u0442\\u0441\\u044f, \\u0438\\u0445 \\u0440\\u0430\\u0441\\u043a\\u0430\\u0442\\u0430\\u044e\\u0442 \\u043d\\u0430 \\u0432\\u0441\\u0435\\u0445.  \\u041f\\u0438\\u0448\\u0435\\u0442\\u0435 \\u043f\\u0440\\u043e\\u043c\\u043f\\u0442\\u044b \\ud83e\\uddd0     \\u0418\\u0441\\u0441\\u043b\\u0435\\u0434\\u043e\\u0432\\u0430\\u0442\\u0435\\u043b\\u0438 \\u043d\\u0430\\u0437\\u0432\\u0430\\u043b\\u0438 26 \\u0441\\u043e\\u0432\\u0435\\u0442\\u043e\\u0432, \\u043a\\u043e\\u0442\\u043e\\u0440\\u044b\\u0435 \\u0443\\u043b\\u0443\\u0447\\u0448\\u0430\\u0442 \\u0432\\u044b\\u0434\\u0430\\u0447\\u0443 ChatGPT     \\u041a\\u0430\\u043a \\u0438\\u0437\\u0443\\u0447\\u0430\\u0442\\u044c \\u0430\\u043d\\u0433\\u043b\\u0438\\u0439\\u0441\\u043a\\u0438\\u0439 \\u0441 \\u043f\\u043e\\u043c\\u043e\\u0449\\u044c\\u044e ChatGPT \\u0438 \\u0434\\u0440\\u0443\\u0433\\u0438\\u0445 \\u0447\\u0430\\u0442-\\u0431\\u043e\\u0442\\u043e\\u0432     15 \\u043f\\u0440\\u043e\\u043c\\u043f\\u0442\\u043e\\u0432 \\u0434\\u043b\\u044f ChatGPT, \\u043a\\u043e\\u0442\\u043e\\u0440\\u044b\\u0435 \\u043c\\u043e\\u0433\\u0443\\u0442 \\u0432\\u0430\\u043c \\u043f\\u0440\\u0438\\u0433\\u043e\\u0434\\u0438\\u0442\\u044c\\u0441\\u044f    \",\n          \"Apple \\u043f\\u043b\\u0430\\u043d\\u0438\\u0440\\u0443\\u0435\\u0442 \\u0432\\u043d\\u0435\\u0441\\u0442\\u0438 \\u0438\\u0437\\u043c\\u0435\\u043d\\u0435\\u043d\\u0438\\u044f \\u0432 \\u0441\\u0432\\u043e\\u044e \\u043f\\u043e\\u043b\\u0438\\u0442\\u0438\\u043a\\u0443 \\u0432 \\u0441\\u0442\\u0440\\u0430\\u043d\\u0430\\u0445 \\u0415\\u0421, \\u0447\\u0442\\u043e\\u0431\\u044b \\u043f\\u043e\\u0437\\u0432\\u043e\\u043b\\u0438\\u0442\\u044c \\u043d\\u0435\\u043a\\u043e\\u0442\\u043e\\u0440\\u044b\\u043c \\u0440\\u0430\\u0437\\u0440\\u0430\\u0431\\u043e\\u0442\\u0447\\u0438\\u043a\\u0430\\u043c \\u0440\\u0430\\u0441\\u043f\\u0440\\u043e\\u0441\\u0442\\u0440\\u0430\\u043d\\u044f\\u0442\\u044c \\u0441\\u0432\\u043e\\u0438 \\u043f\\u0440\\u0438\\u043b\\u043e\\u0436\\u0435\\u043d\\u0438\\u044f \\u0434\\u043b\\u044f iOS \\u043d\\u0430\\u043f\\u0440\\u044f\\u043c\\u0443\\u044e \\u0441 \\u0432\\u0435\\u0431-\\u0441\\u0430\\u0439\\u0442\\u043e\\u0432. \\u042d\\u0442\\u0430 \\u0432\\u043e\\u0437\\u043c\\u043e\\u0436\\u043d\\u043e\\u0441\\u0442\\u044c \\u0441\\u0442\\u0430\\u043d\\u0435\\u0442 \\u0434\\u043e\\u0441\\u0442\\u0443\\u043f\\u043d\\u0430 \\u0441 \\u043e\\u0431\\u043d\\u043e\\u0432\\u043b\\u0435\\u043d\\u0438\\u0435\\u043c \\u043f\\u0440\\u043e\\u0433\\u0440\\u0430\\u043c\\u043c\\u043d\\u043e\\u0433\\u043e \\u043e\\u0431\\u0435\\u0441\\u043f\\u0435\\u0447\\u0435\\u043d\\u0438\\u044f \\u00ab\\u043f\\u043e\\u0437\\u0436\\u0435 \\u044d\\u0442\\u043e\\u0439 \\u0432\\u0435\\u0441\\u043d\\u043e\\u0439\\u00bb.\\u041f\\u043e \\u0441\\u0443\\u0442\\u0438 \\u044d\\u0442\\u043e \\u043e\\u0437\\u043d\\u0430\\u0447\\u0430\\u0435\\u0442, \\u0447\\u0442\\u043e \\u0440\\u0430\\u0437\\u0440\\u0430\\u0431\\u043e\\u0442\\u0447\\u0438\\u043a\\u0430\\u043c \\u0438\\u0433\\u0440 \\u0438 \\u043f\\u0440\\u043e\\u0433\\u0440\\u0430\\u043c\\u043c \\u043d\\u0435 \\u043f\\u043e\\u0442\\u0440\\u0435\\u0431\\u0443\\u0435\\u0442\\u0441\\u044f \\u043e\\u0442\\u0434\\u0435\\u043b\\u044c\\u043d\\u044b\\u0439 \\u043c\\u0430\\u0433\\u0430\\u0437\\u0438\\u043d \\u043f\\u0440\\u0438\\u043b\\u043e\\u0436\\u0435\\u043d\\u0438\\u0439 \\u2014 \\u0430\\u043b\\u044c\\u0442\\u0435\\u0440\\u043d\\u0430\\u0442\\u0438\\u0432\\u043d\\u044b\\u0439 App Store. \\u041d\\u043e \\u0434\\u043b\\u044f \\u0440\\u0430\\u0441\\u043f\\u0440\\u043e\\u0441\\u0442\\u0440\\u0430\\u043d\\u0435\\u043d\\u0438\\u044f \\u043d\\u0430\\u043f\\u0440\\u044f\\u043c\\u0443\\u044e \\u0447\\u0435\\u0440\\u0435\\u0437 \\u0441\\u0432\\u043e\\u0439 \\u0441\\u0430\\u0439\\u0442 \\u043f\\u0440\\u0438\\u0434\\u0451\\u0442\\u0441\\u044f \\u043f\\u0440\\u0438\\u0434\\u0435\\u0440\\u0436\\u0438\\u0432\\u0430\\u0442\\u044c\\u0441\\u044f \\u0441\\u0442\\u0440\\u043e\\u0433\\u0438\\u0445 \\u043f\\u0440\\u0430\\u0432\\u0438\\u043b Apple.  \\u041f\\u0440\\u0438\\u043b\\u043e\\u0436\\u0435\\u043d\\u0438\\u044f, \\u043f\\u0440\\u0435\\u0434\\u043b\\u0430\\u0433\\u0430\\u0435\\u043c\\u044b\\u0435 \\u0447\\u0435\\u0440\\u0435\\u0437 \\u0432\\u0435\\u0431-\\u0440\\u0430\\u0441\\u043f\\u0440\\u043e\\u0441\\u0442\\u0440\\u0430\\u043d\\u0435\\u043d\\u0438\\u0435, \\u0434\\u043e\\u043b\\u0436\\u043d\\u044b \\u0441\\u043e\\u043e\\u0442\\u0432\\u0435\\u0442\\u0441\\u0442\\u0432\\u043e\\u0432\\u0430\\u0442\\u044c \\u0442\\u0440\\u0435\\u0431\\u043e\\u0432\\u0430\\u043d\\u0438\\u044f\\u043c \\u043d\\u043e\\u0442\\u0430\\u0440\\u0438\\u0430\\u043b\\u044c\\u043d\\u043e\\u0433\\u043e \\u0437\\u0430\\u0432\\u0435\\u0440\\u0435\\u043d\\u0438\\u044f \\u0434\\u043b\\u044f \\u0437\\u0430\\u0449\\u0438\\u0442\\u044b \\u0446\\u0435\\u043b\\u043e\\u0441\\u0442\\u043d\\u043e\\u0441\\u0442\\u0438 \\u043f\\u043b\\u0430\\u0442\\u0444\\u043e\\u0440\\u043c\\u044b, \\u043a\\u0430\\u043a \\u0438 \\u0432\\u0441\\u0435 \\u043f\\u0440\\u0438\\u043b\\u043e\\u0436\\u0435\\u043d\\u0438\\u044f iOS, \\u0438 \\u043c\\u043e\\u0433\\u0443\\u0442 \\u0431\\u044b\\u0442\\u044c \\u0443\\u0441\\u0442\\u0430\\u043d\\u043e\\u0432\\u043b\\u0435\\u043d\\u044b \\u0442\\u043e\\u043b\\u044c\\u043a\\u043e \\u0441 \\u0434\\u043e\\u043c\\u0435\\u043d\\u0430 \\u0432\\u0435\\u0431-\\u0441\\u0430\\u0439\\u0442\\u0430, \\u043a\\u043e\\u0442\\u043e\\u0440\\u044b\\u0439 \\u0440\\u0430\\u0437\\u0440\\u0430\\u0431\\u043e\\u0442\\u0447\\u0438\\u043a \\u0437\\u0430\\u0440\\u0435\\u0433\\u0438\\u0441\\u0442\\u0440\\u0438\\u0440\\u043e\\u0432\\u0430\\u043b \\u0432 App Store Connect.   Apple \\u0423\\u0441\\u0442\\u0430\\u043d\\u043e\\u0432\\u043a\\u0430 \\u044d\\u0442\\u0438\\u0445 \\u043f\\u0440\\u0438\\u043b\\u043e\\u0436\\u0435\\u043d\\u0438\\u0439 \\u043d\\u0430 iPhone \\u0432 \\u0415\\u0421 \\u0442\\u0430\\u043a\\u0436\\u0435 \\u0431\\u0443\\u0434\\u0435\\u0442 \\u043d\\u0435\\u043f\\u0440\\u043e\\u0441\\u0442\\u044b\\u043c \\u043f\\u0440\\u043e\\u0446\\u0435\\u0441\\u0441\\u043e\\u043c. \\u041f\\u043e\\u043b\\u044c\\u0437\\u043e\\u0432\\u0430\\u0442\\u0435\\u043b\\u044f\\u043c \\u0441\\u043d\\u0430\\u0447\\u0430\\u043b\\u0430 \\u043d\\u0435\\u043e\\u0431\\u0445\\u043e\\u0434\\u0438\\u043c\\u043e \\u0431\\u0443\\u0434\\u0435\\u0442 \\u0440\\u0430\\u0437\\u0440\\u0435\\u0448\\u0438\\u0442\\u044c \\u0440\\u0430\\u0437\\u0440\\u0430\\u0431\\u043e\\u0442\\u0447\\u0438\\u043a\\u0443 \\u0443\\u0441\\u0442\\u0430\\u043d\\u0430\\u0432\\u043b\\u0438\\u0432\\u0430\\u0442\\u044c \\u0438\\u0433\\u0440\\u044b \\u0438 \\u043f\\u0440\\u043e\\u0433\\u0440\\u0430\\u043c\\u043c\\u044b \\u0432 \\u043d\\u0430\\u0441\\u0442\\u0440\\u043e\\u0439\\u043a\\u0430\\u0445 \\u0441\\u0432\\u043e\\u0435\\u0433\\u043e \\u0441\\u043c\\u0430\\u0440\\u0442\\u0444\\u043e\\u043d\\u0430. \\u0418 \\u043f\\u0440\\u0438 \\u0443\\u0441\\u0442\\u0430\\u043d\\u043e\\u0432\\u043a\\u0435 \\u043d\\u0430 \\u0441\\u0438\\u0441\\u0442\\u0435\\u043c\\u043d\\u043e\\u043c \\u043b\\u0438\\u0441\\u0442\\u0435 \\u0431\\u0443\\u0434\\u0435\\u0442 \\u043e\\u0442\\u043e\\u0431\\u0440\\u0430\\u0436\\u0430\\u0442\\u044c\\u0441\\u044f \\u0438\\u043d\\u0444\\u043e\\u0440\\u043c\\u0430\\u0446\\u0438\\u044f, \\u043a\\u043e\\u0442\\u043e\\u0440\\u0443\\u044e \\u0440\\u0430\\u0437\\u0440\\u0430\\u0431\\u043e\\u0442\\u0447\\u0438\\u043a\\u0438 \\u0434\\u043e\\u043b\\u0436\\u043d\\u044b \\u043f\\u0440\\u0435\\u0434\\u0432\\u0430\\u0440\\u0438\\u0442\\u0435\\u043b\\u044c\\u043d\\u043e \\u043e\\u0442\\u043f\\u0440\\u0430\\u0432\\u0438\\u0442\\u044c \\u0432 Apple \\u043d\\u0430 \\u0440\\u0430\\u0441\\u0441\\u043c\\u043e\\u0442\\u0440\\u0435\\u043d\\u0438\\u0435, \\u043d\\u0430\\u043f\\u0440\\u0438\\u043c\\u0435\\u0440 \\u0438\\u043c\\u044f \\u043f\\u0440\\u0438\\u043b\\u043e\\u0436\\u0435\\u043d\\u0438\\u044f, \\u0438\\u043c\\u044f \\u0440\\u0430\\u0437\\u0440\\u0430\\u0431\\u043e\\u0442\\u0447\\u0438\\u043a\\u0430, \\u043e\\u043f\\u0438\\u0441\\u0430\\u043d\\u0438\\u0435, \\u0441\\u043a\\u0440\\u0438\\u043d\\u0448\\u043e\\u0442\\u044b \\u044d\\u043a\\u0440\\u0430\\u043d\\u0430 \\u0438 \\u0432\\u043e\\u0437\\u0440\\u0430\\u0441\\u0442\\u043d\\u043e\\u0439 \\u0440\\u0435\\u0439\\u0442\\u0438\\u043d\\u0433 \\u2014 \\u043c\\u043e\\u0440\\u043e\\u043a\\u0438 \\u043c\\u043d\\u043e\\u0433\\u043e.\\u041f\\u043e\\u043b\\u0443\\u0447\\u0430\\u0435\\u0442\\u0441\\u044f, \\u0447\\u0442\\u043e \\u044d\\u0442\\u043e \\u043d\\u0435 \\u0431\\u0443\\u0434\\u0435\\u0442 \\u043e\\u0442\\u043a\\u0440\\u044b\\u0442\\u044b\\u043c \\u0438 \\u0431\\u0435\\u0441\\u043f\\u043b\\u0430\\u0442\\u043d\\u044b\\u043c \\u0441\\u043f\\u043e\\u0441\\u043e\\u0431\\u043e\\u043c \\u0434\\u043b\\u044f \\u0440\\u0430\\u0437\\u0440\\u0430\\u0431\\u043e\\u0442\\u0447\\u0438\\u043a\\u043e\\u0432 \\u0440\\u0430\\u0441\\u043f\\u0440\\u043e\\u0441\\u0442\\u0440\\u0430\\u043d\\u044f\\u0442\\u044c \\u043f\\u0440\\u0438\\u043b\\u043e\\u0436\\u0435\\u043d\\u0438\\u044f \\u0447\\u0435\\u0440\\u0435\\u0437 \\u0441\\u0432\\u043e\\u0438 \\u0441\\u0430\\u0439\\u0442\\u044b, \\u043a\\u0430\\u043a \\u0432 \\u0441\\u043b\\u0443\\u0447\\u0430\\u0435 \\u0441 Android. \\u00abApple \\u0431\\u0443\\u0434\\u0435\\u0442 \\u0430\\u0432\\u0442\\u043e\\u0440\\u0438\\u0437\\u043e\\u0432\\u044b\\u0432\\u0430\\u0442\\u044c \\u043f\\u043e\\u0441\\u043b\\u0435 \\u0441\\u043e\\u0431\\u043b\\u044e\\u0434\\u0435\\u043d\\u0438\\u044f \\u043e\\u043f\\u0440\\u0435\\u0434\\u0435\\u043b\\u0451\\u043d\\u043d\\u044b\\u0445 \\u043a\\u0440\\u0438\\u0442\\u0435\\u0440\\u0438\\u0435\\u0432 \\u0438 \\u043f\\u043e\\u0441\\u0442\\u043e\\u044f\\u043d\\u043d\\u044b\\u0445 \\u0442\\u0440\\u0435\\u0431\\u043e\\u0432\\u0430\\u043d\\u0438\\u0439, \\u043a\\u043e\\u0442\\u043e\\u0440\\u044b\\u0435 \\u043f\\u043e\\u043c\\u043e\\u0433\\u0443\\u0442 \\u0437\\u0430\\u0449\\u0438\\u0442\\u0438\\u0442\\u044c \\u043f\\u043e\\u043b\\u044c\\u0437\\u043e\\u0432\\u0430\\u0442\\u0435\\u043b\\u0435\\u0439\\u00bb, \\u2014 \\u043e\\u0442\\u043c\\u0435\\u0442\\u0438\\u043b\\u0438 \\u0432 Apple.\\u0422\\u0430\\u043a\\u0436\\u0435 Apple \\u0432\\u044b\\u043a\\u0430\\u0442\\u0438\\u043b\\u0430 \\u0440\\u044f\\u0434 \\u0434\\u043e\\u043f\\u043e\\u043b\\u043d\\u0438\\u0442\\u0435\\u043b\\u044c\\u043d\\u044b\\u0445 \\u0442\\u0440\\u0435\\u0431\\u043e\\u0432\\u0430\\u043d\\u0438\\u0439 \\u0434\\u043b\\u044f \\u0440\\u0430\\u0437\\u0440\\u0430\\u0431\\u043e\\u0442\\u0447\\u0438\\u043a\\u043e\\u0432, \\u043a\\u043e\\u0442\\u043e\\u0440\\u044b\\u0435 \\u0445\\u043e\\u0442\\u044f\\u0442 \\u0441\\u0434\\u0435\\u043b\\u0430\\u0442\\u044c \\u043f\\u0440\\u0438\\u043b\\u043e\\u0436\\u0435\\u043d\\u0438\\u044f \\u0434\\u043e\\u0441\\u0442\\u0443\\u043f\\u043d\\u044b\\u043c\\u0438 \\u0447\\u0435\\u0440\\u0435\\u0437 \\u0441\\u0430\\u0439\\u0442. \\u0418\\u043c \\u043d\\u0443\\u0436\\u043d\\u043e: \\u0431\\u044b\\u0442\\u044c \\u0437\\u0430\\u0440\\u0435\\u0433\\u0438\\u0441\\u0442\\u0440\\u0438\\u0440\\u043e\\u0432\\u0430\\u043d\\u043d\\u044b\\u043c \\u0432 \\u043f\\u0440\\u043e\\u0433\\u0440\\u0430\\u043c\\u043c\\u0435 Apple Developer Program \\u0432 \\u043a\\u0430\\u0447\\u0435\\u0441\\u0442\\u0432\\u0435 \\u043a\\u043e\\u043c\\u043f\\u0430\\u043d\\u0438\\u0438, \\u043e\\u0444\\u043e\\u0440\\u043c\\u043b\\u0435\\u043d\\u043d\\u043e\\u0439 \\u0432 \\u0415\\u0421; \\u0431\\u044b\\u0442\\u044c \\u0443\\u0447\\u0430\\u0441\\u0442\\u043d\\u0438\\u043a\\u043e\\u043c \\u043f\\u0440\\u043e\\u0433\\u0440\\u0430\\u043c\\u043c\\u044b Apple Developer Program \\u0441 \\u0445\\u043e\\u0440\\u043e\\u0448\\u0435\\u0439 \\u0440\\u0435\\u043f\\u0443\\u0442\\u0430\\u0446\\u0438\\u0435\\u0439 \\u0432 \\u0442\\u0435\\u0447\\u0435\\u043d\\u0438\\u0435 \\u0434\\u0432\\u0443\\u0445 \\u0438\\u043b\\u0438 \\u0431\\u043e\\u043b\\u0435\\u0435 \\u043b\\u0435\\u0442 \\u043f\\u043e\\u0434\\u0440\\u044f\\u0434 \\u0438 \\u0438\\u043c\\u0435\\u0442\\u044c \\u043f\\u0440\\u0438\\u043b\\u043e\\u0436\\u0435\\u043d\\u0438\\u0435, \\u043a\\u043e\\u0442\\u043e\\u0440\\u043e\\u0435 \\u0437\\u0430 \\u043f\\u0440\\u0435\\u0434\\u044b\\u0434\\u0443\\u0449\\u0438\\u0439 \\u043a\\u0430\\u043b\\u0435\\u043d\\u0434\\u0430\\u0440\\u043d\\u044b\\u0439 \\u0433\\u043e\\u0434 \\u0431\\u044b\\u043b\\u043e \\u0443\\u0441\\u0442\\u0430\\u043d\\u043e\\u0432\\u043b\\u0435\\u043d\\u043e \\u0431\\u043e\\u043b\\u0435\\u0435 \\u043e\\u0434\\u043d\\u043e\\u0433\\u043e \\u043c\\u0438\\u043b\\u043b\\u0438\\u043e\\u043d\\u0430 \\u0440\\u0430\\u0437; \\u0438\\u043c\\u0435\\u0442\\u044c \\u043f\\u0440\\u043e\\u0437\\u0440\\u0430\\u0447\\u043d\\u0443\\u044e \\u043f\\u043e\\u043b\\u0438\\u0442\\u0438\\u043a\\u0443 \\u0441\\u0431\\u043e\\u0440\\u0430 \\u0434\\u0430\\u043d\\u043d\\u044b\\u0445; \\u0441\\u043e\\u0431\\u043b\\u044e\\u0434\\u0430\\u0442\\u044c \\u0432\\u0441\\u0435 \\u0437\\u0430\\u043a\\u043e\\u043d\\u044b \\u0438 \\u044e\\u0440\\u0438\\u0441\\u0434\\u0438\\u043a\\u0446\\u0438\\u0438, \\u0432 \\u043a\\u043e\\u0442\\u043e\\u0440\\u044b\\u0445 \\u043e\\u0441\\u0443\\u0449\\u0435\\u0441\\u0442\\u0432\\u043b\\u044f\\u0435\\u0442\\u0441\\u044f \\u0440\\u0430\\u0431\\u043e\\u0442\\u0430 (\\u043d\\u0430\\u043f\\u0440\\u0438\\u043c\\u0435\\u0440, \\u0417\\u0430\\u043a\\u043e\\u043d \\u043e \\u0446\\u0438\\u0444\\u0440\\u043e\\u0432\\u044b\\u0445 \\u0443\\u0441\\u043b\\u0443\\u0433\\u0430\\u0445, \\u041e\\u0431\\u0449\\u0438\\u0435 \\u043f\\u043e\\u043b\\u043e\\u0436\\u0435\\u043d\\u0438\\u044f \\u043e \\u0437\\u0430\\u0449\\u0438\\u0442\\u0435 \\u0434\\u0430\\u043d\\u043d\\u044b\\u0445 \\u0438 \\u0437\\u0430\\u043a\\u043e\\u043d\\u044b \\u043e \\u0437\\u0430\\u0449\\u0438\\u0442\\u0435 \\u043f\\u043e\\u0442\\u0440\\u0435\\u0431\\u0438\\u0442\\u0435\\u043b\\u0435\\u0439). \\u041d\\u0430\\u043b\\u0438\\u0447\\u0438\\u0435 \\u0445\\u043e\\u0440\\u043e\\u0448\\u0435\\u0439 \\u0443\\u0447\\u0451\\u0442\\u043d\\u043e\\u0439 \\u0437\\u0430\\u043f\\u0438\\u0441\\u0438 \\u0440\\u0430\\u0437\\u0440\\u0430\\u0431\\u043e\\u0442\\u0447\\u0438\\u043a\\u0430 \\u0432 \\u0442\\u0435\\u0447\\u0435\\u043d\\u0438\\u0435 \\u0434\\u0432\\u0443\\u0445 \\u043b\\u0435\\u0442 \\u043c\\u043e\\u0436\\u0435\\u0442 \\u0438\\u0441\\u043a\\u043b\\u044e\\u0447\\u0438\\u0442\\u044c Epic Games \\u0438\\u0437 \\u0441\\u043f\\u0438\\u0441\\u043a\\u0430 \\u043a\\u043e\\u043c\\u043f\\u0430\\u043d\\u0438\\u0439, \\u043a\\u043e\\u0442\\u043e\\u0440\\u044b\\u0435 \\u0441\\u043c\\u043e\\u0433\\u0443\\u0442 \\u0432\\u043e\\u0441\\u043f\\u043e\\u043b\\u044c\\u0437\\u043e\\u0432\\u0430\\u0442\\u044c\\u0441\\u044f \\u0442\\u0430\\u043a\\u0438\\u043c \\u0441\\u043f\\u043e\\u0441\\u043e\\u0431\\u043e\\u043c \\u0440\\u0430\\u0441\\u043f\\u0440\\u043e\\u0441\\u0442\\u0440\\u0430\\u043d\\u0435\\u043d\\u0438\\u044f \\u043f\\u0440\\u0438\\u043b\\u043e\\u0436\\u0435\\u043d\\u0438\\u0439. \\u0425\\u043e\\u0442\\u044f \\u043e\\u043d\\u0430 \\u0438 \\u0442\\u0430\\u043a \\u043d\\u0430\\u0434\\u0435\\u0435\\u0442\\u0441\\u044f \\u0437\\u0430\\u043f\\u0443\\u0441\\u0442\\u0438\\u0442\\u044c \\u0441\\u0432\\u043e\\u0439 \\u043c\\u0430\\u0433\\u0430\\u0437\\u0438\\u043d \\u0438\\u0433\\u0440 \\u0434\\u043b\\u044f iOS \\u0432 \\u0415\\u0421.  \\u041f\\u0440\\u043e iPhone \\u0438 iOS \\ud83d\\udcf1     \\u041a\\u0430\\u043a \\u0441\\u043a\\u0440\\u044b\\u0442\\u044c \\u043f\\u0440\\u0438\\u043b\\u043e\\u0436\\u0435\\u043d\\u0438\\u044f \\u043d\\u0430 iPhone, \\u043d\\u0435 \\u0443\\u0434\\u0430\\u043b\\u044f\\u044f \\u0438\\u0445     \\u041d\\u043e\\u0432\\u044b\\u0435 \\u043f\\u0440\\u0438\\u043b\\u043e\\u0436\\u0435\\u043d\\u0438\\u044f \\u0438 \\u0438\\u0433\\u0440\\u044b \\u0434\\u043b\\u044f iOS: \\u043b\\u0443\\u0447\\u0448\\u0435\\u0435 \\u0437\\u0430 \\u0444\\u0435\\u0432\\u0440\\u0430\\u043b\\u044c     \\u041a\\u0430\\u043a \\u0431\\u044b\\u0441\\u0442\\u0440\\u043e \\u043f\\u0440\\u0435\\u0432\\u0440\\u0430\\u0442\\u0438\\u0442\\u044c iPhone \\u0441 iOS 17 \\u0432 \\u00ab\\u0431\\u0430\\u0431\\u0443\\u0448\\u043a\\u043e\\u0444\\u043e\\u043d\\u00bb    \"\n        ],\n        \"semantic_type\": \"\",\n        \"description\": \"\"\n      }\n    }\n  ]\n}"
            }
          },
          "metadata": {},
          "execution_count": 18
        }
      ]
    }
  ]
}