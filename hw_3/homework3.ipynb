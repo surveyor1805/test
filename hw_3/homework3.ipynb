{
  "nbformat": 4,
  "nbformat_minor": 0,
  "metadata": {
    "colab": {
      "provenance": []
    },
    "kernelspec": {
      "name": "python3",
      "display_name": "Python 3"
    },
    "language_info": {
      "name": "python"
    }
  },
  "cells": [
    {
      "cell_type": "code",
      "source": [
        "!ls"
      ],
      "metadata": {
        "id": "R51teqUXqms8"
      },
      "execution_count": null,
      "outputs": []
    },
    {
      "cell_type": "code",
      "source": [
        "%cd drive"
      ],
      "metadata": {
        "id": "0XYyru7a6odp"
      },
      "execution_count": null,
      "outputs": []
    },
    {
      "cell_type": "code",
      "source": [
        "!ls"
      ],
      "metadata": {
        "id": "j5llSkc76sIJ"
      },
      "execution_count": null,
      "outputs": []
    },
    {
      "cell_type": "code",
      "source": [
        "%cd MyDrive"
      ],
      "metadata": {
        "id": "1vEuwWqG6vdx"
      },
      "execution_count": null,
      "outputs": []
    },
    {
      "cell_type": "code",
      "execution_count": null,
      "metadata": {
        "id": "g-QmchKmYQyY"
      },
      "outputs": [],
      "source": [
        "import numpy as np\n",
        "import pandas as pd\n",
        "df = pd.read_csv('train.csv')\n",
        "df.info()"
      ]
    },
    {
      "cell_type": "code",
      "source": [
        "df.describe()"
      ],
      "metadata": {
        "id": "U20DU5tQeXzh"
      },
      "execution_count": null,
      "outputs": []
    },
    {
      "cell_type": "code",
      "source": [
        "df.head()"
      ],
      "metadata": {
        "id": "21Mb7TU5feEK"
      },
      "execution_count": null,
      "outputs": []
    },
    {
      "cell_type": "markdown",
      "source": [
        "Создание отдельных DataFrame по классам"
      ],
      "metadata": {
        "id": "A9AFT7rv2XEL"
      }
    },
    {
      "cell_type": "code",
      "source": [
        "df1 = df[(df['Pclass'] == 1)]\n",
        "df2 = df[(df['Pclass'] == 2)]\n",
        "df3 = df[(df['Pclass'] == 3)]"
      ],
      "metadata": {
        "id": "sg5xedJapDvm"
      },
      "execution_count": 10,
      "outputs": []
    },
    {
      "cell_type": "markdown",
      "source": [
        "Расчет процентов выживших по классам"
      ],
      "metadata": {
        "id": "gATDsawu2gzo"
      }
    },
    {
      "cell_type": "code",
      "source": [
        "SurvPerc1CL = df1[\"Survived\"].sum()/len(df1)*100\n",
        "SurvPerc1CL"
      ],
      "metadata": {
        "id": "ru752CMAyXVJ"
      },
      "execution_count": null,
      "outputs": []
    },
    {
      "cell_type": "code",
      "source": [
        "SurvPerc2CL = df2[\"Survived\"].sum()/len(df2)*100\n",
        "SurvPerc2CL"
      ],
      "metadata": {
        "id": "003IPqGe0IdO"
      },
      "execution_count": null,
      "outputs": []
    },
    {
      "cell_type": "code",
      "source": [
        "SurvPerc3CL = df3[\"Survived\"].sum()/len(df3)*100\n",
        "SurvPerc3CL"
      ],
      "metadata": {
        "id": "bImT-k_s0MVw"
      },
      "execution_count": null,
      "outputs": []
    },
    {
      "cell_type": "markdown",
      "source": [
        "Пассажиры, возраст которых больше 44 лет"
      ],
      "metadata": {
        "id": "pZvvCvTFKwnF"
      }
    },
    {
      "cell_type": "code",
      "source": [
        "df[df['Age'] > 44]"
      ],
      "metadata": {
        "id": "-EVG4-r3JZDE"
      },
      "execution_count": null,
      "outputs": []
    },
    {
      "cell_type": "markdown",
      "source": [
        "Пассажиры мужского пола, возраст которых больше 44 лет"
      ],
      "metadata": {
        "id": "eMOJUkSWK2i3"
      }
    },
    {
      "cell_type": "code",
      "source": [
        "df[(df['Age'] > 44) & (df['Sex'] == \"male\")]"
      ],
      "metadata": {
        "id": "z7XR58c-KIBJ"
      },
      "execution_count": null,
      "outputs": []
    },
    {
      "cell_type": "markdown",
      "source": [
        "DataFrame с N-местными кабинами (в которых было больше 1 человека)"
      ],
      "metadata": {
        "id": "cvFhD7PeRRtc"
      }
    },
    {
      "cell_type": "code",
      "source": [
        "dfCabMoreThanOne = df['Cabin'].value_counts().loc[lambda x: x > 1]\n",
        "dfCabMoreThanOne"
      ],
      "metadata": {
        "id": "mfAOXf7TLEgL"
      },
      "execution_count": null,
      "outputs": []
    },
    {
      "cell_type": "markdown",
      "source": [
        "Количество N-местных кабин"
      ],
      "metadata": {
        "id": "VmV699L4Rdt6"
      }
    },
    {
      "cell_type": "code",
      "source": [
        "len(dfCabMoreThanOne)"
      ],
      "metadata": {
        "id": "mRAxm1M0QyVb"
      },
      "execution_count": null,
      "outputs": []
    },
    {
      "cell_type": "markdown",
      "source": [
        "Самое популярное мужское имя"
      ],
      "metadata": {
        "id": "AJSPiY4cSKp_"
      }
    },
    {
      "cell_type": "code",
      "source": [
        "dfMale = df[(df['Sex'] == \"male\")]\n",
        "dfMale.head()"
      ],
      "metadata": {
        "id": "Ut6dACELoV72"
      },
      "execution_count": null,
      "outputs": []
    },
    {
      "cell_type": "code",
      "source": [
        "dfCountMale = dfMale[\"Name\"].str.extract(r\"(?:Mr\\.|Master\\.)\\s+(\\w+)\")\n",
        "dfCountMale.value_counts()"
      ],
      "metadata": {
        "id": "oj6hlE3Wpe3x"
      },
      "execution_count": null,
      "outputs": []
    },
    {
      "cell_type": "markdown",
      "source": [
        "Самое популярное женское имя"
      ],
      "metadata": {
        "id": "Ff4Yh5PBuTOP"
      }
    },
    {
      "cell_type": "code",
      "source": [
        "dfFemale = df[(df['Sex'] == \"female\")]\n",
        "dfFemale.head()"
      ],
      "metadata": {
        "id": "ShbjrUI6uXU9"
      },
      "execution_count": null,
      "outputs": []
    },
    {
      "cell_type": "code",
      "source": [
        "dfCountFemale = dfFemale[\"Name\"].str.extract(r\"(?:Mrs\\.|Miss\\.)\\s+[^(]*\\((\\w+)\")\n",
        "dfCountFemale.value_counts()"
      ],
      "metadata": {
        "id": "Kw5x-l2yucxe"
      },
      "execution_count": null,
      "outputs": []
    }
  ]
}